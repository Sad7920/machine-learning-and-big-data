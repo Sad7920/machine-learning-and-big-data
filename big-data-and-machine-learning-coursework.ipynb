{
 "cells": [
  {
   "cell_type": "code",
   "execution_count": 1,
   "id": "ideal-magnet",
   "metadata": {
    "execution": {
     "iopub.execute_input": "2023-04-13T10:00:29.962210Z",
     "iopub.status.busy": "2023-04-13T10:00:29.961502Z",
     "iopub.status.idle": "2023-04-13T10:00:31.390909Z",
     "shell.execute_reply": "2023-04-13T10:00:31.390162Z",
     "shell.execute_reply.started": "2023-04-13T09:46:49.867797Z"
    },
    "papermill": {
     "duration": 1.514834,
     "end_time": "2023-04-13T10:00:31.391134",
     "exception": false,
     "start_time": "2023-04-13T10:00:29.876300",
     "status": "completed"
    },
    "tags": []
   },
   "outputs": [],
   "source": [
    "# for data manipulation and analysis\n",
    "import pandas as pd\n",
    "import numpy as np\n",
    "\n",
    "# for plotting\n",
    "import seaborn as sns\n",
    "import matplotlib.pyplot as plt\n",
    "from mpl_toolkits import mplot3d\n",
    "sns.set_style('darkgrid')\n",
    "\n",
    "# Silhouette analysis\n",
    "from sklearn.metrics import silhouette_score\n",
    "\n",
    "# To perform KMeans clustering \n",
    "from sklearn.cluster import KMeans\n",
    "\n",
    "# for scaling\n",
    "from sklearn.preprocessing import StandardScaler\n",
    "\n",
    "import warnings\n",
    "warnings.filterwarnings('ignore')"
   ]
  },
  {
   "cell_type": "code",
   "execution_count": 2,
   "id": "magnetic-brighton",
   "metadata": {
    "execution": {
     "iopub.execute_input": "2023-04-13T10:00:31.548039Z",
     "iopub.status.busy": "2023-04-13T10:00:31.547320Z",
     "iopub.status.idle": "2023-04-13T10:00:41.129409Z",
     "shell.execute_reply": "2023-04-13T10:00:41.128798Z",
     "shell.execute_reply.started": "2023-04-13T09:46:51.309630Z"
    },
    "papermill": {
     "duration": 9.661299,
     "end_time": "2023-04-13T10:00:41.129575",
     "exception": false,
     "start_time": "2023-04-13T10:00:31.468276",
     "status": "completed"
    },
    "tags": []
   },
   "outputs": [
    {
     "name": "stdout",
     "output_type": "stream",
     "text": [
      "Collecting openpyxl\r\n",
      "  Downloading openpyxl-3.1.2-py2.py3-none-any.whl (249 kB)\r\n",
      "\u001b[K     |████████████████████████████████| 249 kB 7.8 MB/s \r\n",
      "\u001b[?25hCollecting et-xmlfile\r\n",
      "  Downloading et_xmlfile-1.1.0-py3-none-any.whl (4.7 kB)\r\n",
      "Installing collected packages: et-xmlfile, openpyxl\r\n",
      "Successfully installed et-xmlfile-1.1.0 openpyxl-3.1.2\r\n",
      "Note: you may need to restart the kernel to use updated packages.\n"
     ]
    }
   ],
   "source": [
    "pip install openpyxl"
   ]
  },
  {
   "cell_type": "code",
   "execution_count": 3,
   "id": "effective-legislation",
   "metadata": {
    "execution": {
     "iopub.execute_input": "2023-04-13T10:00:41.284997Z",
     "iopub.status.busy": "2023-04-13T10:00:41.284235Z",
     "iopub.status.idle": "2023-04-13T10:00:48.681744Z",
     "shell.execute_reply": "2023-04-13T10:00:48.681119Z",
     "shell.execute_reply.started": "2023-04-13T09:47:01.132262Z"
    },
    "papermill": {
     "duration": 7.476901,
     "end_time": "2023-04-13T10:00:48.681907",
     "exception": false,
     "start_time": "2023-04-13T10:00:41.205006",
     "status": "completed"
    },
    "tags": []
   },
   "outputs": [
    {
     "name": "stdout",
     "output_type": "stream",
     "text": [
      "Collecting xlrd\r\n",
      "  Downloading xlrd-2.0.1-py2.py3-none-any.whl (96 kB)\r\n",
      "\u001b[K     |████████████████████████████████| 96 kB 3.0 MB/s \r\n",
      "\u001b[?25hInstalling collected packages: xlrd\r\n",
      "Successfully installed xlrd-2.0.1\r\n",
      "Note: you may need to restart the kernel to use updated packages.\n"
     ]
    }
   ],
   "source": [
    "pip install xlrd"
   ]
  },
  {
   "cell_type": "code",
   "execution_count": 4,
   "id": "scheduled-playing",
   "metadata": {
    "execution": {
     "iopub.execute_input": "2023-04-13T10:00:48.849464Z",
     "iopub.status.busy": "2023-04-13T10:00:48.848709Z",
     "iopub.status.idle": "2023-04-13T10:02:36.791342Z",
     "shell.execute_reply": "2023-04-13T10:02:36.791911Z",
     "shell.execute_reply.started": "2023-04-13T09:47:08.527528Z"
    },
    "papermill": {
     "duration": 108.031274,
     "end_time": "2023-04-13T10:02:36.792145",
     "exception": false,
     "start_time": "2023-04-13T10:00:48.760871",
     "status": "completed"
    },
    "tags": []
   },
   "outputs": [
    {
     "data": {
      "text/html": [
       "<div>\n",
       "<style scoped>\n",
       "    .dataframe tbody tr th:only-of-type {\n",
       "        vertical-align: middle;\n",
       "    }\n",
       "\n",
       "    .dataframe tbody tr th {\n",
       "        vertical-align: top;\n",
       "    }\n",
       "\n",
       "    .dataframe thead th {\n",
       "        text-align: right;\n",
       "    }\n",
       "</style>\n",
       "<table border=\"1\" class=\"dataframe\">\n",
       "  <thead>\n",
       "    <tr style=\"text-align: right;\">\n",
       "      <th></th>\n",
       "      <th>InvoiceNo</th>\n",
       "      <th>StockCode</th>\n",
       "      <th>Description</th>\n",
       "      <th>Quantity</th>\n",
       "      <th>InvoiceDate</th>\n",
       "      <th>UnitPrice</th>\n",
       "      <th>CustomerID</th>\n",
       "      <th>Country</th>\n",
       "    </tr>\n",
       "  </thead>\n",
       "  <tbody>\n",
       "    <tr>\n",
       "      <th>0</th>\n",
       "      <td>536365</td>\n",
       "      <td>85123A</td>\n",
       "      <td>WHITE HANGING HEART T-LIGHT HOLDER</td>\n",
       "      <td>6</td>\n",
       "      <td>2010-12-01 08:26:00</td>\n",
       "      <td>2.55</td>\n",
       "      <td>17850.0</td>\n",
       "      <td>United Kingdom</td>\n",
       "    </tr>\n",
       "    <tr>\n",
       "      <th>1</th>\n",
       "      <td>536365</td>\n",
       "      <td>71053</td>\n",
       "      <td>WHITE METAL LANTERN</td>\n",
       "      <td>6</td>\n",
       "      <td>2010-12-01 08:26:00</td>\n",
       "      <td>3.39</td>\n",
       "      <td>17850.0</td>\n",
       "      <td>United Kingdom</td>\n",
       "    </tr>\n",
       "    <tr>\n",
       "      <th>2</th>\n",
       "      <td>536365</td>\n",
       "      <td>84406B</td>\n",
       "      <td>CREAM CUPID HEARTS COAT HANGER</td>\n",
       "      <td>8</td>\n",
       "      <td>2010-12-01 08:26:00</td>\n",
       "      <td>2.75</td>\n",
       "      <td>17850.0</td>\n",
       "      <td>United Kingdom</td>\n",
       "    </tr>\n",
       "    <tr>\n",
       "      <th>3</th>\n",
       "      <td>536365</td>\n",
       "      <td>84029G</td>\n",
       "      <td>KNITTED UNION FLAG HOT WATER BOTTLE</td>\n",
       "      <td>6</td>\n",
       "      <td>2010-12-01 08:26:00</td>\n",
       "      <td>3.39</td>\n",
       "      <td>17850.0</td>\n",
       "      <td>United Kingdom</td>\n",
       "    </tr>\n",
       "    <tr>\n",
       "      <th>4</th>\n",
       "      <td>536365</td>\n",
       "      <td>84029E</td>\n",
       "      <td>RED WOOLLY HOTTIE WHITE HEART.</td>\n",
       "      <td>6</td>\n",
       "      <td>2010-12-01 08:26:00</td>\n",
       "      <td>3.39</td>\n",
       "      <td>17850.0</td>\n",
       "      <td>United Kingdom</td>\n",
       "    </tr>\n",
       "  </tbody>\n",
       "</table>\n",
       "</div>"
      ],
      "text/plain": [
       "  InvoiceNo StockCode                          Description  Quantity  \\\n",
       "0    536365    85123A   WHITE HANGING HEART T-LIGHT HOLDER         6   \n",
       "1    536365     71053                  WHITE METAL LANTERN         6   \n",
       "2    536365    84406B       CREAM CUPID HEARTS COAT HANGER         8   \n",
       "3    536365    84029G  KNITTED UNION FLAG HOT WATER BOTTLE         6   \n",
       "4    536365    84029E       RED WOOLLY HOTTIE WHITE HEART.         6   \n",
       "\n",
       "          InvoiceDate  UnitPrice  CustomerID         Country  \n",
       "0 2010-12-01 08:26:00       2.55     17850.0  United Kingdom  \n",
       "1 2010-12-01 08:26:00       3.39     17850.0  United Kingdom  \n",
       "2 2010-12-01 08:26:00       2.75     17850.0  United Kingdom  \n",
       "3 2010-12-01 08:26:00       3.39     17850.0  United Kingdom  \n",
       "4 2010-12-01 08:26:00       3.39     17850.0  United Kingdom  "
      ]
     },
     "execution_count": 4,
     "metadata": {},
     "output_type": "execute_result"
    }
   ],
   "source": [
    "# loading the dataset\n",
    "df = pd.read_excel('/kaggle/input/online-retail-data-set-from-uci-ml-repo/Online Retail.xlsx')\n",
    "\n",
    "# looking at top 5 rows\n",
    "df.head()"
   ]
  },
  {
   "cell_type": "code",
   "execution_count": 5,
   "id": "popular-success",
   "metadata": {
    "execution": {
     "iopub.execute_input": "2023-04-13T10:02:36.967729Z",
     "iopub.status.busy": "2023-04-13T10:02:36.966779Z",
     "iopub.status.idle": "2023-04-13T10:02:36.970329Z",
     "shell.execute_reply": "2023-04-13T10:02:36.970851Z",
     "shell.execute_reply.started": "2023-04-13T09:48:45.486845Z"
    },
    "papermill": {
     "duration": 0.092171,
     "end_time": "2023-04-13T10:02:36.971098",
     "exception": false,
     "start_time": "2023-04-13T10:02:36.878927",
     "status": "completed"
    },
    "tags": []
   },
   "outputs": [
    {
     "data": {
      "text/plain": [
       "(541909, 8)"
      ]
     },
     "execution_count": 5,
     "metadata": {},
     "output_type": "execute_result"
    }
   ],
   "source": [
    "# checking the number of rows and columns\n",
    "df.shape"
   ]
  },
  {
   "cell_type": "code",
   "execution_count": 6,
   "id": "preceding-supervisor",
   "metadata": {
    "execution": {
     "iopub.execute_input": "2023-04-13T10:02:37.140810Z",
     "iopub.status.busy": "2023-04-13T10:02:37.139819Z",
     "iopub.status.idle": "2023-04-13T10:02:37.267583Z",
     "shell.execute_reply": "2023-04-13T10:02:37.266870Z",
     "shell.execute_reply.started": "2023-04-13T09:48:45.495769Z"
    },
    "papermill": {
     "duration": 0.214867,
     "end_time": "2023-04-13T10:02:37.267779",
     "exception": false,
     "start_time": "2023-04-13T10:02:37.052912",
     "status": "completed"
    },
    "tags": []
   },
   "outputs": [
    {
     "name": "stdout",
     "output_type": "stream",
     "text": [
      "<class 'pandas.core.frame.DataFrame'>\n",
      "RangeIndex: 541909 entries, 0 to 541908\n",
      "Data columns (total 8 columns):\n",
      " #   Column       Non-Null Count   Dtype         \n",
      "---  ------       --------------   -----         \n",
      " 0   InvoiceNo    541909 non-null  object        \n",
      " 1   StockCode    541909 non-null  object        \n",
      " 2   Description  540455 non-null  object        \n",
      " 3   Quantity     541909 non-null  int64         \n",
      " 4   InvoiceDate  541909 non-null  datetime64[ns]\n",
      " 5   UnitPrice    541909 non-null  float64       \n",
      " 6   CustomerID   406829 non-null  float64       \n",
      " 7   Country      541909 non-null  object        \n",
      "dtypes: datetime64[ns](1), float64(2), int64(1), object(4)\n",
      "memory usage: 33.1+ MB\n"
     ]
    }
   ],
   "source": [
    "# looking at the overall picture\n",
    "df.info()"
   ]
  },
  {
   "cell_type": "code",
   "execution_count": 7,
   "id": "mysterious-offering",
   "metadata": {
    "execution": {
     "iopub.execute_input": "2023-04-13T10:02:37.433565Z",
     "iopub.status.busy": "2023-04-13T10:02:37.432606Z",
     "iopub.status.idle": "2023-04-13T10:02:37.546178Z",
     "shell.execute_reply": "2023-04-13T10:02:37.545496Z",
     "shell.execute_reply.started": "2023-04-13T09:48:45.620538Z"
    },
    "papermill": {
     "duration": 0.196761,
     "end_time": "2023-04-13T10:02:37.546374",
     "exception": false,
     "start_time": "2023-04-13T10:02:37.349613",
     "status": "completed"
    },
    "tags": []
   },
   "outputs": [
    {
     "data": {
      "text/plain": [
       "InvoiceNo           0\n",
       "StockCode           0\n",
       "Description      1454\n",
       "Quantity            0\n",
       "InvoiceDate         0\n",
       "UnitPrice           0\n",
       "CustomerID     135080\n",
       "Country             0\n",
       "dtype: int64"
      ]
     },
     "execution_count": 7,
     "metadata": {},
     "output_type": "execute_result"
    }
   ],
   "source": [
    "# checking the number of missing values in each column\n",
    "df.isnull().sum()"
   ]
  },
  {
   "cell_type": "markdown",
   "id": "ultimate-infrastructure",
   "metadata": {
    "papermill": {
     "duration": 0.076705,
     "end_time": "2023-04-13T10:02:37.703094",
     "exception": false,
     "start_time": "2023-04-13T10:02:37.626389",
     "status": "completed"
    },
    "tags": []
   },
   "source": [
    "## Basic Cleaning"
   ]
  },
  {
   "cell_type": "code",
   "execution_count": 8,
   "id": "thorough-comment",
   "metadata": {
    "execution": {
     "iopub.execute_input": "2023-04-13T10:02:37.896771Z",
     "iopub.status.busy": "2023-04-13T10:02:37.896000Z",
     "iopub.status.idle": "2023-04-13T10:02:38.238450Z",
     "shell.execute_reply": "2023-04-13T10:02:38.237709Z",
     "shell.execute_reply.started": "2023-04-13T09:48:45.728906Z"
    },
    "papermill": {
     "duration": 0.457078,
     "end_time": "2023-04-13T10:02:38.238610",
     "exception": false,
     "start_time": "2023-04-13T10:02:37.781532",
     "status": "completed"
    },
    "tags": []
   },
   "outputs": [
    {
     "data": {
      "text/plain": [
       "5268"
      ]
     },
     "execution_count": 8,
     "metadata": {},
     "output_type": "execute_result"
    }
   ],
   "source": [
    "# count of duplicated rows in the data\n",
    "df.duplicated().sum()"
   ]
  },
  {
   "cell_type": "code",
   "execution_count": 9,
   "id": "alive-purple",
   "metadata": {
    "execution": {
     "iopub.execute_input": "2023-04-13T10:02:38.432307Z",
     "iopub.status.busy": "2023-04-13T10:02:38.431548Z",
     "iopub.status.idle": "2023-04-13T10:02:38.773587Z",
     "shell.execute_reply": "2023-04-13T10:02:38.772852Z",
     "shell.execute_reply.started": "2023-04-13T09:48:46.040950Z"
    },
    "papermill": {
     "duration": 0.455385,
     "end_time": "2023-04-13T10:02:38.773769",
     "exception": false,
     "start_time": "2023-04-13T10:02:38.318384",
     "status": "completed"
    },
    "tags": []
   },
   "outputs": [
    {
     "data": {
      "text/plain": [
       "(536641, 8)"
      ]
     },
     "execution_count": 9,
     "metadata": {},
     "output_type": "execute_result"
    }
   ],
   "source": [
    "# removing the duplicate rows\n",
    "df = df[~df.duplicated()]\n",
    "df.shape"
   ]
  },
  {
   "cell_type": "markdown",
   "id": "popular-jurisdiction",
   "metadata": {
    "papermill": {
     "duration": 0.081327,
     "end_time": "2023-04-13T10:02:38.936497",
     "exception": false,
     "start_time": "2023-04-13T10:02:38.855170",
     "status": "completed"
    },
    "tags": []
   },
   "source": [
    "##### InvoiceNo"
   ]
  },
  {
   "cell_type": "code",
   "execution_count": 10,
   "id": "nervous-correspondence",
   "metadata": {
    "execution": {
     "iopub.execute_input": "2023-04-13T10:02:39.128624Z",
     "iopub.status.busy": "2023-04-13T10:02:39.127824Z",
     "iopub.status.idle": "2023-04-13T10:02:39.712498Z",
     "shell.execute_reply": "2023-04-13T10:02:39.711860Z",
     "shell.execute_reply.started": "2023-04-13T09:48:46.402281Z"
    },
    "papermill": {
     "duration": 0.695928,
     "end_time": "2023-04-13T10:02:39.712668",
     "exception": false,
     "start_time": "2023-04-13T10:02:39.016740",
     "status": "completed"
    },
    "tags": []
   },
   "outputs": [
    {
     "data": {
      "text/html": [
       "<div>\n",
       "<style scoped>\n",
       "    .dataframe tbody tr th:only-of-type {\n",
       "        vertical-align: middle;\n",
       "    }\n",
       "\n",
       "    .dataframe tbody tr th {\n",
       "        vertical-align: top;\n",
       "    }\n",
       "\n",
       "    .dataframe thead th {\n",
       "        text-align: right;\n",
       "    }\n",
       "</style>\n",
       "<table border=\"1\" class=\"dataframe\">\n",
       "  <thead>\n",
       "    <tr style=\"text-align: right;\">\n",
       "      <th></th>\n",
       "      <th>InvoiceNo</th>\n",
       "      <th>StockCode</th>\n",
       "      <th>Description</th>\n",
       "      <th>Quantity</th>\n",
       "      <th>InvoiceDate</th>\n",
       "      <th>UnitPrice</th>\n",
       "      <th>CustomerID</th>\n",
       "      <th>Country</th>\n",
       "    </tr>\n",
       "  </thead>\n",
       "  <tbody>\n",
       "    <tr>\n",
       "      <th>141</th>\n",
       "      <td>C536379</td>\n",
       "      <td>D</td>\n",
       "      <td>Discount</td>\n",
       "      <td>-1</td>\n",
       "      <td>2010-12-01 09:41:00</td>\n",
       "      <td>27.50</td>\n",
       "      <td>14527.0</td>\n",
       "      <td>United Kingdom</td>\n",
       "    </tr>\n",
       "    <tr>\n",
       "      <th>154</th>\n",
       "      <td>C536383</td>\n",
       "      <td>35004C</td>\n",
       "      <td>SET OF 3 COLOURED  FLYING DUCKS</td>\n",
       "      <td>-1</td>\n",
       "      <td>2010-12-01 09:49:00</td>\n",
       "      <td>4.65</td>\n",
       "      <td>15311.0</td>\n",
       "      <td>United Kingdom</td>\n",
       "    </tr>\n",
       "    <tr>\n",
       "      <th>235</th>\n",
       "      <td>C536391</td>\n",
       "      <td>22556</td>\n",
       "      <td>PLASTERS IN TIN CIRCUS PARADE</td>\n",
       "      <td>-12</td>\n",
       "      <td>2010-12-01 10:24:00</td>\n",
       "      <td>1.65</td>\n",
       "      <td>17548.0</td>\n",
       "      <td>United Kingdom</td>\n",
       "    </tr>\n",
       "    <tr>\n",
       "      <th>236</th>\n",
       "      <td>C536391</td>\n",
       "      <td>21984</td>\n",
       "      <td>PACK OF 12 PINK PAISLEY TISSUES</td>\n",
       "      <td>-24</td>\n",
       "      <td>2010-12-01 10:24:00</td>\n",
       "      <td>0.29</td>\n",
       "      <td>17548.0</td>\n",
       "      <td>United Kingdom</td>\n",
       "    </tr>\n",
       "    <tr>\n",
       "      <th>237</th>\n",
       "      <td>C536391</td>\n",
       "      <td>21983</td>\n",
       "      <td>PACK OF 12 BLUE PAISLEY TISSUES</td>\n",
       "      <td>-24</td>\n",
       "      <td>2010-12-01 10:24:00</td>\n",
       "      <td>0.29</td>\n",
       "      <td>17548.0</td>\n",
       "      <td>United Kingdom</td>\n",
       "    </tr>\n",
       "    <tr>\n",
       "      <th>...</th>\n",
       "      <td>...</td>\n",
       "      <td>...</td>\n",
       "      <td>...</td>\n",
       "      <td>...</td>\n",
       "      <td>...</td>\n",
       "      <td>...</td>\n",
       "      <td>...</td>\n",
       "      <td>...</td>\n",
       "    </tr>\n",
       "    <tr>\n",
       "      <th>540449</th>\n",
       "      <td>C581490</td>\n",
       "      <td>23144</td>\n",
       "      <td>ZINC T-LIGHT HOLDER STARS SMALL</td>\n",
       "      <td>-11</td>\n",
       "      <td>2011-12-09 09:57:00</td>\n",
       "      <td>0.83</td>\n",
       "      <td>14397.0</td>\n",
       "      <td>United Kingdom</td>\n",
       "    </tr>\n",
       "    <tr>\n",
       "      <th>541541</th>\n",
       "      <td>C581499</td>\n",
       "      <td>M</td>\n",
       "      <td>Manual</td>\n",
       "      <td>-1</td>\n",
       "      <td>2011-12-09 10:28:00</td>\n",
       "      <td>224.69</td>\n",
       "      <td>15498.0</td>\n",
       "      <td>United Kingdom</td>\n",
       "    </tr>\n",
       "    <tr>\n",
       "      <th>541715</th>\n",
       "      <td>C581568</td>\n",
       "      <td>21258</td>\n",
       "      <td>VICTORIAN SEWING BOX LARGE</td>\n",
       "      <td>-5</td>\n",
       "      <td>2011-12-09 11:57:00</td>\n",
       "      <td>10.95</td>\n",
       "      <td>15311.0</td>\n",
       "      <td>United Kingdom</td>\n",
       "    </tr>\n",
       "    <tr>\n",
       "      <th>541716</th>\n",
       "      <td>C581569</td>\n",
       "      <td>84978</td>\n",
       "      <td>HANGING HEART JAR T-LIGHT HOLDER</td>\n",
       "      <td>-1</td>\n",
       "      <td>2011-12-09 11:58:00</td>\n",
       "      <td>1.25</td>\n",
       "      <td>17315.0</td>\n",
       "      <td>United Kingdom</td>\n",
       "    </tr>\n",
       "    <tr>\n",
       "      <th>541717</th>\n",
       "      <td>C581569</td>\n",
       "      <td>20979</td>\n",
       "      <td>36 PENCILS TUBE RED RETROSPOT</td>\n",
       "      <td>-5</td>\n",
       "      <td>2011-12-09 11:58:00</td>\n",
       "      <td>1.25</td>\n",
       "      <td>17315.0</td>\n",
       "      <td>United Kingdom</td>\n",
       "    </tr>\n",
       "  </tbody>\n",
       "</table>\n",
       "<p>9251 rows × 8 columns</p>\n",
       "</div>"
      ],
      "text/plain": [
       "       InvoiceNo StockCode                       Description  Quantity  \\\n",
       "141      C536379         D                          Discount        -1   \n",
       "154      C536383    35004C   SET OF 3 COLOURED  FLYING DUCKS        -1   \n",
       "235      C536391     22556    PLASTERS IN TIN CIRCUS PARADE        -12   \n",
       "236      C536391     21984  PACK OF 12 PINK PAISLEY TISSUES        -24   \n",
       "237      C536391     21983  PACK OF 12 BLUE PAISLEY TISSUES        -24   \n",
       "...          ...       ...                               ...       ...   \n",
       "540449   C581490     23144   ZINC T-LIGHT HOLDER STARS SMALL       -11   \n",
       "541541   C581499         M                            Manual        -1   \n",
       "541715   C581568     21258        VICTORIAN SEWING BOX LARGE        -5   \n",
       "541716   C581569     84978  HANGING HEART JAR T-LIGHT HOLDER        -1   \n",
       "541717   C581569     20979     36 PENCILS TUBE RED RETROSPOT        -5   \n",
       "\n",
       "               InvoiceDate  UnitPrice  CustomerID         Country  \n",
       "141    2010-12-01 09:41:00      27.50     14527.0  United Kingdom  \n",
       "154    2010-12-01 09:49:00       4.65     15311.0  United Kingdom  \n",
       "235    2010-12-01 10:24:00       1.65     17548.0  United Kingdom  \n",
       "236    2010-12-01 10:24:00       0.29     17548.0  United Kingdom  \n",
       "237    2010-12-01 10:24:00       0.29     17548.0  United Kingdom  \n",
       "...                    ...        ...         ...             ...  \n",
       "540449 2011-12-09 09:57:00       0.83     14397.0  United Kingdom  \n",
       "541541 2011-12-09 10:28:00     224.69     15498.0  United Kingdom  \n",
       "541715 2011-12-09 11:57:00      10.95     15311.0  United Kingdom  \n",
       "541716 2011-12-09 11:58:00       1.25     17315.0  United Kingdom  \n",
       "541717 2011-12-09 11:58:00       1.25     17315.0  United Kingdom  \n",
       "\n",
       "[9251 rows x 8 columns]"
      ]
     },
     "execution_count": 10,
     "metadata": {},
     "output_type": "execute_result"
    }
   ],
   "source": [
    "# these are the transactions that have negative quantity which indicates returned or cancelled orders\n",
    "df[df['InvoiceNo'].str.startswith('C')==True]"
   ]
  },
  {
   "cell_type": "code",
   "execution_count": 11,
   "id": "female-heather",
   "metadata": {
    "execution": {
     "iopub.execute_input": "2023-04-13T10:02:39.879744Z",
     "iopub.status.busy": "2023-04-13T10:02:39.878982Z",
     "iopub.status.idle": "2023-04-13T10:02:40.514859Z",
     "shell.execute_reply": "2023-04-13T10:02:40.515643Z",
     "shell.execute_reply.started": "2023-04-13T09:48:47.022027Z"
    },
    "papermill": {
     "duration": 0.722457,
     "end_time": "2023-04-13T10:02:40.515890",
     "exception": false,
     "start_time": "2023-04-13T10:02:39.793433",
     "status": "completed"
    },
    "tags": []
   },
   "outputs": [
    {
     "data": {
      "text/plain": [
       "(527390, 8)"
      ]
     },
     "execution_count": 11,
     "metadata": {},
     "output_type": "execute_result"
    }
   ],
   "source": [
    "# removing all the invoice number which starts with 'C' as they are returned orders\n",
    "df = df[df['InvoiceNo'].str.startswith('C')!=True]\n",
    "df.shape"
   ]
  },
  {
   "cell_type": "code",
   "execution_count": 12,
   "id": "analyzed-interstate",
   "metadata": {
    "execution": {
     "iopub.execute_input": "2023-04-13T10:02:40.729045Z",
     "iopub.status.busy": "2023-04-13T10:02:40.728211Z",
     "iopub.status.idle": "2023-04-13T10:02:40.824215Z",
     "shell.execute_reply": "2023-04-13T10:02:40.825108Z",
     "shell.execute_reply.started": "2023-04-13T09:48:47.653205Z"
    },
    "papermill": {
     "duration": 0.201304,
     "end_time": "2023-04-13T10:02:40.825411",
     "exception": false,
     "start_time": "2023-04-13T10:02:40.624107",
     "status": "completed"
    },
    "tags": []
   },
   "outputs": [
    {
     "data": {
      "text/plain": [
       "22064"
      ]
     },
     "execution_count": 12,
     "metadata": {},
     "output_type": "execute_result"
    }
   ],
   "source": [
    "# checking the number of unique transactions\n",
    "# though there are more than 5 lakh entries but the number of transaction happened is 21892\n",
    "df.InvoiceNo.nunique()"
   ]
  },
  {
   "cell_type": "markdown",
   "id": "random-french",
   "metadata": {
    "papermill": {
     "duration": 0.105843,
     "end_time": "2023-04-13T10:02:41.027729",
     "exception": false,
     "start_time": "2023-04-13T10:02:40.921886",
     "status": "completed"
    },
    "tags": []
   },
   "source": [
    "##### Stock Code"
   ]
  },
  {
   "cell_type": "code",
   "execution_count": 13,
   "id": "empirical-peace",
   "metadata": {
    "execution": {
     "iopub.execute_input": "2023-04-13T10:02:41.203116Z",
     "iopub.status.busy": "2023-04-13T10:02:41.202266Z",
     "iopub.status.idle": "2023-04-13T10:02:41.269624Z",
     "shell.execute_reply": "2023-04-13T10:02:41.268716Z",
     "shell.execute_reply.started": "2023-04-13T09:48:47.724241Z"
    },
    "papermill": {
     "duration": 0.153465,
     "end_time": "2023-04-13T10:02:41.269875",
     "exception": false,
     "start_time": "2023-04-13T10:02:41.116410",
     "status": "completed"
    },
    "tags": []
   },
   "outputs": [
    {
     "data": {
      "text/plain": [
       "4059"
      ]
     },
     "execution_count": 13,
     "metadata": {},
     "output_type": "execute_result"
    }
   ],
   "source": [
    "# checking the unique stock ids in the data or number of unqiue item sold by retailer\n",
    "df.StockCode.nunique()"
   ]
  },
  {
   "cell_type": "code",
   "execution_count": 14,
   "id": "provincial-argument",
   "metadata": {
    "execution": {
     "iopub.execute_input": "2023-04-13T10:02:41.449524Z",
     "iopub.status.busy": "2023-04-13T10:02:41.448722Z",
     "iopub.status.idle": "2023-04-13T10:02:41.553104Z",
     "shell.execute_reply": "2023-04-13T10:02:41.553631Z",
     "shell.execute_reply.started": "2023-04-13T09:48:47.777424Z"
    },
    "papermill": {
     "duration": 0.192583,
     "end_time": "2023-04-13T10:02:41.553845",
     "exception": false,
     "start_time": "2023-04-13T10:02:41.361262",
     "status": "completed"
    },
    "tags": []
   },
   "outputs": [
    {
     "data": {
      "text/plain": [
       "85123A    2259\n",
       "85099B    2112\n",
       "22423     2012\n",
       "47566     1700\n",
       "20725     1582\n",
       "84879     1477\n",
       "22197     1418\n",
       "22720     1396\n",
       "21212     1352\n",
       "22383     1307\n",
       "Name: StockCode, dtype: int64"
      ]
     },
     "execution_count": 14,
     "metadata": {},
     "output_type": "execute_result"
    }
   ],
   "source": [
    "# top 10 stock ids that sold the most\n",
    "df.StockCode.value_counts().head(10)"
   ]
  },
  {
   "cell_type": "markdown",
   "id": "natural-physics",
   "metadata": {
    "papermill": {
     "duration": 0.080858,
     "end_time": "2023-04-13T10:02:41.726016",
     "exception": false,
     "start_time": "2023-04-13T10:02:41.645158",
     "status": "completed"
    },
    "tags": []
   },
   "source": [
    "##### Quantity"
   ]
  },
  {
   "cell_type": "code",
   "execution_count": 15,
   "id": "lucky-witness",
   "metadata": {
    "execution": {
     "iopub.execute_input": "2023-04-13T10:02:41.897252Z",
     "iopub.status.busy": "2023-04-13T10:02:41.895928Z",
     "iopub.status.idle": "2023-04-13T10:02:41.926330Z",
     "shell.execute_reply": "2023-04-13T10:02:41.925763Z",
     "shell.execute_reply.started": "2023-04-13T09:48:47.837663Z"
    },
    "papermill": {
     "duration": 0.118408,
     "end_time": "2023-04-13T10:02:41.926491",
     "exception": false,
     "start_time": "2023-04-13T10:02:41.808083",
     "status": "completed"
    },
    "tags": []
   },
   "outputs": [
    {
     "data": {
      "text/plain": [
       "count    527390.000000\n",
       "mean         10.311272\n",
       "std         160.367285\n",
       "min       -9600.000000\n",
       "25%           1.000000\n",
       "50%           3.000000\n",
       "75%          11.000000\n",
       "max       80995.000000\n",
       "Name: Quantity, dtype: float64"
      ]
     },
     "execution_count": 15,
     "metadata": {},
     "output_type": "execute_result"
    }
   ],
   "source": [
    "# looking at the distribution of the quantity\n",
    "# we seen that there is negative value which might indicate return orders\n",
    "df.Quantity.describe()"
   ]
  },
  {
   "cell_type": "code",
   "execution_count": 16,
   "id": "broadband-luxury",
   "metadata": {
    "execution": {
     "iopub.execute_input": "2023-04-13T10:02:42.098762Z",
     "iopub.status.busy": "2023-04-13T10:02:42.097904Z",
     "iopub.status.idle": "2023-04-13T10:02:42.149032Z",
     "shell.execute_reply": "2023-04-13T10:02:42.149781Z",
     "shell.execute_reply.started": "2023-04-13T09:48:47.880254Z"
    },
    "papermill": {
     "duration": 0.138065,
     "end_time": "2023-04-13T10:02:42.150006",
     "exception": false,
     "start_time": "2023-04-13T10:02:42.011941",
     "status": "completed"
    },
    "tags": []
   },
   "outputs": [
    {
     "data": {
      "text/html": [
       "<div>\n",
       "<style scoped>\n",
       "    .dataframe tbody tr th:only-of-type {\n",
       "        vertical-align: middle;\n",
       "    }\n",
       "\n",
       "    .dataframe tbody tr th {\n",
       "        vertical-align: top;\n",
       "    }\n",
       "\n",
       "    .dataframe thead th {\n",
       "        text-align: right;\n",
       "    }\n",
       "</style>\n",
       "<table border=\"1\" class=\"dataframe\">\n",
       "  <thead>\n",
       "    <tr style=\"text-align: right;\">\n",
       "      <th></th>\n",
       "      <th>InvoiceNo</th>\n",
       "      <th>StockCode</th>\n",
       "      <th>Description</th>\n",
       "      <th>Quantity</th>\n",
       "      <th>InvoiceDate</th>\n",
       "      <th>UnitPrice</th>\n",
       "      <th>CustomerID</th>\n",
       "      <th>Country</th>\n",
       "    </tr>\n",
       "  </thead>\n",
       "  <tbody>\n",
       "    <tr>\n",
       "      <th>2406</th>\n",
       "      <td>536589</td>\n",
       "      <td>21777</td>\n",
       "      <td>NaN</td>\n",
       "      <td>-10</td>\n",
       "      <td>2010-12-01 16:50:00</td>\n",
       "      <td>0.0</td>\n",
       "      <td>NaN</td>\n",
       "      <td>United Kingdom</td>\n",
       "    </tr>\n",
       "    <tr>\n",
       "      <th>4347</th>\n",
       "      <td>536764</td>\n",
       "      <td>84952C</td>\n",
       "      <td>NaN</td>\n",
       "      <td>-38</td>\n",
       "      <td>2010-12-02 14:42:00</td>\n",
       "      <td>0.0</td>\n",
       "      <td>NaN</td>\n",
       "      <td>United Kingdom</td>\n",
       "    </tr>\n",
       "    <tr>\n",
       "      <th>7188</th>\n",
       "      <td>536996</td>\n",
       "      <td>22712</td>\n",
       "      <td>NaN</td>\n",
       "      <td>-20</td>\n",
       "      <td>2010-12-03 15:30:00</td>\n",
       "      <td>0.0</td>\n",
       "      <td>NaN</td>\n",
       "      <td>United Kingdom</td>\n",
       "    </tr>\n",
       "    <tr>\n",
       "      <th>7189</th>\n",
       "      <td>536997</td>\n",
       "      <td>22028</td>\n",
       "      <td>NaN</td>\n",
       "      <td>-20</td>\n",
       "      <td>2010-12-03 15:30:00</td>\n",
       "      <td>0.0</td>\n",
       "      <td>NaN</td>\n",
       "      <td>United Kingdom</td>\n",
       "    </tr>\n",
       "    <tr>\n",
       "      <th>7190</th>\n",
       "      <td>536998</td>\n",
       "      <td>85067</td>\n",
       "      <td>NaN</td>\n",
       "      <td>-6</td>\n",
       "      <td>2010-12-03 15:30:00</td>\n",
       "      <td>0.0</td>\n",
       "      <td>NaN</td>\n",
       "      <td>United Kingdom</td>\n",
       "    </tr>\n",
       "    <tr>\n",
       "      <th>...</th>\n",
       "      <td>...</td>\n",
       "      <td>...</td>\n",
       "      <td>...</td>\n",
       "      <td>...</td>\n",
       "      <td>...</td>\n",
       "      <td>...</td>\n",
       "      <td>...</td>\n",
       "      <td>...</td>\n",
       "    </tr>\n",
       "    <tr>\n",
       "      <th>535333</th>\n",
       "      <td>581210</td>\n",
       "      <td>23395</td>\n",
       "      <td>check</td>\n",
       "      <td>-26</td>\n",
       "      <td>2011-12-07 18:36:00</td>\n",
       "      <td>0.0</td>\n",
       "      <td>NaN</td>\n",
       "      <td>United Kingdom</td>\n",
       "    </tr>\n",
       "    <tr>\n",
       "      <th>535335</th>\n",
       "      <td>581212</td>\n",
       "      <td>22578</td>\n",
       "      <td>lost</td>\n",
       "      <td>-1050</td>\n",
       "      <td>2011-12-07 18:38:00</td>\n",
       "      <td>0.0</td>\n",
       "      <td>NaN</td>\n",
       "      <td>United Kingdom</td>\n",
       "    </tr>\n",
       "    <tr>\n",
       "      <th>535336</th>\n",
       "      <td>581213</td>\n",
       "      <td>22576</td>\n",
       "      <td>check</td>\n",
       "      <td>-30</td>\n",
       "      <td>2011-12-07 18:38:00</td>\n",
       "      <td>0.0</td>\n",
       "      <td>NaN</td>\n",
       "      <td>United Kingdom</td>\n",
       "    </tr>\n",
       "    <tr>\n",
       "      <th>536908</th>\n",
       "      <td>581226</td>\n",
       "      <td>23090</td>\n",
       "      <td>missing</td>\n",
       "      <td>-338</td>\n",
       "      <td>2011-12-08 09:56:00</td>\n",
       "      <td>0.0</td>\n",
       "      <td>NaN</td>\n",
       "      <td>United Kingdom</td>\n",
       "    </tr>\n",
       "    <tr>\n",
       "      <th>538919</th>\n",
       "      <td>581422</td>\n",
       "      <td>23169</td>\n",
       "      <td>smashed</td>\n",
       "      <td>-235</td>\n",
       "      <td>2011-12-08 15:24:00</td>\n",
       "      <td>0.0</td>\n",
       "      <td>NaN</td>\n",
       "      <td>United Kingdom</td>\n",
       "    </tr>\n",
       "  </tbody>\n",
       "</table>\n",
       "<p>1336 rows × 8 columns</p>\n",
       "</div>"
      ],
      "text/plain": [
       "       InvoiceNo StockCode Description  Quantity         InvoiceDate  \\\n",
       "2406      536589     21777         NaN       -10 2010-12-01 16:50:00   \n",
       "4347      536764    84952C         NaN       -38 2010-12-02 14:42:00   \n",
       "7188      536996     22712         NaN       -20 2010-12-03 15:30:00   \n",
       "7189      536997     22028         NaN       -20 2010-12-03 15:30:00   \n",
       "7190      536998     85067         NaN        -6 2010-12-03 15:30:00   \n",
       "...          ...       ...         ...       ...                 ...   \n",
       "535333    581210     23395       check       -26 2011-12-07 18:36:00   \n",
       "535335    581212     22578        lost     -1050 2011-12-07 18:38:00   \n",
       "535336    581213     22576       check       -30 2011-12-07 18:38:00   \n",
       "536908    581226     23090     missing      -338 2011-12-08 09:56:00   \n",
       "538919    581422     23169     smashed      -235 2011-12-08 15:24:00   \n",
       "\n",
       "        UnitPrice  CustomerID         Country  \n",
       "2406          0.0         NaN  United Kingdom  \n",
       "4347          0.0         NaN  United Kingdom  \n",
       "7188          0.0         NaN  United Kingdom  \n",
       "7189          0.0         NaN  United Kingdom  \n",
       "7190          0.0         NaN  United Kingdom  \n",
       "...           ...         ...             ...  \n",
       "535333        0.0         NaN  United Kingdom  \n",
       "535335        0.0         NaN  United Kingdom  \n",
       "535336        0.0         NaN  United Kingdom  \n",
       "536908        0.0         NaN  United Kingdom  \n",
       "538919        0.0         NaN  United Kingdom  \n",
       "\n",
       "[1336 rows x 8 columns]"
      ]
     },
     "execution_count": 16,
     "metadata": {},
     "output_type": "execute_result"
    }
   ],
   "source": [
    "# looking at the data where quantity is negative and possible explanation is these are return orders or cancelled order\n",
    "df[df['Quantity']<0]"
   ]
  },
  {
   "cell_type": "code",
   "execution_count": 17,
   "id": "automotive-income",
   "metadata": {
    "execution": {
     "iopub.execute_input": "2023-04-13T10:02:42.327264Z",
     "iopub.status.busy": "2023-04-13T10:02:42.325612Z",
     "iopub.status.idle": "2023-04-13T10:02:42.399726Z",
     "shell.execute_reply": "2023-04-13T10:02:42.400426Z",
     "shell.execute_reply.started": "2023-04-13T09:48:47.926698Z"
    },
    "papermill": {
     "duration": 0.165701,
     "end_time": "2023-04-13T10:02:42.400646",
     "exception": false,
     "start_time": "2023-04-13T10:02:42.234945",
     "status": "completed"
    },
    "tags": []
   },
   "outputs": [
    {
     "data": {
      "text/plain": [
       "(526054, 8)"
      ]
     },
     "execution_count": 17,
     "metadata": {},
     "output_type": "execute_result"
    }
   ],
   "source": [
    "# keeping only those transactions that have successfully ordered\n",
    "df = df[df['Quantity']>=0]\n",
    "df.shape"
   ]
  },
  {
   "cell_type": "markdown",
   "id": "sensitive-holocaust",
   "metadata": {
    "papermill": {
     "duration": 0.082975,
     "end_time": "2023-04-13T10:02:42.570699",
     "exception": false,
     "start_time": "2023-04-13T10:02:42.487724",
     "status": "completed"
    },
    "tags": []
   },
   "source": [
    "##### Invoice Date"
   ]
  },
  {
   "cell_type": "code",
   "execution_count": 18,
   "id": "eastern-dallas",
   "metadata": {
    "execution": {
     "iopub.execute_input": "2023-04-13T10:02:42.742449Z",
     "iopub.status.busy": "2023-04-13T10:02:42.741673Z",
     "iopub.status.idle": "2023-04-13T10:02:42.752713Z",
     "shell.execute_reply": "2023-04-13T10:02:42.752033Z",
     "shell.execute_reply.started": "2023-04-13T09:48:47.997386Z"
    },
    "papermill": {
     "duration": 0.098245,
     "end_time": "2023-04-13T10:02:42.752897",
     "exception": false,
     "start_time": "2023-04-13T10:02:42.654652",
     "status": "completed"
    },
    "tags": []
   },
   "outputs": [
    {
     "name": "stdout",
     "output_type": "stream",
     "text": [
      "The minimum date is: 2010-12-01 08:26:00\n",
      "The maximum date is: 2011-12-09 12:50:00\n"
     ]
    }
   ],
   "source": [
    "print('The minimum date is:',df.InvoiceDate.min())\n",
    "print('The maximum date is:',df.InvoiceDate.max())"
   ]
  },
  {
   "cell_type": "markdown",
   "id": "alive-imaging",
   "metadata": {
    "papermill": {
     "duration": 0.083242,
     "end_time": "2023-04-13T10:02:42.920426",
     "exception": false,
     "start_time": "2023-04-13T10:02:42.837184",
     "status": "completed"
    },
    "tags": []
   },
   "source": [
    "##### Unit Price"
   ]
  },
  {
   "cell_type": "code",
   "execution_count": 19,
   "id": "constitutional-masters",
   "metadata": {
    "execution": {
     "iopub.execute_input": "2023-04-13T10:02:43.093645Z",
     "iopub.status.busy": "2023-04-13T10:02:43.092835Z",
     "iopub.status.idle": "2023-04-13T10:02:43.132843Z",
     "shell.execute_reply": "2023-04-13T10:02:43.132241Z",
     "shell.execute_reply.started": "2023-04-13T09:48:48.012089Z"
    },
    "papermill": {
     "duration": 0.130693,
     "end_time": "2023-04-13T10:02:43.133001",
     "exception": false,
     "start_time": "2023-04-13T10:02:43.002308",
     "status": "completed"
    },
    "tags": []
   },
   "outputs": [
    {
     "data": {
      "text/plain": [
       "count    526054.000000\n",
       "mean          3.871747\n",
       "std          42.016560\n",
       "min      -11062.060000\n",
       "25%           1.250000\n",
       "50%           2.080000\n",
       "75%           4.130000\n",
       "90%           7.950000\n",
       "95%           9.950000\n",
       "99%          16.980000\n",
       "max       13541.330000\n",
       "Name: UnitPrice, dtype: float64"
      ]
     },
     "execution_count": 19,
     "metadata": {},
     "output_type": "execute_result"
    }
   ],
   "source": [
    "# checking the distribution of unit price\n",
    "df.UnitPrice.describe(percentiles=[0.25,0.5,0.75,0.9,0.95,0.99])"
   ]
  },
  {
   "cell_type": "markdown",
   "id": "egyptian-binary",
   "metadata": {
    "papermill": {
     "duration": 0.082256,
     "end_time": "2023-04-13T10:02:43.299012",
     "exception": false,
     "start_time": "2023-04-13T10:02:43.216756",
     "status": "completed"
    },
    "tags": []
   },
   "source": [
    "##### Country"
   ]
  },
  {
   "cell_type": "code",
   "execution_count": 20,
   "id": "tamil-wagon",
   "metadata": {
    "execution": {
     "iopub.execute_input": "2023-04-13T10:02:43.475286Z",
     "iopub.status.busy": "2023-04-13T10:02:43.474462Z",
     "iopub.status.idle": "2023-04-13T10:02:43.530572Z",
     "shell.execute_reply": "2023-04-13T10:02:43.531171Z",
     "shell.execute_reply.started": "2023-04-13T09:48:48.047958Z"
    },
    "papermill": {
     "duration": 0.143803,
     "end_time": "2023-04-13T10:02:43.531405",
     "exception": false,
     "start_time": "2023-04-13T10:02:43.387602",
     "status": "completed"
    },
    "tags": []
   },
   "outputs": [
    {
     "data": {
      "text/plain": [
       "United Kingdom          0.914627\n",
       "Germany                 0.017160\n",
       "France                  0.015955\n",
       "EIRE                    0.014985\n",
       "Spain                   0.004714\n",
       "Netherlands             0.004492\n",
       "Belgium                 0.003861\n",
       "Switzerland             0.003724\n",
       "Portugal                0.002836\n",
       "Australia               0.002251\n",
       "Norway                  0.002038\n",
       "Italy                   0.001441\n",
       "Channel Islands         0.001420\n",
       "Finland                 0.001302\n",
       "Cyprus                  0.001146\n",
       "Sweden                  0.000855\n",
       "Unspecified             0.000840\n",
       "Austria                 0.000757\n",
       "Denmark                 0.000722\n",
       "Poland                  0.000627\n",
       "Japan                   0.000610\n",
       "Israel                  0.000555\n",
       "Hong Kong               0.000532\n",
       "Singapore               0.000422\n",
       "Iceland                 0.000346\n",
       "USA                     0.000340\n",
       "Canada                  0.000287\n",
       "Greece                  0.000276\n",
       "Malta                   0.000213\n",
       "United Arab Emirates    0.000129\n",
       "European Community      0.000114\n",
       "RSA                     0.000110\n",
       "Lebanon                 0.000086\n",
       "Lithuania               0.000067\n",
       "Brazil                  0.000061\n",
       "Czech Republic          0.000048\n",
       "Bahrain                 0.000034\n",
       "Saudi Arabia            0.000017\n",
       "Name: Country, dtype: float64"
      ]
     },
     "execution_count": 20,
     "metadata": {},
     "output_type": "execute_result"
    }
   ],
   "source": [
    "# we see that more than 90% have country as UK which is obvious as the retailer is UK based\n",
    "df.Country.value_counts(normalize=True)"
   ]
  },
  {
   "cell_type": "code",
   "execution_count": 21,
   "id": "enhanced-subscriber",
   "metadata": {
    "execution": {
     "iopub.execute_input": "2023-04-13T10:02:43.707027Z",
     "iopub.status.busy": "2023-04-13T10:02:43.705940Z",
     "iopub.status.idle": "2023-04-13T10:02:43.865401Z",
     "shell.execute_reply": "2023-04-13T10:02:43.864605Z",
     "shell.execute_reply.started": "2023-04-13T09:48:48.108240Z"
    },
    "papermill": {
     "duration": 0.248175,
     "end_time": "2023-04-13T10:02:43.865580",
     "exception": false,
     "start_time": "2023-04-13T10:02:43.617405",
     "status": "completed"
    },
    "tags": []
   },
   "outputs": [
    {
     "data": {
      "text/plain": [
       "United Kingdom    0.914627\n",
       "Others            0.085373\n",
       "Name: Country, dtype: float64"
      ]
     },
     "execution_count": 21,
     "metadata": {},
     "output_type": "execute_result"
    }
   ],
   "source": [
    "# putting UK as one country and combine rest countries into one category\n",
    "df['Country'] = df['Country'].apply(lambda x:'United Kingdom' if x=='United Kingdom' else 'Others')\n",
    "df.Country.value_counts(normalize=True)"
   ]
  },
  {
   "cell_type": "markdown",
   "id": "arranged-community",
   "metadata": {
    "papermill": {
     "duration": 0.089612,
     "end_time": "2023-04-13T10:02:44.040435",
     "exception": false,
     "start_time": "2023-04-13T10:02:43.950823",
     "status": "completed"
    },
    "tags": []
   },
   "source": [
    "##### Description"
   ]
  },
  {
   "cell_type": "code",
   "execution_count": 22,
   "id": "vocational-champagne",
   "metadata": {
    "execution": {
     "iopub.execute_input": "2023-04-13T10:02:44.246090Z",
     "iopub.status.busy": "2023-04-13T10:02:44.245315Z",
     "iopub.status.idle": "2023-04-13T10:02:44.318412Z",
     "shell.execute_reply": "2023-04-13T10:02:44.317627Z",
     "shell.execute_reply.started": "2023-04-13T09:48:48.291898Z"
    },
    "papermill": {
     "duration": 0.185269,
     "end_time": "2023-04-13T10:02:44.318592",
     "exception": false,
     "start_time": "2023-04-13T10:02:44.133323",
     "status": "completed"
    },
    "tags": []
   },
   "outputs": [
    {
     "data": {
      "text/plain": [
       "4077"
      ]
     },
     "execution_count": 22,
     "metadata": {},
     "output_type": "execute_result"
    }
   ],
   "source": [
    "# checking the number of unique item list\n",
    "df.Description.nunique()"
   ]
  },
  {
   "cell_type": "code",
   "execution_count": 23,
   "id": "occupied-packing",
   "metadata": {
    "execution": {
     "iopub.execute_input": "2023-04-13T10:02:44.525916Z",
     "iopub.status.busy": "2023-04-13T10:02:44.524691Z",
     "iopub.status.idle": "2023-04-13T10:02:44.556562Z",
     "shell.execute_reply": "2023-04-13T10:02:44.555778Z",
     "shell.execute_reply.started": "2023-04-13T09:48:48.393576Z"
    },
    "papermill": {
     "duration": 0.151866,
     "end_time": "2023-04-13T10:02:44.556741",
     "exception": false,
     "start_time": "2023-04-13T10:02:44.404875",
     "status": "completed"
    },
    "tags": []
   },
   "outputs": [
    {
     "data": {
      "text/plain": [
       "WHITE HANGING HEART T-LIGHT HOLDER    2315\n",
       "JUMBO BAG RED RETROSPOT               2112\n",
       "REGENCY CAKESTAND 3 TIER              2009\n",
       "PARTY BUNTING                         1700\n",
       "LUNCH BAG RED RETROSPOT               1581\n",
       "ASSORTED COLOUR BIRD ORNAMENT         1476\n",
       "SET OF 3 CAKE TINS PANTRY DESIGN      1392\n",
       "PACK OF 72 RETROSPOT CAKE CASES       1352\n",
       "LUNCH BAG  BLACK SKULL.               1301\n",
       "NATURAL SLATE HEART CHALKBOARD        1255\n",
       "Name: Description, dtype: int64"
      ]
     },
     "execution_count": 23,
     "metadata": {},
     "output_type": "execute_result"
    }
   ],
   "source": [
    "# top 10 item sold\n",
    "df.Description.value_counts().head(10)"
   ]
  },
  {
   "cell_type": "code",
   "execution_count": 24,
   "id": "appointed-boost",
   "metadata": {
    "execution": {
     "iopub.execute_input": "2023-04-13T10:02:44.759268Z",
     "iopub.status.busy": "2023-04-13T10:02:44.757852Z",
     "iopub.status.idle": "2023-04-13T10:02:45.016389Z",
     "shell.execute_reply": "2023-04-13T10:02:45.015576Z",
     "shell.execute_reply.started": "2023-04-13T09:48:48.454251Z"
    },
    "papermill": {
     "duration": 0.372583,
     "end_time": "2023-04-13T10:02:45.016618",
     "exception": false,
     "start_time": "2023-04-13T10:02:44.644035",
     "status": "completed"
    },
    "tags": []
   },
   "outputs": [
    {
     "data": {
      "text/html": [
       "<div>\n",
       "<style scoped>\n",
       "    .dataframe tbody tr th:only-of-type {\n",
       "        vertical-align: middle;\n",
       "    }\n",
       "\n",
       "    .dataframe tbody tr th {\n",
       "        vertical-align: top;\n",
       "    }\n",
       "\n",
       "    .dataframe thead th {\n",
       "        text-align: right;\n",
       "    }\n",
       "</style>\n",
       "<table border=\"1\" class=\"dataframe\">\n",
       "  <thead>\n",
       "    <tr style=\"text-align: right;\">\n",
       "      <th></th>\n",
       "      <th>InvoiceNo</th>\n",
       "      <th>StockCode</th>\n",
       "      <th>Description</th>\n",
       "      <th>Quantity</th>\n",
       "      <th>InvoiceDate</th>\n",
       "      <th>UnitPrice</th>\n",
       "      <th>CustomerID</th>\n",
       "      <th>Country</th>\n",
       "    </tr>\n",
       "  </thead>\n",
       "  <tbody>\n",
       "    <tr>\n",
       "      <th>38261</th>\n",
       "      <td>539494</td>\n",
       "      <td>21479</td>\n",
       "      <td>?</td>\n",
       "      <td>752</td>\n",
       "      <td>2010-12-20 10:36:00</td>\n",
       "      <td>0.0</td>\n",
       "      <td>NaN</td>\n",
       "      <td>United Kingdom</td>\n",
       "    </tr>\n",
       "    <tr>\n",
       "      <th>115807</th>\n",
       "      <td>546139</td>\n",
       "      <td>84988</td>\n",
       "      <td>?</td>\n",
       "      <td>3000</td>\n",
       "      <td>2011-03-09 16:35:00</td>\n",
       "      <td>0.0</td>\n",
       "      <td>NaN</td>\n",
       "      <td>United Kingdom</td>\n",
       "    </tr>\n",
       "    <tr>\n",
       "      <th>220843</th>\n",
       "      <td>556231</td>\n",
       "      <td>85123A</td>\n",
       "      <td>?</td>\n",
       "      <td>4000</td>\n",
       "      <td>2011-06-09 15:04:00</td>\n",
       "      <td>0.0</td>\n",
       "      <td>NaN</td>\n",
       "      <td>United Kingdom</td>\n",
       "    </tr>\n",
       "    <tr>\n",
       "      <th>282882</th>\n",
       "      <td>561665</td>\n",
       "      <td>22171</td>\n",
       "      <td>?</td>\n",
       "      <td>142</td>\n",
       "      <td>2011-07-28 16:55:00</td>\n",
       "      <td>0.0</td>\n",
       "      <td>NaN</td>\n",
       "      <td>United Kingdom</td>\n",
       "    </tr>\n",
       "    <tr>\n",
       "      <th>323315</th>\n",
       "      <td>565288</td>\n",
       "      <td>23135</td>\n",
       "      <td>?</td>\n",
       "      <td>101</td>\n",
       "      <td>2011-09-02 11:43:00</td>\n",
       "      <td>0.0</td>\n",
       "      <td>NaN</td>\n",
       "      <td>United Kingdom</td>\n",
       "    </tr>\n",
       "    <tr>\n",
       "      <th>421093</th>\n",
       "      <td>572920</td>\n",
       "      <td>72803A</td>\n",
       "      <td>?</td>\n",
       "      <td>117</td>\n",
       "      <td>2011-10-26 16:52:00</td>\n",
       "      <td>0.0</td>\n",
       "      <td>NaN</td>\n",
       "      <td>United Kingdom</td>\n",
       "    </tr>\n",
       "  </tbody>\n",
       "</table>\n",
       "</div>"
      ],
      "text/plain": [
       "       InvoiceNo StockCode Description  Quantity         InvoiceDate  \\\n",
       "38261     539494     21479           ?       752 2010-12-20 10:36:00   \n",
       "115807    546139     84988           ?      3000 2011-03-09 16:35:00   \n",
       "220843    556231    85123A           ?      4000 2011-06-09 15:04:00   \n",
       "282882    561665     22171           ?       142 2011-07-28 16:55:00   \n",
       "323315    565288     23135           ?       101 2011-09-02 11:43:00   \n",
       "421093    572920    72803A           ?       117 2011-10-26 16:52:00   \n",
       "\n",
       "        UnitPrice  CustomerID         Country  \n",
       "38261         0.0         NaN  United Kingdom  \n",
       "115807        0.0         NaN  United Kingdom  \n",
       "220843        0.0         NaN  United Kingdom  \n",
       "282882        0.0         NaN  United Kingdom  \n",
       "323315        0.0         NaN  United Kingdom  \n",
       "421093        0.0         NaN  United Kingdom  "
      ]
     },
     "execution_count": 24,
     "metadata": {},
     "output_type": "execute_result"
    }
   ],
   "source": [
    "# there are cases where the descriptions contains some code/name which are not directly refers to sales\n",
    "# checking the data where description = ? and it is noted that customerid is NaN and unit price is 0\n",
    "df[df['Description'].str.startswith('?')==True]"
   ]
  },
  {
   "cell_type": "code",
   "execution_count": 25,
   "id": "cosmetic-xerox",
   "metadata": {
    "execution": {
     "iopub.execute_input": "2023-04-13T10:02:45.220882Z",
     "iopub.status.busy": "2023-04-13T10:02:45.219825Z",
     "iopub.status.idle": "2023-04-13T10:02:45.482426Z",
     "shell.execute_reply": "2023-04-13T10:02:45.481784Z",
     "shell.execute_reply.started": "2023-04-13T09:48:48.756750Z"
    },
    "papermill": {
     "duration": 0.376152,
     "end_time": "2023-04-13T10:02:45.482613",
     "exception": false,
     "start_time": "2023-04-13T10:02:45.106461",
     "status": "completed"
    },
    "tags": []
   },
   "outputs": [
    {
     "data": {
      "text/plain": [
       "(526048, 8)"
      ]
     },
     "execution_count": 25,
     "metadata": {},
     "output_type": "execute_result"
    }
   ],
   "source": [
    "# removing all the above entries\n",
    "df = df[df['Description'].str.startswith('?')!=True]\n",
    "df.shape"
   ]
  },
  {
   "cell_type": "code",
   "execution_count": 26,
   "id": "purple-warner",
   "metadata": {
    "execution": {
     "iopub.execute_input": "2023-04-13T10:02:45.680601Z",
     "iopub.status.busy": "2023-04-13T10:02:45.679311Z",
     "iopub.status.idle": "2023-04-13T10:02:45.960740Z",
     "shell.execute_reply": "2023-04-13T10:02:45.959948Z",
     "shell.execute_reply.started": "2023-04-13T09:48:49.050455Z"
    },
    "papermill": {
     "duration": 0.394168,
     "end_time": "2023-04-13T10:02:45.960911",
     "exception": false,
     "start_time": "2023-04-13T10:02:45.566743",
     "status": "completed"
    },
    "tags": []
   },
   "outputs": [
    {
     "data": {
      "text/html": [
       "<div>\n",
       "<style scoped>\n",
       "    .dataframe tbody tr th:only-of-type {\n",
       "        vertical-align: middle;\n",
       "    }\n",
       "\n",
       "    .dataframe tbody tr th {\n",
       "        vertical-align: top;\n",
       "    }\n",
       "\n",
       "    .dataframe thead th {\n",
       "        text-align: right;\n",
       "    }\n",
       "</style>\n",
       "<table border=\"1\" class=\"dataframe\">\n",
       "  <thead>\n",
       "    <tr style=\"text-align: right;\">\n",
       "      <th></th>\n",
       "      <th>InvoiceNo</th>\n",
       "      <th>StockCode</th>\n",
       "      <th>Description</th>\n",
       "      <th>Quantity</th>\n",
       "      <th>InvoiceDate</th>\n",
       "      <th>UnitPrice</th>\n",
       "      <th>CustomerID</th>\n",
       "      <th>Country</th>\n",
       "    </tr>\n",
       "  </thead>\n",
       "  <tbody>\n",
       "    <tr>\n",
       "      <th>20749</th>\n",
       "      <td>538071</td>\n",
       "      <td>21120</td>\n",
       "      <td>*Boombox Ipod Classic</td>\n",
       "      <td>1</td>\n",
       "      <td>2010-12-09 14:09:00</td>\n",
       "      <td>16.98</td>\n",
       "      <td>NaN</td>\n",
       "      <td>United Kingdom</td>\n",
       "    </tr>\n",
       "    <tr>\n",
       "      <th>35675</th>\n",
       "      <td>539437</td>\n",
       "      <td>20954</td>\n",
       "      <td>*USB Office Mirror Ball</td>\n",
       "      <td>1</td>\n",
       "      <td>2010-12-17 14:54:00</td>\n",
       "      <td>8.47</td>\n",
       "      <td>NaN</td>\n",
       "      <td>United Kingdom</td>\n",
       "    </tr>\n",
       "    <tr>\n",
       "      <th>37095</th>\n",
       "      <td>539453</td>\n",
       "      <td>20954</td>\n",
       "      <td>*USB Office Mirror Ball</td>\n",
       "      <td>1</td>\n",
       "      <td>2010-12-17 17:08:00</td>\n",
       "      <td>8.47</td>\n",
       "      <td>NaN</td>\n",
       "      <td>United Kingdom</td>\n",
       "    </tr>\n",
       "  </tbody>\n",
       "</table>\n",
       "</div>"
      ],
      "text/plain": [
       "      InvoiceNo StockCode              Description  Quantity  \\\n",
       "20749    538071     21120    *Boombox Ipod Classic         1   \n",
       "35675    539437     20954  *USB Office Mirror Ball         1   \n",
       "37095    539453     20954  *USB Office Mirror Ball         1   \n",
       "\n",
       "              InvoiceDate  UnitPrice  CustomerID         Country  \n",
       "20749 2010-12-09 14:09:00      16.98         NaN  United Kingdom  \n",
       "35675 2010-12-17 14:54:00       8.47         NaN  United Kingdom  \n",
       "37095 2010-12-17 17:08:00       8.47         NaN  United Kingdom  "
      ]
     },
     "execution_count": 26,
     "metadata": {},
     "output_type": "execute_result"
    }
   ],
   "source": [
    "# checking the data where description = * and it is noted that customerid is NaN\n",
    "df[df['Description'].str.startswith('*')==True]"
   ]
  },
  {
   "cell_type": "code",
   "execution_count": 27,
   "id": "twelve-subsection",
   "metadata": {
    "execution": {
     "iopub.execute_input": "2023-04-13T10:02:46.189334Z",
     "iopub.status.busy": "2023-04-13T10:02:46.188017Z",
     "iopub.status.idle": "2023-04-13T10:02:46.247999Z",
     "shell.execute_reply": "2023-04-13T10:02:46.247154Z",
     "shell.execute_reply.started": "2023-04-13T09:48:49.318876Z"
    },
    "papermill": {
     "duration": 0.191601,
     "end_time": "2023-04-13T10:02:46.248213",
     "exception": false,
     "start_time": "2023-04-13T10:02:46.056612",
     "status": "completed"
    },
    "tags": []
   },
   "outputs": [],
   "source": [
    "# replacing with appropriate name\n",
    "df['Description'] = df['Description'].replace(('*Boombox Ipod Classic','*USB Office Mirror Ball'),\n",
    "                                             ('BOOMBOX IPOD CLASSIC','USB OFFICE MIRROR BALL'))"
   ]
  },
  {
   "cell_type": "code",
   "execution_count": 28,
   "id": "unauthorized-seven",
   "metadata": {
    "execution": {
     "iopub.execute_input": "2023-04-13T10:02:46.459035Z",
     "iopub.status.busy": "2023-04-13T10:02:46.458286Z",
     "iopub.status.idle": "2023-04-13T10:02:46.640541Z",
     "shell.execute_reply": "2023-04-13T10:02:46.639463Z",
     "shell.execute_reply.started": "2023-04-13T09:48:49.394120Z"
    },
    "papermill": {
     "duration": 0.304289,
     "end_time": "2023-04-13T10:02:46.640742",
     "exception": false,
     "start_time": "2023-04-13T10:02:46.336453",
     "status": "completed"
    },
    "tags": []
   },
   "outputs": [
    {
     "data": {
      "text/plain": [
       "check                                  39\n",
       "found                                  25\n",
       "adjustment                             14\n",
       "amazon                                  8\n",
       "had been put aside                      5\n",
       "dotcom                                  4\n",
       "mailout                                 3\n",
       "taig adjust                             2\n",
       "returned                                2\n",
       "test                                    2\n",
       "mailout                                 1\n",
       "allocate stock for dotcom orders ta     1\n",
       "dotcomstock                             1\n",
       "amazon sales                            1\n",
       "damaged                                 1\n",
       "wrongly marked 23343                    1\n",
       "to push order througha s stock was      1\n",
       "alan hodge cant mamage this section     1\n",
       "wrongly coded 23343                     1\n",
       "on cargo order                          1\n",
       "amazon adjust                           1\n",
       "wrongly coded 20713                     1\n",
       "came coded as 20713                     1\n",
       "wrongly sold (22719) barcode            1\n",
       "dotcom adjust                           1\n",
       "website fixed                           1\n",
       "did  a credit  and did not tick ret     1\n",
       "michel oops                             1\n",
       "rcvd be air temp fix for dotcom sit     1\n",
       "wrongly marked                          1\n",
       "found box                               1\n",
       "add stock to allocate online orders     1\n",
       "for online retail orders                1\n",
       "check?                                  1\n",
       "Name: Description, dtype: int64"
      ]
     },
     "execution_count": 28,
     "metadata": {},
     "output_type": "execute_result"
    }
   ],
   "source": [
    "# Description have actual entries in uppercase words and those who don't have are some of the noises in the dataset\n",
    "df[df['Description'].str.islower()==True]['Description'].value_counts()"
   ]
  },
  {
   "cell_type": "code",
   "execution_count": 29,
   "id": "sustainable-carbon",
   "metadata": {
    "execution": {
     "iopub.execute_input": "2023-04-13T10:02:46.851666Z",
     "iopub.status.busy": "2023-04-13T10:02:46.850575Z",
     "iopub.status.idle": "2023-04-13T10:02:47.030468Z",
     "shell.execute_reply": "2023-04-13T10:02:47.029591Z",
     "shell.execute_reply.started": "2023-04-13T09:48:49.577362Z"
    },
    "papermill": {
     "duration": 0.300757,
     "end_time": "2023-04-13T10:02:47.030658",
     "exception": false,
     "start_time": "2023-04-13T10:02:46.729901",
     "status": "completed"
    },
    "tags": []
   },
   "outputs": [
    {
     "data": {
      "text/plain": [
       "(525920, 8)"
      ]
     },
     "execution_count": 29,
     "metadata": {},
     "output_type": "execute_result"
    }
   ],
   "source": [
    "# removing all the above noises\n",
    "df = df[df['Description'].str.islower()!=True]\n",
    "df.shape"
   ]
  },
  {
   "cell_type": "code",
   "execution_count": 30,
   "id": "equivalent-bunch",
   "metadata": {
    "execution": {
     "iopub.execute_input": "2023-04-13T10:02:47.244254Z",
     "iopub.status.busy": "2023-04-13T10:02:47.242840Z",
     "iopub.status.idle": "2023-04-13T10:02:47.420702Z",
     "shell.execute_reply": "2023-04-13T10:02:47.421214Z",
     "shell.execute_reply.started": "2023-04-13T09:48:49.772332Z"
    },
    "papermill": {
     "duration": 0.29956,
     "end_time": "2023-04-13T10:02:47.421432",
     "exception": false,
     "start_time": "2023-04-13T10:02:47.121872",
     "status": "completed"
    },
    "tags": []
   },
   "outputs": [
    {
     "data": {
      "text/plain": [
       "Manual                                 323\n",
       "Next Day Carriage                       79\n",
       "Bank Charges                            12\n",
       "Dotcomgiftshop Gift Voucher £20.00       9\n",
       "Found                                    8\n",
       "Dotcomgiftshop Gift Voucher £10.00       8\n",
       "Amazon                                   7\n",
       "Dotcomgiftshop Gift Voucher £30.00       7\n",
       "Dotcomgiftshop Gift Voucher £50.00       4\n",
       "High Resolution Image                    3\n",
       "Dotcomgiftshop Gift Voucher £40.00       3\n",
       "Adjustment                               2\n",
       "John Lewis                               1\n",
       "Amazon Adjustment                        1\n",
       "Dotcomgiftshop Gift Voucher £100.00      1\n",
       "Name: Description, dtype: int64"
      ]
     },
     "execution_count": 30,
     "metadata": {},
     "output_type": "execute_result"
    }
   ],
   "source": [
    "# Description have actual entries in uppercase words and those who don't have are some of the noises in the dataset\n",
    "df[df['Description'].str.istitle()==True]['Description'].value_counts()"
   ]
  },
  {
   "cell_type": "code",
   "execution_count": 31,
   "id": "impressive-visibility",
   "metadata": {
    "execution": {
     "iopub.execute_input": "2023-04-13T10:02:47.635184Z",
     "iopub.status.busy": "2023-04-13T10:02:47.634380Z",
     "iopub.status.idle": "2023-04-13T10:02:47.823690Z",
     "shell.execute_reply": "2023-04-13T10:02:47.823043Z",
     "shell.execute_reply.started": "2023-04-13T09:48:49.966261Z"
    },
    "papermill": {
     "duration": 0.30741,
     "end_time": "2023-04-13T10:02:47.823872",
     "exception": false,
     "start_time": "2023-04-13T10:02:47.516462",
     "status": "completed"
    },
    "tags": []
   },
   "outputs": [
    {
     "data": {
      "text/plain": [
       "(525452, 8)"
      ]
     },
     "execution_count": 31,
     "metadata": {},
     "output_type": "execute_result"
    }
   ],
   "source": [
    "# removing all the above listed noises\n",
    "df = df[df['Description'].str.istitle()!=True]\n",
    "df.shape"
   ]
  },
  {
   "cell_type": "code",
   "execution_count": 32,
   "id": "agreed-thanksgiving",
   "metadata": {
    "execution": {
     "iopub.execute_input": "2023-04-13T10:02:48.035633Z",
     "iopub.status.busy": "2023-04-13T10:02:48.034674Z",
     "iopub.status.idle": "2023-04-13T10:02:48.213732Z",
     "shell.execute_reply": "2023-04-13T10:02:48.214280Z",
     "shell.execute_reply.started": "2023-04-13T09:48:50.166605Z"
    },
    "papermill": {
     "duration": 0.294147,
     "end_time": "2023-04-13T10:02:48.214490",
     "exception": false,
     "start_time": "2023-04-13T10:02:47.920343",
     "status": "completed"
    },
    "tags": []
   },
   "outputs": [],
   "source": [
    "df['Description'] = df['Description'].str.strip()"
   ]
  },
  {
   "cell_type": "markdown",
   "id": "plain-stanford",
   "metadata": {
    "papermill": {
     "duration": 0.090087,
     "end_time": "2023-04-13T10:02:48.393996",
     "exception": false,
     "start_time": "2023-04-13T10:02:48.303909",
     "status": "completed"
    },
    "tags": []
   },
   "source": [
    "##### Customer ID"
   ]
  },
  {
   "cell_type": "code",
   "execution_count": 33,
   "id": "amazing-delay",
   "metadata": {
    "execution": {
     "iopub.execute_input": "2023-04-13T10:02:48.589713Z",
     "iopub.status.busy": "2023-04-13T10:02:48.588248Z",
     "iopub.status.idle": "2023-04-13T10:02:48.603910Z",
     "shell.execute_reply": "2023-04-13T10:02:48.603329Z",
     "shell.execute_reply.started": "2023-04-13T09:48:50.358724Z"
    },
    "papermill": {
     "duration": 0.116573,
     "end_time": "2023-04-13T10:02:48.604105",
     "exception": false,
     "start_time": "2023-04-13T10:02:48.487532",
     "status": "completed"
    },
    "tags": []
   },
   "outputs": [
    {
     "data": {
      "text/plain": [
       "4335"
      ]
     },
     "execution_count": 33,
     "metadata": {},
     "output_type": "execute_result"
    }
   ],
   "source": [
    "# count of unique customer\n",
    "df.CustomerID.nunique()"
   ]
  },
  {
   "cell_type": "code",
   "execution_count": 34,
   "id": "specified-spyware",
   "metadata": {
    "execution": {
     "iopub.execute_input": "2023-04-13T10:02:48.849294Z",
     "iopub.status.busy": "2023-04-13T10:02:48.848403Z",
     "iopub.status.idle": "2023-04-13T10:02:48.896745Z",
     "shell.execute_reply": "2023-04-13T10:02:48.896037Z",
     "shell.execute_reply.started": "2023-04-13T09:48:50.374697Z"
    },
    "papermill": {
     "duration": 0.14032,
     "end_time": "2023-04-13T10:02:48.896934",
     "exception": false,
     "start_time": "2023-04-13T10:02:48.756614",
     "status": "completed"
    },
    "tags": []
   },
   "outputs": [
    {
     "data": {
      "text/html": [
       "<div>\n",
       "<style scoped>\n",
       "    .dataframe tbody tr th:only-of-type {\n",
       "        vertical-align: middle;\n",
       "    }\n",
       "\n",
       "    .dataframe tbody tr th {\n",
       "        vertical-align: top;\n",
       "    }\n",
       "\n",
       "    .dataframe thead th {\n",
       "        text-align: right;\n",
       "    }\n",
       "</style>\n",
       "<table border=\"1\" class=\"dataframe\">\n",
       "  <thead>\n",
       "    <tr style=\"text-align: right;\">\n",
       "      <th></th>\n",
       "      <th>InvoiceNo</th>\n",
       "      <th>StockCode</th>\n",
       "      <th>Description</th>\n",
       "      <th>Quantity</th>\n",
       "      <th>InvoiceDate</th>\n",
       "      <th>UnitPrice</th>\n",
       "      <th>CustomerID</th>\n",
       "      <th>Country</th>\n",
       "    </tr>\n",
       "  </thead>\n",
       "  <tbody>\n",
       "    <tr>\n",
       "      <th>622</th>\n",
       "      <td>536414</td>\n",
       "      <td>22139</td>\n",
       "      <td>NaN</td>\n",
       "      <td>56</td>\n",
       "      <td>2010-12-01 11:52:00</td>\n",
       "      <td>0.00</td>\n",
       "      <td>NaN</td>\n",
       "      <td>United Kingdom</td>\n",
       "    </tr>\n",
       "    <tr>\n",
       "      <th>1443</th>\n",
       "      <td>536544</td>\n",
       "      <td>21773</td>\n",
       "      <td>DECORATIVE ROSE BATHROOM BOTTLE</td>\n",
       "      <td>1</td>\n",
       "      <td>2010-12-01 14:32:00</td>\n",
       "      <td>2.51</td>\n",
       "      <td>NaN</td>\n",
       "      <td>United Kingdom</td>\n",
       "    </tr>\n",
       "    <tr>\n",
       "      <th>1444</th>\n",
       "      <td>536544</td>\n",
       "      <td>21774</td>\n",
       "      <td>DECORATIVE CATS BATHROOM BOTTLE</td>\n",
       "      <td>2</td>\n",
       "      <td>2010-12-01 14:32:00</td>\n",
       "      <td>2.51</td>\n",
       "      <td>NaN</td>\n",
       "      <td>United Kingdom</td>\n",
       "    </tr>\n",
       "    <tr>\n",
       "      <th>1445</th>\n",
       "      <td>536544</td>\n",
       "      <td>21786</td>\n",
       "      <td>POLKADOT RAIN HAT</td>\n",
       "      <td>4</td>\n",
       "      <td>2010-12-01 14:32:00</td>\n",
       "      <td>0.85</td>\n",
       "      <td>NaN</td>\n",
       "      <td>United Kingdom</td>\n",
       "    </tr>\n",
       "    <tr>\n",
       "      <th>1446</th>\n",
       "      <td>536544</td>\n",
       "      <td>21787</td>\n",
       "      <td>RAIN PONCHO RETROSPOT</td>\n",
       "      <td>2</td>\n",
       "      <td>2010-12-01 14:32:00</td>\n",
       "      <td>1.66</td>\n",
       "      <td>NaN</td>\n",
       "      <td>United Kingdom</td>\n",
       "    </tr>\n",
       "    <tr>\n",
       "      <th>...</th>\n",
       "      <td>...</td>\n",
       "      <td>...</td>\n",
       "      <td>...</td>\n",
       "      <td>...</td>\n",
       "      <td>...</td>\n",
       "      <td>...</td>\n",
       "      <td>...</td>\n",
       "      <td>...</td>\n",
       "    </tr>\n",
       "    <tr>\n",
       "      <th>541536</th>\n",
       "      <td>581498</td>\n",
       "      <td>85099B</td>\n",
       "      <td>JUMBO BAG RED RETROSPOT</td>\n",
       "      <td>5</td>\n",
       "      <td>2011-12-09 10:26:00</td>\n",
       "      <td>4.13</td>\n",
       "      <td>NaN</td>\n",
       "      <td>United Kingdom</td>\n",
       "    </tr>\n",
       "    <tr>\n",
       "      <th>541537</th>\n",
       "      <td>581498</td>\n",
       "      <td>85099C</td>\n",
       "      <td>JUMBO  BAG BAROQUE BLACK WHITE</td>\n",
       "      <td>4</td>\n",
       "      <td>2011-12-09 10:26:00</td>\n",
       "      <td>4.13</td>\n",
       "      <td>NaN</td>\n",
       "      <td>United Kingdom</td>\n",
       "    </tr>\n",
       "    <tr>\n",
       "      <th>541538</th>\n",
       "      <td>581498</td>\n",
       "      <td>85150</td>\n",
       "      <td>LADIES &amp; GENTLEMEN METAL SIGN</td>\n",
       "      <td>1</td>\n",
       "      <td>2011-12-09 10:26:00</td>\n",
       "      <td>4.96</td>\n",
       "      <td>NaN</td>\n",
       "      <td>United Kingdom</td>\n",
       "    </tr>\n",
       "    <tr>\n",
       "      <th>541539</th>\n",
       "      <td>581498</td>\n",
       "      <td>85174</td>\n",
       "      <td>S/4 CACTI CANDLES</td>\n",
       "      <td>1</td>\n",
       "      <td>2011-12-09 10:26:00</td>\n",
       "      <td>10.79</td>\n",
       "      <td>NaN</td>\n",
       "      <td>United Kingdom</td>\n",
       "    </tr>\n",
       "    <tr>\n",
       "      <th>541540</th>\n",
       "      <td>581498</td>\n",
       "      <td>DOT</td>\n",
       "      <td>DOTCOM POSTAGE</td>\n",
       "      <td>1</td>\n",
       "      <td>2011-12-09 10:26:00</td>\n",
       "      <td>1714.17</td>\n",
       "      <td>NaN</td>\n",
       "      <td>United Kingdom</td>\n",
       "    </tr>\n",
       "  </tbody>\n",
       "</table>\n",
       "<p>133099 rows × 8 columns</p>\n",
       "</div>"
      ],
      "text/plain": [
       "       InvoiceNo StockCode                      Description  Quantity  \\\n",
       "622       536414     22139                              NaN        56   \n",
       "1443      536544     21773  DECORATIVE ROSE BATHROOM BOTTLE         1   \n",
       "1444      536544     21774  DECORATIVE CATS BATHROOM BOTTLE         2   \n",
       "1445      536544     21786                POLKADOT RAIN HAT         4   \n",
       "1446      536544     21787            RAIN PONCHO RETROSPOT         2   \n",
       "...          ...       ...                              ...       ...   \n",
       "541536    581498    85099B          JUMBO BAG RED RETROSPOT         5   \n",
       "541537    581498    85099C   JUMBO  BAG BAROQUE BLACK WHITE         4   \n",
       "541538    581498     85150    LADIES & GENTLEMEN METAL SIGN         1   \n",
       "541539    581498     85174                S/4 CACTI CANDLES         1   \n",
       "541540    581498       DOT                   DOTCOM POSTAGE         1   \n",
       "\n",
       "               InvoiceDate  UnitPrice  CustomerID         Country  \n",
       "622    2010-12-01 11:52:00       0.00         NaN  United Kingdom  \n",
       "1443   2010-12-01 14:32:00       2.51         NaN  United Kingdom  \n",
       "1444   2010-12-01 14:32:00       2.51         NaN  United Kingdom  \n",
       "1445   2010-12-01 14:32:00       0.85         NaN  United Kingdom  \n",
       "1446   2010-12-01 14:32:00       1.66         NaN  United Kingdom  \n",
       "...                    ...        ...         ...             ...  \n",
       "541536 2011-12-09 10:26:00       4.13         NaN  United Kingdom  \n",
       "541537 2011-12-09 10:26:00       4.13         NaN  United Kingdom  \n",
       "541538 2011-12-09 10:26:00       4.96         NaN  United Kingdom  \n",
       "541539 2011-12-09 10:26:00      10.79         NaN  United Kingdom  \n",
       "541540 2011-12-09 10:26:00    1714.17         NaN  United Kingdom  \n",
       "\n",
       "[133099 rows x 8 columns]"
      ]
     },
     "execution_count": 34,
     "metadata": {},
     "output_type": "execute_result"
    }
   ],
   "source": [
    "# checking where customer id is null\n",
    "df[df.CustomerID.isnull()]"
   ]
  },
  {
   "cell_type": "code",
   "execution_count": 35,
   "id": "german-hunger",
   "metadata": {
    "execution": {
     "iopub.execute_input": "2023-04-13T10:02:49.091500Z",
     "iopub.status.busy": "2023-04-13T10:02:49.090686Z",
     "iopub.status.idle": "2023-04-13T10:02:49.151649Z",
     "shell.execute_reply": "2023-04-13T10:02:49.150965Z",
     "shell.execute_reply.started": "2023-04-13T09:48:50.410849Z"
    },
    "papermill": {
     "duration": 0.162104,
     "end_time": "2023-04-13T10:02:49.151875",
     "exception": false,
     "start_time": "2023-04-13T10:02:48.989771",
     "status": "completed"
    },
    "tags": []
   },
   "outputs": [
    {
     "data": {
      "text/plain": [
       "(392353, 8)"
      ]
     },
     "execution_count": 35,
     "metadata": {},
     "output_type": "execute_result"
    }
   ],
   "source": [
    "# removing entries where customer id is null\n",
    "df = df[~df.CustomerID.isnull()]\n",
    "df.shape"
   ]
  },
  {
   "cell_type": "code",
   "execution_count": 36,
   "id": "thick-victim",
   "metadata": {
    "execution": {
     "iopub.execute_input": "2023-04-13T10:02:49.349487Z",
     "iopub.status.busy": "2023-04-13T10:02:49.348644Z",
     "iopub.status.idle": "2023-04-13T10:02:49.440908Z",
     "shell.execute_reply": "2023-04-13T10:02:49.440276Z",
     "shell.execute_reply.started": "2023-04-13T09:48:50.460638Z"
    },
    "papermill": {
     "duration": 0.196071,
     "end_time": "2023-04-13T10:02:49.441120",
     "exception": false,
     "start_time": "2023-04-13T10:02:49.245049",
     "status": "completed"
    },
    "tags": []
   },
   "outputs": [
    {
     "name": "stdout",
     "output_type": "stream",
     "text": [
      "<class 'pandas.core.frame.DataFrame'>\n",
      "Int64Index: 392353 entries, 0 to 541908\n",
      "Data columns (total 8 columns):\n",
      " #   Column       Non-Null Count   Dtype         \n",
      "---  ------       --------------   -----         \n",
      " 0   InvoiceNo    392353 non-null  object        \n",
      " 1   StockCode    392353 non-null  object        \n",
      " 2   Description  392353 non-null  object        \n",
      " 3   Quantity     392353 non-null  int64         \n",
      " 4   InvoiceDate  392353 non-null  datetime64[ns]\n",
      " 5   UnitPrice    392353 non-null  float64       \n",
      " 6   CustomerID   392353 non-null  float64       \n",
      " 7   Country      392353 non-null  object        \n",
      "dtypes: datetime64[ns](1), float64(2), int64(1), object(4)\n",
      "memory usage: 26.9+ MB\n"
     ]
    }
   ],
   "source": [
    "df.info()"
   ]
  },
  {
   "cell_type": "code",
   "execution_count": 37,
   "id": "uniform-racing",
   "metadata": {
    "execution": {
     "iopub.execute_input": "2023-04-13T10:02:49.637194Z",
     "iopub.status.busy": "2023-04-13T10:02:49.636424Z",
     "iopub.status.idle": "2023-04-13T10:02:49.718635Z",
     "shell.execute_reply": "2023-04-13T10:02:49.717779Z",
     "shell.execute_reply.started": "2023-04-13T09:48:50.550631Z"
    },
    "papermill": {
     "duration": 0.180885,
     "end_time": "2023-04-13T10:02:49.718808",
     "exception": false,
     "start_time": "2023-04-13T10:02:49.537923",
     "status": "completed"
    },
    "tags": []
   },
   "outputs": [
    {
     "data": {
      "text/plain": [
       "InvoiceNo      0\n",
       "StockCode      0\n",
       "Description    0\n",
       "Quantity       0\n",
       "InvoiceDate    0\n",
       "UnitPrice      0\n",
       "CustomerID     0\n",
       "Country        0\n",
       "dtype: int64"
      ]
     },
     "execution_count": 37,
     "metadata": {},
     "output_type": "execute_result"
    }
   ],
   "source": [
    "df.isnull().sum()"
   ]
  },
  {
   "cell_type": "code",
   "execution_count": 38,
   "id": "falling-caution",
   "metadata": {
    "execution": {
     "iopub.execute_input": "2023-04-13T10:02:49.909443Z",
     "iopub.status.busy": "2023-04-13T10:02:49.908731Z",
     "iopub.status.idle": "2023-04-13T10:02:49.956158Z",
     "shell.execute_reply": "2023-04-13T10:02:49.955551Z",
     "shell.execute_reply.started": "2023-04-13T09:48:50.631066Z"
    },
    "papermill": {
     "duration": 0.146206,
     "end_time": "2023-04-13T10:02:49.956328",
     "exception": false,
     "start_time": "2023-04-13T10:02:49.810122",
     "status": "completed"
    },
    "tags": []
   },
   "outputs": [
    {
     "data": {
      "text/html": [
       "<div>\n",
       "<style scoped>\n",
       "    .dataframe tbody tr th:only-of-type {\n",
       "        vertical-align: middle;\n",
       "    }\n",
       "\n",
       "    .dataframe tbody tr th {\n",
       "        vertical-align: top;\n",
       "    }\n",
       "\n",
       "    .dataframe thead th {\n",
       "        text-align: right;\n",
       "    }\n",
       "</style>\n",
       "<table border=\"1\" class=\"dataframe\">\n",
       "  <thead>\n",
       "    <tr style=\"text-align: right;\">\n",
       "      <th></th>\n",
       "      <th>InvoiceNo</th>\n",
       "      <th>StockCode</th>\n",
       "      <th>Description</th>\n",
       "      <th>Quantity</th>\n",
       "      <th>InvoiceDate</th>\n",
       "      <th>UnitPrice</th>\n",
       "      <th>CustomerID</th>\n",
       "      <th>Country</th>\n",
       "    </tr>\n",
       "  </thead>\n",
       "  <tbody>\n",
       "    <tr>\n",
       "      <th>362883</th>\n",
       "      <td>568528</td>\n",
       "      <td>23123</td>\n",
       "      <td>COCKTAIL SWORDS 50 PIECES</td>\n",
       "      <td>12</td>\n",
       "      <td>2011-09-27 13:32:00</td>\n",
       "      <td>0.83</td>\n",
       "      <td>13979.0</td>\n",
       "      <td>United Kingdom</td>\n",
       "    </tr>\n",
       "    <tr>\n",
       "      <th>503614</th>\n",
       "      <td>578929</td>\n",
       "      <td>22768</td>\n",
       "      <td>FAMILY PHOTO FRAME CORNICE</td>\n",
       "      <td>2</td>\n",
       "      <td>2011-11-27 12:31:00</td>\n",
       "      <td>9.95</td>\n",
       "      <td>13064.0</td>\n",
       "      <td>United Kingdom</td>\n",
       "    </tr>\n",
       "    <tr>\n",
       "      <th>274481</th>\n",
       "      <td>560918</td>\n",
       "      <td>23053</td>\n",
       "      <td>RECYCLED ACAPULCO MAT PINK</td>\n",
       "      <td>2</td>\n",
       "      <td>2011-07-21 18:27:00</td>\n",
       "      <td>8.25</td>\n",
       "      <td>14849.0</td>\n",
       "      <td>United Kingdom</td>\n",
       "    </tr>\n",
       "    <tr>\n",
       "      <th>175140</th>\n",
       "      <td>551885</td>\n",
       "      <td>20728</td>\n",
       "      <td>LUNCH BAG CARS BLUE</td>\n",
       "      <td>10</td>\n",
       "      <td>2011-05-05 09:18:00</td>\n",
       "      <td>1.65</td>\n",
       "      <td>16700.0</td>\n",
       "      <td>United Kingdom</td>\n",
       "    </tr>\n",
       "    <tr>\n",
       "      <th>357055</th>\n",
       "      <td>568065</td>\n",
       "      <td>22734</td>\n",
       "      <td>SET OF 6 RIBBONS VINTAGE CHRISTMAS</td>\n",
       "      <td>6</td>\n",
       "      <td>2011-09-23 13:44:00</td>\n",
       "      <td>2.89</td>\n",
       "      <td>16240.0</td>\n",
       "      <td>United Kingdom</td>\n",
       "    </tr>\n",
       "  </tbody>\n",
       "</table>\n",
       "</div>"
      ],
      "text/plain": [
       "       InvoiceNo StockCode                         Description  Quantity  \\\n",
       "362883    568528     23123           COCKTAIL SWORDS 50 PIECES        12   \n",
       "503614    578929     22768          FAMILY PHOTO FRAME CORNICE         2   \n",
       "274481    560918     23053          RECYCLED ACAPULCO MAT PINK         2   \n",
       "175140    551885     20728                 LUNCH BAG CARS BLUE        10   \n",
       "357055    568065     22734  SET OF 6 RIBBONS VINTAGE CHRISTMAS         6   \n",
       "\n",
       "               InvoiceDate  UnitPrice  CustomerID         Country  \n",
       "362883 2011-09-27 13:32:00       0.83     13979.0  United Kingdom  \n",
       "503614 2011-11-27 12:31:00       9.95     13064.0  United Kingdom  \n",
       "274481 2011-07-21 18:27:00       8.25     14849.0  United Kingdom  \n",
       "175140 2011-05-05 09:18:00       1.65     16700.0  United Kingdom  \n",
       "357055 2011-09-23 13:44:00       2.89     16240.0  United Kingdom  "
      ]
     },
     "execution_count": 38,
     "metadata": {},
     "output_type": "execute_result"
    }
   ],
   "source": [
    "# checking random 5 rows from data\n",
    "df.sample(5)"
   ]
  },
  {
   "cell_type": "markdown",
   "id": "chicken-groove",
   "metadata": {
    "papermill": {
     "duration": 0.099816,
     "end_time": "2023-04-13T10:02:50.159631",
     "exception": false,
     "start_time": "2023-04-13T10:02:50.059815",
     "status": "completed"
    },
    "tags": []
   },
   "source": [
    "## EDA"
   ]
  },
  {
   "cell_type": "code",
   "execution_count": 39,
   "id": "informal-handy",
   "metadata": {
    "execution": {
     "iopub.execute_input": "2023-04-13T10:02:50.347596Z",
     "iopub.status.busy": "2023-04-13T10:02:50.346714Z",
     "iopub.status.idle": "2023-04-13T10:02:50.553176Z",
     "shell.execute_reply": "2023-04-13T10:02:50.553723Z",
     "shell.execute_reply.started": "2023-04-13T09:48:50.674549Z"
    },
    "papermill": {
     "duration": 0.302653,
     "end_time": "2023-04-13T10:02:50.553942",
     "exception": false,
     "start_time": "2023-04-13T10:02:50.251289",
     "status": "completed"
    },
    "tags": []
   },
   "outputs": [],
   "source": [
    "# creating some columns for exploratory\n",
    "\n",
    "df['Amount'] = df['Quantity']*df['UnitPrice']\n",
    "df['year'] = df['InvoiceDate'].dt.year\n",
    "df['month'] = df['InvoiceDate'].dt.month\n",
    "df['day'] = df['InvoiceDate'].dt.day\n",
    "df['hour'] = df['InvoiceDate'].dt.hour\n",
    "df['day_of_week'] = df['InvoiceDate'].dt.dayofweek"
   ]
  },
  {
   "cell_type": "code",
   "execution_count": 40,
   "id": "gentle-blocking",
   "metadata": {
    "execution": {
     "iopub.execute_input": "2023-04-13T10:02:50.745533Z",
     "iopub.status.busy": "2023-04-13T10:02:50.744737Z",
     "iopub.status.idle": "2023-04-13T10:02:50.764189Z",
     "shell.execute_reply": "2023-04-13T10:02:50.764738Z",
     "shell.execute_reply.started": "2023-04-13T09:48:50.881250Z"
    },
    "papermill": {
     "duration": 0.11649,
     "end_time": "2023-04-13T10:02:50.764962",
     "exception": false,
     "start_time": "2023-04-13T10:02:50.648472",
     "status": "completed"
    },
    "tags": []
   },
   "outputs": [
    {
     "data": {
      "text/html": [
       "<div>\n",
       "<style scoped>\n",
       "    .dataframe tbody tr th:only-of-type {\n",
       "        vertical-align: middle;\n",
       "    }\n",
       "\n",
       "    .dataframe tbody tr th {\n",
       "        vertical-align: top;\n",
       "    }\n",
       "\n",
       "    .dataframe thead th {\n",
       "        text-align: right;\n",
       "    }\n",
       "</style>\n",
       "<table border=\"1\" class=\"dataframe\">\n",
       "  <thead>\n",
       "    <tr style=\"text-align: right;\">\n",
       "      <th></th>\n",
       "      <th>InvoiceNo</th>\n",
       "      <th>StockCode</th>\n",
       "      <th>Description</th>\n",
       "      <th>Quantity</th>\n",
       "      <th>InvoiceDate</th>\n",
       "      <th>UnitPrice</th>\n",
       "      <th>CustomerID</th>\n",
       "      <th>Country</th>\n",
       "      <th>Amount</th>\n",
       "      <th>year</th>\n",
       "      <th>month</th>\n",
       "      <th>day</th>\n",
       "      <th>hour</th>\n",
       "      <th>day_of_week</th>\n",
       "    </tr>\n",
       "  </thead>\n",
       "  <tbody>\n",
       "    <tr>\n",
       "      <th>0</th>\n",
       "      <td>536365</td>\n",
       "      <td>85123A</td>\n",
       "      <td>WHITE HANGING HEART T-LIGHT HOLDER</td>\n",
       "      <td>6</td>\n",
       "      <td>2010-12-01 08:26:00</td>\n",
       "      <td>2.55</td>\n",
       "      <td>17850.0</td>\n",
       "      <td>United Kingdom</td>\n",
       "      <td>15.30</td>\n",
       "      <td>2010</td>\n",
       "      <td>12</td>\n",
       "      <td>1</td>\n",
       "      <td>8</td>\n",
       "      <td>2</td>\n",
       "    </tr>\n",
       "    <tr>\n",
       "      <th>1</th>\n",
       "      <td>536365</td>\n",
       "      <td>71053</td>\n",
       "      <td>WHITE METAL LANTERN</td>\n",
       "      <td>6</td>\n",
       "      <td>2010-12-01 08:26:00</td>\n",
       "      <td>3.39</td>\n",
       "      <td>17850.0</td>\n",
       "      <td>United Kingdom</td>\n",
       "      <td>20.34</td>\n",
       "      <td>2010</td>\n",
       "      <td>12</td>\n",
       "      <td>1</td>\n",
       "      <td>8</td>\n",
       "      <td>2</td>\n",
       "    </tr>\n",
       "    <tr>\n",
       "      <th>2</th>\n",
       "      <td>536365</td>\n",
       "      <td>84406B</td>\n",
       "      <td>CREAM CUPID HEARTS COAT HANGER</td>\n",
       "      <td>8</td>\n",
       "      <td>2010-12-01 08:26:00</td>\n",
       "      <td>2.75</td>\n",
       "      <td>17850.0</td>\n",
       "      <td>United Kingdom</td>\n",
       "      <td>22.00</td>\n",
       "      <td>2010</td>\n",
       "      <td>12</td>\n",
       "      <td>1</td>\n",
       "      <td>8</td>\n",
       "      <td>2</td>\n",
       "    </tr>\n",
       "    <tr>\n",
       "      <th>3</th>\n",
       "      <td>536365</td>\n",
       "      <td>84029G</td>\n",
       "      <td>KNITTED UNION FLAG HOT WATER BOTTLE</td>\n",
       "      <td>6</td>\n",
       "      <td>2010-12-01 08:26:00</td>\n",
       "      <td>3.39</td>\n",
       "      <td>17850.0</td>\n",
       "      <td>United Kingdom</td>\n",
       "      <td>20.34</td>\n",
       "      <td>2010</td>\n",
       "      <td>12</td>\n",
       "      <td>1</td>\n",
       "      <td>8</td>\n",
       "      <td>2</td>\n",
       "    </tr>\n",
       "    <tr>\n",
       "      <th>4</th>\n",
       "      <td>536365</td>\n",
       "      <td>84029E</td>\n",
       "      <td>RED WOOLLY HOTTIE WHITE HEART.</td>\n",
       "      <td>6</td>\n",
       "      <td>2010-12-01 08:26:00</td>\n",
       "      <td>3.39</td>\n",
       "      <td>17850.0</td>\n",
       "      <td>United Kingdom</td>\n",
       "      <td>20.34</td>\n",
       "      <td>2010</td>\n",
       "      <td>12</td>\n",
       "      <td>1</td>\n",
       "      <td>8</td>\n",
       "      <td>2</td>\n",
       "    </tr>\n",
       "  </tbody>\n",
       "</table>\n",
       "</div>"
      ],
      "text/plain": [
       "  InvoiceNo StockCode                          Description  Quantity  \\\n",
       "0    536365    85123A   WHITE HANGING HEART T-LIGHT HOLDER         6   \n",
       "1    536365     71053                  WHITE METAL LANTERN         6   \n",
       "2    536365    84406B       CREAM CUPID HEARTS COAT HANGER         8   \n",
       "3    536365    84029G  KNITTED UNION FLAG HOT WATER BOTTLE         6   \n",
       "4    536365    84029E       RED WOOLLY HOTTIE WHITE HEART.         6   \n",
       "\n",
       "          InvoiceDate  UnitPrice  CustomerID         Country  Amount  year  \\\n",
       "0 2010-12-01 08:26:00       2.55     17850.0  United Kingdom   15.30  2010   \n",
       "1 2010-12-01 08:26:00       3.39     17850.0  United Kingdom   20.34  2010   \n",
       "2 2010-12-01 08:26:00       2.75     17850.0  United Kingdom   22.00  2010   \n",
       "3 2010-12-01 08:26:00       3.39     17850.0  United Kingdom   20.34  2010   \n",
       "4 2010-12-01 08:26:00       3.39     17850.0  United Kingdom   20.34  2010   \n",
       "\n",
       "   month  day  hour  day_of_week  \n",
       "0     12    1     8            2  \n",
       "1     12    1     8            2  \n",
       "2     12    1     8            2  \n",
       "3     12    1     8            2  \n",
       "4     12    1     8            2  "
      ]
     },
     "execution_count": 40,
     "metadata": {},
     "output_type": "execute_result"
    }
   ],
   "source": [
    "df.head()"
   ]
  },
  {
   "cell_type": "code",
   "execution_count": 41,
   "id": "coastal-parts",
   "metadata": {
    "execution": {
     "iopub.execute_input": "2023-04-13T10:02:50.973394Z",
     "iopub.status.busy": "2023-04-13T10:02:50.972498Z",
     "iopub.status.idle": "2023-04-13T10:02:52.775594Z",
     "shell.execute_reply": "2023-04-13T10:02:52.776154Z",
     "shell.execute_reply.started": "2023-04-13T09:48:50.904962Z"
    },
    "papermill": {
     "duration": 1.910352,
     "end_time": "2023-04-13T10:02:52.776359",
     "exception": false,
     "start_time": "2023-04-13T10:02:50.866007",
     "status": "completed"
    },
    "tags": []
   },
   "outputs": [
    {
     "data": {
      "image/png": "[encoded data removed]",
      "text/plain": [
       "<Figure size 1080x360 with 2 Axes>"
      ]
     },
     "metadata": {},
     "output_type": "display_data"
    }
   ],
   "source": [
    "column = ['InvoiceNo','Amount']\n",
    "\n",
    "plt.figure(figsize=(15,5))\n",
    "for i,j in enumerate(column):\n",
    "    plt.subplot(1,2,i+1)\n",
    "    sns.barplot(x = df[df['Country']=='United Kingdom'].groupby('Description')[j].nunique().sort_values(ascending=False).head(10).values,\n",
    "                y = df[df['Country']=='United Kingdom'].groupby('Description')[j].nunique().sort_values(ascending=False).head(10).index,\n",
    "                color='yellow')\n",
    "    plt.ylabel('')\n",
    "    if i==0:\n",
    "        plt.xlabel('Sum of quantity')\n",
    "        plt.title('Top 10 products purchased by customers in UK',size=15)\n",
    "    else:\n",
    "        plt.xlabel('Total Sales')\n",
    "        plt.title('Top 10 products with most sales in UK',size=15)\n",
    "        \n",
    "plt.tight_layout()\n",
    "plt.show()"
   ]
  },
  {
   "cell_type": "code",
   "execution_count": 42,
   "id": "excited-february",
   "metadata": {
    "execution": {
     "iopub.execute_input": "2023-04-13T10:02:52.971312Z",
     "iopub.status.busy": "2023-04-13T10:02:52.970296Z",
     "iopub.status.idle": "2023-04-13T10:02:54.070941Z",
     "shell.execute_reply": "2023-04-13T10:02:54.070217Z",
     "shell.execute_reply.started": "2023-04-13T09:48:52.612908Z"
    },
    "papermill": {
     "duration": 1.201448,
     "end_time": "2023-04-13T10:02:54.071132",
     "exception": false,
     "start_time": "2023-04-13T10:02:52.869684",
     "status": "completed"
    },
    "tags": []
   },
   "outputs": [
    {
     "data": {
      "image/png": "[encoded data removed]",
      "text/plain": [
       "<Figure size 1080x360 with 2 Axes>"
      ]
     },
     "metadata": {},
     "output_type": "display_data"
    }
   ],
   "source": [
    "column = ['Others','United Kingdom']\n",
    "\n",
    "plt.figure(figsize=(15,5))\n",
    "for i,j in enumerate(column):\n",
    "    plt.subplot(1,2,i+1)\n",
    "    sns.barplot(x = df[df['Country']==j].groupby('Description')['UnitPrice'].mean().sort_values(ascending=False).head(10).values,\n",
    "                y = df[df['Country']==j].groupby('Description')['UnitPrice'].mean().sort_values(ascending=False).head(10).index,\n",
    "                color='yellow')\n",
    "    plt.ylabel('')\n",
    "    if i==0:\n",
    "        plt.xlabel('Unit Price')\n",
    "        plt.title('Top 10 high value products outside UK',size=15)\n",
    "    else:\n",
    "        plt.xlabel('Unit Price')\n",
    "        plt.title('Top 10 high value products in UK',size=15)\n",
    "        \n",
    "plt.tight_layout()\n",
    "plt.show()"
   ]
  },
  {
   "cell_type": "code",
   "execution_count": 43,
   "id": "silent-importance",
   "metadata": {
    "execution": {
     "iopub.execute_input": "2023-04-13T10:02:54.299511Z",
     "iopub.status.busy": "2023-04-13T10:02:54.297464Z",
     "iopub.status.idle": "2023-04-13T10:02:55.151242Z",
     "shell.execute_reply": "2023-04-13T10:02:55.151741Z",
     "shell.execute_reply.started": "2023-04-13T09:48:53.652865Z"
    },
    "papermill": {
     "duration": 0.974957,
     "end_time": "2023-04-13T10:02:55.151963",
     "exception": false,
     "start_time": "2023-04-13T10:02:54.177006",
     "status": "completed"
    },
    "tags": []
   },
   "outputs": [
    {
     "data": {
      "image/png": "[encoded data removed]",
      "text/plain": [
       "<Figure size 720x504 with 4 Axes>"
      ]
     },
     "metadata": {},
     "output_type": "display_data"
    }
   ],
   "source": [
    "# Looking the distribution of column Quantity\n",
    "plt.figure(figsize=(10,7))\n",
    "\n",
    "skewness = round(df.Quantity.skew(),2)\n",
    "kurtosis = round(df.Quantity.kurtosis(),2)\n",
    "mean = round(np.mean(df.Quantity),0)\n",
    "median = np.median(df.Quantity)\n",
    "\n",
    "plt.subplot(2,2,1)\n",
    "sns.boxplot(y=df.Quantity)\n",
    "plt.title('Boxplot\\n Mean:{}\\n Median:{}\\n Skewness:{}\\n Kurtosis:{}'.format(mean,median,skewness,kurtosis))\n",
    "\n",
    "plt.subplot(2,2,2)\n",
    "sns.boxplot(y=df[df.Quantity<5000]['Quantity'])\n",
    "plt.title('Distribution when Quantity<5000')\n",
    "\n",
    "plt.subplot(2,2,3)\n",
    "sns.boxplot(y=df[df.Quantity<200]['Quantity'])\n",
    "plt.title('Distribution when Quantity<200')\n",
    "\n",
    "plt.subplot(2,2,4)\n",
    "sns.boxplot(y=df[df.Quantity<50]['Quantity'])\n",
    "plt.title('Distribution when Quantity<50')\n",
    "\n",
    "plt.show()"
   ]
  },
  {
   "cell_type": "code",
   "execution_count": 44,
   "id": "brutal-senator",
   "metadata": {
    "execution": {
     "iopub.execute_input": "2023-04-13T10:02:55.351244Z",
     "iopub.status.busy": "2023-04-13T10:02:55.350506Z",
     "iopub.status.idle": "2023-04-13T10:02:55.397178Z",
     "shell.execute_reply": "2023-04-13T10:02:55.396554Z",
     "shell.execute_reply.started": "2023-04-13T09:48:54.488985Z"
    },
    "papermill": {
     "duration": 0.146331,
     "end_time": "2023-04-13T10:02:55.397353",
     "exception": false,
     "start_time": "2023-04-13T10:02:55.251022",
     "status": "completed"
    },
    "tags": []
   },
   "outputs": [],
   "source": [
    "# removing the expectional case where quantity > 70000\n",
    "df = df[df['Quantity']<70000]"
   ]
  },
  {
   "cell_type": "code",
   "execution_count": 45,
   "id": "distributed-triumph",
   "metadata": {
    "execution": {
     "iopub.execute_input": "2023-04-13T10:02:55.598633Z",
     "iopub.status.busy": "2023-04-13T10:02:55.597591Z",
     "iopub.status.idle": "2023-04-13T10:02:56.553869Z",
     "shell.execute_reply": "2023-04-13T10:02:56.552994Z",
     "shell.execute_reply.started": "2023-04-13T09:48:54.538440Z"
    },
    "papermill": {
     "duration": 1.060891,
     "end_time": "2023-04-13T10:02:56.554083",
     "exception": false,
     "start_time": "2023-04-13T10:02:55.493192",
     "status": "completed"
    },
    "tags": []
   },
   "outputs": [
    {
     "data": {
      "image/png": "[encoded data removed]",
      "text/plain": [
       "<Figure size 720x504 with 4 Axes>"
      ]
     },
     "metadata": {},
     "output_type": "display_data"
    }
   ],
   "source": [
    "# Looking the distribution of column Unit Price\n",
    "plt.figure(figsize=(10,7))\n",
    "\n",
    "skewness = round(df.UnitPrice.skew(),2)\n",
    "kurtosis = round(df.UnitPrice.kurtosis(),2)\n",
    "mean = round(np.mean(df.UnitPrice),0)\n",
    "median = np.median(df.UnitPrice)\n",
    "\n",
    "plt.subplot(2,2,1)\n",
    "sns.boxplot(y=df.UnitPrice)\n",
    "plt.title('Boxplot\\n Mean:{}\\n Median:{}\\n Skewness:{}\\n Kurtosis:{}'.format(mean,median,skewness,kurtosis))\n",
    "\n",
    "plt.subplot(2,2,2)\n",
    "sns.boxplot(y=df[df.UnitPrice<300]['UnitPrice'])\n",
    "plt.title('Distribution when Unit Price<300')\n",
    "\n",
    "plt.subplot(2,2,3)\n",
    "sns.boxplot(y=df[df.UnitPrice<50]['UnitPrice'])\n",
    "plt.title('Distribution when Unit Price<50')\n",
    "\n",
    "plt.subplot(2,2,4)\n",
    "sns.boxplot(y=df[df.UnitPrice<10]['UnitPrice'])\n",
    "plt.title('Distribution when Unit Price<10')\n",
    "\n",
    "plt.show()"
   ]
  },
  {
   "cell_type": "code",
   "execution_count": 46,
   "id": "assigned-airline",
   "metadata": {
    "execution": {
     "iopub.execute_input": "2023-04-13T10:02:56.781214Z",
     "iopub.status.busy": "2023-04-13T10:02:56.780422Z",
     "iopub.status.idle": "2023-04-13T10:02:57.798902Z",
     "shell.execute_reply": "2023-04-13T10:02:57.799680Z",
     "shell.execute_reply.started": "2023-04-13T09:48:55.450487Z"
    },
    "papermill": {
     "duration": 1.139063,
     "end_time": "2023-04-13T10:02:57.799929",
     "exception": false,
     "start_time": "2023-04-13T10:02:56.660866",
     "status": "completed"
    },
    "tags": []
   },
   "outputs": [
    {
     "data": {
      "image/png": "[encoded data removed]",
      "text/plain": [
       "<Figure size 1080x360 with 2 Axes>"
      ]
     },
     "metadata": {},
     "output_type": "display_data"
    }
   ],
   "source": [
    "plt.figure(figsize=(15,5))\n",
    "\n",
    "plt.subplot(1,2,1)\n",
    "sns.barplot(y = df[df['Country']=='United Kingdom'].groupby('CustomerID')['Amount'].sum().sort_values(ascending=False).head(10).values,\n",
    "            x = df[df['Country']=='United Kingdom'].groupby('CustomerID')['Amount'].sum().sort_values(ascending=False).head(10).index, \n",
    "            color='green')\n",
    "plt.ylabel('Sales')\n",
    "plt.xlabel('Customer IDs')\n",
    "plt.xticks(rotation=45)\n",
    "plt.title('Top 10 customers in terms of sales in UK',size=15)\n",
    "\n",
    "plt.subplot(1,2,2)\n",
    "sns.barplot(y = df[df['Country']=='United Kingdom'].groupby('CustomerID')['InvoiceNo'].nunique().sort_values(ascending=False).head(10).values,\n",
    "            x = df[df['Country']=='United Kingdom'].groupby('CustomerID')['InvoiceNo'].nunique().sort_values(ascending=False).head(10).index, \n",
    "            color='green')\n",
    "plt.ylabel('Number of visits')\n",
    "plt.xlabel('Customer IDs')\n",
    "plt.xticks(rotation=45)\n",
    "plt.title('Top 10 customers in terms of frequency in UK',size=15)\n",
    "\n",
    "plt.show()"
   ]
  },
  {
   "cell_type": "code",
   "execution_count": 47,
   "id": "august-sword",
   "metadata": {
    "execution": {
     "iopub.execute_input": "2023-04-13T10:02:58.018129Z",
     "iopub.status.busy": "2023-04-13T10:02:58.017197Z",
     "iopub.status.idle": "2023-04-13T10:02:58.457495Z",
     "shell.execute_reply": "2023-04-13T10:02:58.457991Z",
     "shell.execute_reply.started": "2023-04-13T09:48:56.412734Z"
    },
    "papermill": {
     "duration": 0.553695,
     "end_time": "2023-04-13T10:02:58.458223",
     "exception": false,
     "start_time": "2023-04-13T10:02:57.904528",
     "status": "completed"
    },
    "tags": []
   },
   "outputs": [
    {
     "data": {
      "image/png": "[encoded data removed]",
      "text/plain": [
       "<Figure size 864x360 with 1 Axes>"
      ]
     },
     "metadata": {},
     "output_type": "display_data"
    }
   ],
   "source": [
    "plt.figure(figsize=(12,5))\n",
    "df[df['Country']=='United Kingdom'].groupby(['year','month'])['Amount'].sum().plot(kind='line',label='UK',color='blue')\n",
    "df[df['Country']=='Others'].groupby(['year','month'])['Amount'].sum().plot(kind='line',label='Other',color='grey')\n",
    "plt.xlabel('Year-Month',size=12)\n",
    "plt.ylabel('Total Sales', size=12)\n",
    "plt.title('Sales in each month for an year', size=15)\n",
    "plt.legend(fontsize=12)\n",
    "plt.show()"
   ]
  },
  {
   "cell_type": "code",
   "execution_count": 48,
   "id": "demonstrated-mobility",
   "metadata": {
    "execution": {
     "iopub.execute_input": "2023-04-13T10:02:58.664787Z",
     "iopub.status.busy": "2023-04-13T10:02:58.663765Z",
     "iopub.status.idle": "2023-04-13T10:02:59.063279Z",
     "shell.execute_reply": "2023-04-13T10:02:59.063912Z",
     "shell.execute_reply.started": "2023-04-13T09:48:56.833840Z"
    },
    "papermill": {
     "duration": 0.504447,
     "end_time": "2023-04-13T10:02:59.064131",
     "exception": false,
     "start_time": "2023-04-13T10:02:58.559684",
     "status": "completed"
    },
    "tags": []
   },
   "outputs": [
    {
     "data": {
      "image/png": "[encoded data removed]",
      "text/plain": [
       "<Figure size 864x360 with 1 Axes>"
      ]
     },
     "metadata": {},
     "output_type": "display_data"
    }
   ],
   "source": [
    "plt.figure(figsize=(12,5))\n",
    "df[df['Country']=='United Kingdom'].groupby(['day'])['Amount'].sum().plot(kind='line',label='UK',color='blue')\n",
    "df[df['Country']=='Others'].groupby(['day'])['Amount'].sum().plot(kind='line',label='Other',color='grey')\n",
    "plt.xlabel('Day',size=12)\n",
    "plt.ylabel('Total Sales', size=12)\n",
    "plt.title('Sales on each day of a month', size=15)\n",
    "plt.legend(fontsize=12)\n",
    "plt.show()"
   ]
  },
  {
   "cell_type": "code",
   "execution_count": 49,
   "id": "combined-score",
   "metadata": {
    "execution": {
     "iopub.execute_input": "2023-04-13T10:02:59.284441Z",
     "iopub.status.busy": "2023-04-13T10:02:59.283420Z",
     "iopub.status.idle": "2023-04-13T10:02:59.690342Z",
     "shell.execute_reply": "2023-04-13T10:02:59.690886Z",
     "shell.execute_reply.started": "2023-04-13T09:48:57.219811Z"
    },
    "papermill": {
     "duration": 0.515417,
     "end_time": "2023-04-13T10:02:59.691134",
     "exception": false,
     "start_time": "2023-04-13T10:02:59.175717",
     "status": "completed"
    },
    "tags": []
   },
   "outputs": [
    {
     "data": {
      "image/png": "[encoded data removed]",
      "text/plain": [
       "<Figure size 864x360 with 1 Axes>"
      ]
     },
     "metadata": {},
     "output_type": "display_data"
    }
   ],
   "source": [
    "plt.figure(figsize=(12,5))\n",
    "df[df['Country']=='United Kingdom'].groupby(['hour'])['Amount'].sum().plot(kind='line',label='UK',color='blue')\n",
    "df[df['Country']=='Others'].groupby(['hour'])['Amount'].sum().plot(kind='line',label='Other',color='grey')\n",
    "plt.xlabel('Hours',size=12)\n",
    "plt.ylabel('Total Sales', size=12)\n",
    "plt.title('Sales in each hour in a day', size=15)\n",
    "plt.legend(fontsize=12)\n",
    "plt.show()"
   ]
  },
  {
   "cell_type": "code",
   "execution_count": 50,
   "id": "attractive-maine",
   "metadata": {
    "execution": {
     "iopub.execute_input": "2023-04-13T10:02:59.919690Z",
     "iopub.status.busy": "2023-04-13T10:02:59.918180Z",
     "iopub.status.idle": "2023-04-13T10:03:00.029410Z",
     "shell.execute_reply": "2023-04-13T10:03:00.028779Z",
     "shell.execute_reply.started": "2023-04-13T09:48:57.600790Z"
    },
    "papermill": {
     "duration": 0.227917,
     "end_time": "2023-04-13T10:03:00.029593",
     "exception": false,
     "start_time": "2023-04-13T10:02:59.801676",
     "status": "completed"
    },
    "tags": []
   },
   "outputs": [
    {
     "data": {
      "text/html": [
       "<div>\n",
       "<style scoped>\n",
       "    .dataframe tbody tr th:only-of-type {\n",
       "        vertical-align: middle;\n",
       "    }\n",
       "\n",
       "    .dataframe tbody tr th {\n",
       "        vertical-align: top;\n",
       "    }\n",
       "\n",
       "    .dataframe thead th {\n",
       "        text-align: right;\n",
       "    }\n",
       "</style>\n",
       "<table border=\"1\" class=\"dataframe\">\n",
       "  <thead>\n",
       "    <tr style=\"text-align: right;\">\n",
       "      <th></th>\n",
       "      <th>InvoiceNo</th>\n",
       "      <th>StockCode</th>\n",
       "      <th>Description</th>\n",
       "      <th>Quantity</th>\n",
       "      <th>InvoiceDate</th>\n",
       "      <th>UnitPrice</th>\n",
       "      <th>CustomerID</th>\n",
       "      <th>Country</th>\n",
       "      <th>Amount</th>\n",
       "    </tr>\n",
       "  </thead>\n",
       "  <tbody>\n",
       "    <tr>\n",
       "      <th>0</th>\n",
       "      <td>536365</td>\n",
       "      <td>85123A</td>\n",
       "      <td>WHITE HANGING HEART T-LIGHT HOLDER</td>\n",
       "      <td>6</td>\n",
       "      <td>2010-12-01 08:26:00</td>\n",
       "      <td>2.55</td>\n",
       "      <td>17850.0</td>\n",
       "      <td>United Kingdom</td>\n",
       "      <td>15.30</td>\n",
       "    </tr>\n",
       "    <tr>\n",
       "      <th>1</th>\n",
       "      <td>536365</td>\n",
       "      <td>71053</td>\n",
       "      <td>WHITE METAL LANTERN</td>\n",
       "      <td>6</td>\n",
       "      <td>2010-12-01 08:26:00</td>\n",
       "      <td>3.39</td>\n",
       "      <td>17850.0</td>\n",
       "      <td>United Kingdom</td>\n",
       "      <td>20.34</td>\n",
       "    </tr>\n",
       "    <tr>\n",
       "      <th>2</th>\n",
       "      <td>536365</td>\n",
       "      <td>84406B</td>\n",
       "      <td>CREAM CUPID HEARTS COAT HANGER</td>\n",
       "      <td>8</td>\n",
       "      <td>2010-12-01 08:26:00</td>\n",
       "      <td>2.75</td>\n",
       "      <td>17850.0</td>\n",
       "      <td>United Kingdom</td>\n",
       "      <td>22.00</td>\n",
       "    </tr>\n",
       "    <tr>\n",
       "      <th>3</th>\n",
       "      <td>536365</td>\n",
       "      <td>84029G</td>\n",
       "      <td>KNITTED UNION FLAG HOT WATER BOTTLE</td>\n",
       "      <td>6</td>\n",
       "      <td>2010-12-01 08:26:00</td>\n",
       "      <td>3.39</td>\n",
       "      <td>17850.0</td>\n",
       "      <td>United Kingdom</td>\n",
       "      <td>20.34</td>\n",
       "    </tr>\n",
       "    <tr>\n",
       "      <th>4</th>\n",
       "      <td>536365</td>\n",
       "      <td>84029E</td>\n",
       "      <td>RED WOOLLY HOTTIE WHITE HEART.</td>\n",
       "      <td>6</td>\n",
       "      <td>2010-12-01 08:26:00</td>\n",
       "      <td>3.39</td>\n",
       "      <td>17850.0</td>\n",
       "      <td>United Kingdom</td>\n",
       "      <td>20.34</td>\n",
       "    </tr>\n",
       "  </tbody>\n",
       "</table>\n",
       "</div>"
      ],
      "text/plain": [
       "  InvoiceNo StockCode                          Description  Quantity  \\\n",
       "0    536365    85123A   WHITE HANGING HEART T-LIGHT HOLDER         6   \n",
       "1    536365     71053                  WHITE METAL LANTERN         6   \n",
       "2    536365    84406B       CREAM CUPID HEARTS COAT HANGER         8   \n",
       "3    536365    84029G  KNITTED UNION FLAG HOT WATER BOTTLE         6   \n",
       "4    536365    84029E       RED WOOLLY HOTTIE WHITE HEART.         6   \n",
       "\n",
       "          InvoiceDate  UnitPrice  CustomerID         Country  Amount  \n",
       "0 2010-12-01 08:26:00       2.55     17850.0  United Kingdom   15.30  \n",
       "1 2010-12-01 08:26:00       3.39     17850.0  United Kingdom   20.34  \n",
       "2 2010-12-01 08:26:00       2.75     17850.0  United Kingdom   22.00  \n",
       "3 2010-12-01 08:26:00       3.39     17850.0  United Kingdom   20.34  \n",
       "4 2010-12-01 08:26:00       3.39     17850.0  United Kingdom   20.34  "
      ]
     },
     "execution_count": 50,
     "metadata": {},
     "output_type": "execute_result"
    }
   ],
   "source": [
    "# copying the data into new df\n",
    "df_cohort = df.copy()\n",
    "# select only limited columns\n",
    "df_cohort = df_cohort.iloc[:,:9]\n",
    "df_cohort.head()"
   ]
  },
  {
   "cell_type": "code",
   "execution_count": 51,
   "id": "molecular-brunei",
   "metadata": {
    "execution": {
     "iopub.execute_input": "2023-04-13T10:03:00.281031Z",
     "iopub.status.busy": "2023-04-13T10:03:00.279952Z",
     "iopub.status.idle": "2023-04-13T10:03:02.462002Z",
     "shell.execute_reply": "2023-04-13T10:03:02.462578Z",
     "shell.execute_reply.started": "2023-04-13T09:48:57.694886Z"
    },
    "papermill": {
     "duration": 2.313307,
     "end_time": "2023-04-13T10:03:02.462807",
     "exception": false,
     "start_time": "2023-04-13T10:03:00.149500",
     "status": "completed"
    },
    "tags": []
   },
   "outputs": [],
   "source": [
    "# creating the first variable 'Invoice Month'\n",
    "# extracting only year-month from Invoice Date and day will be 1 automatically\n",
    "\n",
    "df_cohort['InvoiceMonth'] = df_cohort['InvoiceDate'].dt.strftime('%Y-%m')\n",
    "# converting the variable to datetime format\n",
    "df_cohort['InvoiceMonth'] = pd.to_datetime(df_cohort['InvoiceMonth'])"
   ]
  },
  {
   "cell_type": "code",
   "execution_count": 52,
   "id": "curious-diana",
   "metadata": {
    "execution": {
     "iopub.execute_input": "2023-04-13T10:03:02.698198Z",
     "iopub.status.busy": "2023-04-13T10:03:02.697148Z",
     "iopub.status.idle": "2023-04-13T10:03:02.748400Z",
     "shell.execute_reply": "2023-04-13T10:03:02.747564Z",
     "shell.execute_reply.started": "2023-04-13T09:48:59.652956Z"
    },
    "papermill": {
     "duration": 0.169132,
     "end_time": "2023-04-13T10:03:02.748573",
     "exception": false,
     "start_time": "2023-04-13T10:03:02.579441",
     "status": "completed"
    },
    "tags": []
   },
   "outputs": [],
   "source": [
    "# creating the second variable 'Cohort Month'\n",
    "# getting the first time purchase date for each customer\n",
    "\n",
    "df_cohort['CohortMonth'] = df_cohort.groupby('CustomerID')['InvoiceMonth'].transform('min')\n",
    "# converting the variable to datetime format\n",
    "df_cohort['CohortMonth'] = pd.to_datetime(df_cohort['CohortMonth'])"
   ]
  },
  {
   "cell_type": "code",
   "execution_count": 53,
   "id": "aggregate-billy",
   "metadata": {
    "execution": {
     "iopub.execute_input": "2023-04-13T10:03:03.062927Z",
     "iopub.status.busy": "2023-04-13T10:03:03.061835Z",
     "iopub.status.idle": "2023-04-13T10:03:03.092720Z",
     "shell.execute_reply": "2023-04-13T10:03:03.093347Z",
     "shell.execute_reply.started": "2023-04-13T09:48:59.699715Z"
    },
    "papermill": {
     "duration": 0.229766,
     "end_time": "2023-04-13T10:03:03.093599",
     "exception": false,
     "start_time": "2023-04-13T10:03:02.863833",
     "status": "completed"
    },
    "tags": []
   },
   "outputs": [
    {
     "name": "stdout",
     "output_type": "stream",
     "text": [
      "<class 'pandas.core.frame.DataFrame'>\n",
      "Int64Index: 392351 entries, 0 to 541908\n",
      "Data columns (total 11 columns):\n",
      " #   Column        Non-Null Count   Dtype         \n",
      "---  ------        --------------   -----         \n",
      " 0   InvoiceNo     392351 non-null  object        \n",
      " 1   StockCode     392351 non-null  object        \n",
      " 2   Description   392351 non-null  object        \n",
      " 3   Quantity      392351 non-null  int64         \n",
      " 4   InvoiceDate   392351 non-null  datetime64[ns]\n",
      " 5   UnitPrice     392351 non-null  float64       \n",
      " 6   CustomerID    392351 non-null  float64       \n",
      " 7   Country       392351 non-null  object        \n",
      " 8   Amount        392351 non-null  float64       \n",
      " 9   InvoiceMonth  392351 non-null  datetime64[ns]\n",
      " 10  CohortMonth   392351 non-null  datetime64[ns]\n",
      "dtypes: datetime64[ns](3), float64(3), int64(1), object(4)\n",
      "memory usage: 35.9+ MB\n"
     ]
    }
   ],
   "source": [
    "df_cohort.info()"
   ]
  },
  {
   "cell_type": "code",
   "execution_count": 54,
   "id": "mexican-enzyme",
   "metadata": {
    "execution": {
     "iopub.execute_input": "2023-04-13T10:03:03.331307Z",
     "iopub.status.busy": "2023-04-13T10:03:03.330244Z",
     "iopub.status.idle": "2023-04-13T10:03:03.516816Z",
     "shell.execute_reply": "2023-04-13T10:03:03.518028Z",
     "shell.execute_reply.started": "2023-04-13T09:48:59.792910Z"
    },
    "papermill": {
     "duration": 0.305153,
     "end_time": "2023-04-13T10:03:03.518378",
     "exception": false,
     "start_time": "2023-04-13T10:03:03.213225",
     "status": "completed"
    },
    "tags": []
   },
   "outputs": [],
   "source": [
    "# creating the third variable 'Cohort Period'\n",
    "# for this we create a function which calculates the number of month between their first purchase date and Invoice date\n",
    "\n",
    "def diff_month(d1, d2):\n",
    "    return((d1.dt.year - d2.dt.year) * 12 + d1.dt.month - d2.dt.month)\n",
    "\n",
    "df_cohort['CohortPeriod'] = diff_month(df_cohort['InvoiceMonth'], df_cohort['CohortMonth'])"
   ]
  },
  {
   "cell_type": "code",
   "execution_count": 55,
   "id": "wrong-direction",
   "metadata": {
    "execution": {
     "iopub.execute_input": "2023-04-13T10:03:03.783394Z",
     "iopub.status.busy": "2023-04-13T10:03:03.782619Z",
     "iopub.status.idle": "2023-04-13T10:03:03.835822Z",
     "shell.execute_reply": "2023-04-13T10:03:03.834259Z",
     "shell.execute_reply.started": "2023-04-13T09:48:59.955363Z"
    },
    "papermill": {
     "duration": 0.179256,
     "end_time": "2023-04-13T10:03:03.836162",
     "exception": false,
     "start_time": "2023-04-13T10:03:03.656906",
     "status": "completed"
    },
    "tags": []
   },
   "outputs": [
    {
     "data": {
      "text/html": [
       "<div>\n",
       "<style scoped>\n",
       "    .dataframe tbody tr th:only-of-type {\n",
       "        vertical-align: middle;\n",
       "    }\n",
       "\n",
       "    .dataframe tbody tr th {\n",
       "        vertical-align: top;\n",
       "    }\n",
       "\n",
       "    .dataframe thead th {\n",
       "        text-align: right;\n",
       "    }\n",
       "</style>\n",
       "<table border=\"1\" class=\"dataframe\">\n",
       "  <thead>\n",
       "    <tr style=\"text-align: right;\">\n",
       "      <th></th>\n",
       "      <th>InvoiceNo</th>\n",
       "      <th>StockCode</th>\n",
       "      <th>Description</th>\n",
       "      <th>Quantity</th>\n",
       "      <th>InvoiceDate</th>\n",
       "      <th>UnitPrice</th>\n",
       "      <th>CustomerID</th>\n",
       "      <th>Country</th>\n",
       "      <th>Amount</th>\n",
       "      <th>InvoiceMonth</th>\n",
       "      <th>CohortMonth</th>\n",
       "      <th>CohortPeriod</th>\n",
       "    </tr>\n",
       "  </thead>\n",
       "  <tbody>\n",
       "    <tr>\n",
       "      <th>468703</th>\n",
       "      <td>576538</td>\n",
       "      <td>21577</td>\n",
       "      <td>SAVE THE PLANET COTTON TOTE BAG</td>\n",
       "      <td>5</td>\n",
       "      <td>2011-11-15 12:42:00</td>\n",
       "      <td>2.25</td>\n",
       "      <td>14725.0</td>\n",
       "      <td>United Kingdom</td>\n",
       "      <td>11.25</td>\n",
       "      <td>2011-11-01</td>\n",
       "      <td>2011-11-01</td>\n",
       "      <td>0</td>\n",
       "    </tr>\n",
       "    <tr>\n",
       "      <th>262288</th>\n",
       "      <td>559909</td>\n",
       "      <td>20754</td>\n",
       "      <td>RETROSPOT RED WASHING UP GLOVES</td>\n",
       "      <td>6</td>\n",
       "      <td>2011-07-13 14:28:00</td>\n",
       "      <td>2.10</td>\n",
       "      <td>18245.0</td>\n",
       "      <td>United Kingdom</td>\n",
       "      <td>12.60</td>\n",
       "      <td>2011-07-01</td>\n",
       "      <td>2010-12-01</td>\n",
       "      <td>7</td>\n",
       "    </tr>\n",
       "    <tr>\n",
       "      <th>238810</th>\n",
       "      <td>557956</td>\n",
       "      <td>20727</td>\n",
       "      <td>LUNCH BAG  BLACK SKULL.</td>\n",
       "      <td>3</td>\n",
       "      <td>2011-06-23 19:20:00</td>\n",
       "      <td>1.65</td>\n",
       "      <td>18283.0</td>\n",
       "      <td>United Kingdom</td>\n",
       "      <td>4.95</td>\n",
       "      <td>2011-06-01</td>\n",
       "      <td>2011-01-01</td>\n",
       "      <td>5</td>\n",
       "    </tr>\n",
       "    <tr>\n",
       "      <th>289265</th>\n",
       "      <td>562260</td>\n",
       "      <td>23012</td>\n",
       "      <td>GLASS APOTHECARY BOTTLE PERFUME</td>\n",
       "      <td>12</td>\n",
       "      <td>2011-08-03 15:38:00</td>\n",
       "      <td>3.45</td>\n",
       "      <td>13408.0</td>\n",
       "      <td>United Kingdom</td>\n",
       "      <td>41.40</td>\n",
       "      <td>2011-08-01</td>\n",
       "      <td>2010-12-01</td>\n",
       "      <td>8</td>\n",
       "    </tr>\n",
       "    <tr>\n",
       "      <th>447725</th>\n",
       "      <td>574960</td>\n",
       "      <td>22867</td>\n",
       "      <td>HAND WARMER BIRD DESIGN</td>\n",
       "      <td>12</td>\n",
       "      <td>2011-11-08 10:17:00</td>\n",
       "      <td>2.10</td>\n",
       "      <td>17091.0</td>\n",
       "      <td>United Kingdom</td>\n",
       "      <td>25.20</td>\n",
       "      <td>2011-11-01</td>\n",
       "      <td>2010-12-01</td>\n",
       "      <td>11</td>\n",
       "    </tr>\n",
       "  </tbody>\n",
       "</table>\n",
       "</div>"
      ],
      "text/plain": [
       "       InvoiceNo StockCode                      Description  Quantity  \\\n",
       "468703    576538     21577  SAVE THE PLANET COTTON TOTE BAG         5   \n",
       "262288    559909     20754  RETROSPOT RED WASHING UP GLOVES         6   \n",
       "238810    557956     20727          LUNCH BAG  BLACK SKULL.         3   \n",
       "289265    562260     23012  GLASS APOTHECARY BOTTLE PERFUME        12   \n",
       "447725    574960     22867          HAND WARMER BIRD DESIGN        12   \n",
       "\n",
       "               InvoiceDate  UnitPrice  CustomerID         Country  Amount  \\\n",
       "468703 2011-11-15 12:42:00       2.25     14725.0  United Kingdom   11.25   \n",
       "262288 2011-07-13 14:28:00       2.10     18245.0  United Kingdom   12.60   \n",
       "238810 2011-06-23 19:20:00       1.65     18283.0  United Kingdom    4.95   \n",
       "289265 2011-08-03 15:38:00       3.45     13408.0  United Kingdom   41.40   \n",
       "447725 2011-11-08 10:17:00       2.10     17091.0  United Kingdom   25.20   \n",
       "\n",
       "       InvoiceMonth CohortMonth  CohortPeriod  \n",
       "468703   2011-11-01  2011-11-01             0  \n",
       "262288   2011-07-01  2010-12-01             7  \n",
       "238810   2011-06-01  2011-01-01             5  \n",
       "289265   2011-08-01  2010-12-01             8  \n",
       "447725   2011-11-01  2010-12-01            11  "
      ]
     },
     "execution_count": 55,
     "metadata": {},
     "output_type": "execute_result"
    }
   ],
   "source": [
    "df_cohort.sample(5)"
   ]
  },
  {
   "cell_type": "code",
   "execution_count": 56,
   "id": "asian-toddler",
   "metadata": {
    "execution": {
     "iopub.execute_input": "2023-04-13T10:03:04.081563Z",
     "iopub.status.busy": "2023-04-13T10:03:04.080667Z",
     "iopub.status.idle": "2023-04-13T10:03:04.216133Z",
     "shell.execute_reply": "2023-04-13T10:03:04.216891Z",
     "shell.execute_reply.started": "2023-04-13T09:48:59.996662Z"
    },
    "papermill": {
     "duration": 0.261421,
     "end_time": "2023-04-13T10:03:04.217173",
     "exception": false,
     "start_time": "2023-04-13T10:03:03.955752",
     "status": "completed"
    },
    "tags": []
   },
   "outputs": [
    {
     "data": {
      "text/html": [
       "<div>\n",
       "<style scoped>\n",
       "    .dataframe tbody tr th:only-of-type {\n",
       "        vertical-align: middle;\n",
       "    }\n",
       "\n",
       "    .dataframe tbody tr th {\n",
       "        vertical-align: top;\n",
       "    }\n",
       "\n",
       "    .dataframe thead th {\n",
       "        text-align: right;\n",
       "    }\n",
       "</style>\n",
       "<table border=\"1\" class=\"dataframe\">\n",
       "  <thead>\n",
       "    <tr style=\"text-align: right;\">\n",
       "      <th>CohortPeriod</th>\n",
       "      <th>0</th>\n",
       "      <th>1</th>\n",
       "      <th>2</th>\n",
       "      <th>3</th>\n",
       "      <th>4</th>\n",
       "      <th>5</th>\n",
       "      <th>6</th>\n",
       "      <th>7</th>\n",
       "      <th>8</th>\n",
       "      <th>9</th>\n",
       "      <th>10</th>\n",
       "      <th>11</th>\n",
       "      <th>12</th>\n",
       "    </tr>\n",
       "    <tr>\n",
       "      <th>CohortMonth</th>\n",
       "      <th></th>\n",
       "      <th></th>\n",
       "      <th></th>\n",
       "      <th></th>\n",
       "      <th></th>\n",
       "      <th></th>\n",
       "      <th></th>\n",
       "      <th></th>\n",
       "      <th></th>\n",
       "      <th></th>\n",
       "      <th></th>\n",
       "      <th></th>\n",
       "      <th></th>\n",
       "    </tr>\n",
       "  </thead>\n",
       "  <tbody>\n",
       "    <tr>\n",
       "      <th>2010-12-01</th>\n",
       "      <td>884.0</td>\n",
       "      <td>323.0</td>\n",
       "      <td>286.0</td>\n",
       "      <td>339.0</td>\n",
       "      <td>321.0</td>\n",
       "      <td>352.0</td>\n",
       "      <td>320.0</td>\n",
       "      <td>308.0</td>\n",
       "      <td>312.0</td>\n",
       "      <td>349.0</td>\n",
       "      <td>330.0</td>\n",
       "      <td>444.0</td>\n",
       "      <td>234.0</td>\n",
       "    </tr>\n",
       "    <tr>\n",
       "      <th>2011-01-01</th>\n",
       "      <td>415.0</td>\n",
       "      <td>91.0</td>\n",
       "      <td>111.0</td>\n",
       "      <td>96.0</td>\n",
       "      <td>132.0</td>\n",
       "      <td>120.0</td>\n",
       "      <td>103.0</td>\n",
       "      <td>100.0</td>\n",
       "      <td>124.0</td>\n",
       "      <td>136.0</td>\n",
       "      <td>152.0</td>\n",
       "      <td>49.0</td>\n",
       "      <td>NaN</td>\n",
       "    </tr>\n",
       "    <tr>\n",
       "      <th>2011-02-01</th>\n",
       "      <td>380.0</td>\n",
       "      <td>71.0</td>\n",
       "      <td>71.0</td>\n",
       "      <td>109.0</td>\n",
       "      <td>103.0</td>\n",
       "      <td>94.0</td>\n",
       "      <td>97.0</td>\n",
       "      <td>104.0</td>\n",
       "      <td>94.0</td>\n",
       "      <td>116.0</td>\n",
       "      <td>26.0</td>\n",
       "      <td>NaN</td>\n",
       "      <td>NaN</td>\n",
       "    </tr>\n",
       "    <tr>\n",
       "      <th>2011-03-01</th>\n",
       "      <td>452.0</td>\n",
       "      <td>67.0</td>\n",
       "      <td>114.0</td>\n",
       "      <td>90.0</td>\n",
       "      <td>101.0</td>\n",
       "      <td>76.0</td>\n",
       "      <td>121.0</td>\n",
       "      <td>104.0</td>\n",
       "      <td>126.0</td>\n",
       "      <td>39.0</td>\n",
       "      <td>NaN</td>\n",
       "      <td>NaN</td>\n",
       "      <td>NaN</td>\n",
       "    </tr>\n",
       "    <tr>\n",
       "      <th>2011-04-01</th>\n",
       "      <td>300.0</td>\n",
       "      <td>63.0</td>\n",
       "      <td>61.0</td>\n",
       "      <td>63.0</td>\n",
       "      <td>59.0</td>\n",
       "      <td>68.0</td>\n",
       "      <td>65.0</td>\n",
       "      <td>78.0</td>\n",
       "      <td>22.0</td>\n",
       "      <td>NaN</td>\n",
       "      <td>NaN</td>\n",
       "      <td>NaN</td>\n",
       "      <td>NaN</td>\n",
       "    </tr>\n",
       "    <tr>\n",
       "      <th>2011-05-01</th>\n",
       "      <td>284.0</td>\n",
       "      <td>54.0</td>\n",
       "      <td>49.0</td>\n",
       "      <td>49.0</td>\n",
       "      <td>59.0</td>\n",
       "      <td>66.0</td>\n",
       "      <td>75.0</td>\n",
       "      <td>26.0</td>\n",
       "      <td>NaN</td>\n",
       "      <td>NaN</td>\n",
       "      <td>NaN</td>\n",
       "      <td>NaN</td>\n",
       "      <td>NaN</td>\n",
       "    </tr>\n",
       "    <tr>\n",
       "      <th>2011-06-01</th>\n",
       "      <td>242.0</td>\n",
       "      <td>42.0</td>\n",
       "      <td>38.0</td>\n",
       "      <td>64.0</td>\n",
       "      <td>56.0</td>\n",
       "      <td>80.0</td>\n",
       "      <td>23.0</td>\n",
       "      <td>NaN</td>\n",
       "      <td>NaN</td>\n",
       "      <td>NaN</td>\n",
       "      <td>NaN</td>\n",
       "      <td>NaN</td>\n",
       "      <td>NaN</td>\n",
       "    </tr>\n",
       "    <tr>\n",
       "      <th>2011-07-01</th>\n",
       "      <td>187.0</td>\n",
       "      <td>34.0</td>\n",
       "      <td>39.0</td>\n",
       "      <td>42.0</td>\n",
       "      <td>51.0</td>\n",
       "      <td>21.0</td>\n",
       "      <td>NaN</td>\n",
       "      <td>NaN</td>\n",
       "      <td>NaN</td>\n",
       "      <td>NaN</td>\n",
       "      <td>NaN</td>\n",
       "      <td>NaN</td>\n",
       "      <td>NaN</td>\n",
       "    </tr>\n",
       "    <tr>\n",
       "      <th>2011-08-01</th>\n",
       "      <td>169.0</td>\n",
       "      <td>35.0</td>\n",
       "      <td>42.0</td>\n",
       "      <td>41.0</td>\n",
       "      <td>21.0</td>\n",
       "      <td>NaN</td>\n",
       "      <td>NaN</td>\n",
       "      <td>NaN</td>\n",
       "      <td>NaN</td>\n",
       "      <td>NaN</td>\n",
       "      <td>NaN</td>\n",
       "      <td>NaN</td>\n",
       "      <td>NaN</td>\n",
       "    </tr>\n",
       "    <tr>\n",
       "      <th>2011-09-01</th>\n",
       "      <td>299.0</td>\n",
       "      <td>70.0</td>\n",
       "      <td>90.0</td>\n",
       "      <td>34.0</td>\n",
       "      <td>NaN</td>\n",
       "      <td>NaN</td>\n",
       "      <td>NaN</td>\n",
       "      <td>NaN</td>\n",
       "      <td>NaN</td>\n",
       "      <td>NaN</td>\n",
       "      <td>NaN</td>\n",
       "      <td>NaN</td>\n",
       "      <td>NaN</td>\n",
       "    </tr>\n",
       "    <tr>\n",
       "      <th>2011-10-01</th>\n",
       "      <td>357.0</td>\n",
       "      <td>85.0</td>\n",
       "      <td>41.0</td>\n",
       "      <td>NaN</td>\n",
       "      <td>NaN</td>\n",
       "      <td>NaN</td>\n",
       "      <td>NaN</td>\n",
       "      <td>NaN</td>\n",
       "      <td>NaN</td>\n",
       "      <td>NaN</td>\n",
       "      <td>NaN</td>\n",
       "      <td>NaN</td>\n",
       "      <td>NaN</td>\n",
       "    </tr>\n",
       "    <tr>\n",
       "      <th>2011-11-01</th>\n",
       "      <td>324.0</td>\n",
       "      <td>36.0</td>\n",
       "      <td>NaN</td>\n",
       "      <td>NaN</td>\n",
       "      <td>NaN</td>\n",
       "      <td>NaN</td>\n",
       "      <td>NaN</td>\n",
       "      <td>NaN</td>\n",
       "      <td>NaN</td>\n",
       "      <td>NaN</td>\n",
       "      <td>NaN</td>\n",
       "      <td>NaN</td>\n",
       "      <td>NaN</td>\n",
       "    </tr>\n",
       "    <tr>\n",
       "      <th>2011-12-01</th>\n",
       "      <td>41.0</td>\n",
       "      <td>NaN</td>\n",
       "      <td>NaN</td>\n",
       "      <td>NaN</td>\n",
       "      <td>NaN</td>\n",
       "      <td>NaN</td>\n",
       "      <td>NaN</td>\n",
       "      <td>NaN</td>\n",
       "      <td>NaN</td>\n",
       "      <td>NaN</td>\n",
       "      <td>NaN</td>\n",
       "      <td>NaN</td>\n",
       "      <td>NaN</td>\n",
       "    </tr>\n",
       "  </tbody>\n",
       "</table>\n",
       "</div>"
      ],
      "text/plain": [
       "CohortPeriod     0      1      2      3      4      5      6      7      8   \\\n",
       "CohortMonth                                                                   \n",
       "2010-12-01    884.0  323.0  286.0  339.0  321.0  352.0  320.0  308.0  312.0   \n",
       "2011-01-01    415.0   91.0  111.0   96.0  132.0  120.0  103.0  100.0  124.0   \n",
       "2011-02-01    380.0   71.0   71.0  109.0  103.0   94.0   97.0  104.0   94.0   \n",
       "2011-03-01    452.0   67.0  114.0   90.0  101.0   76.0  121.0  104.0  126.0   \n",
       "2011-04-01    300.0   63.0   61.0   63.0   59.0   68.0   65.0   78.0   22.0   \n",
       "2011-05-01    284.0   54.0   49.0   49.0   59.0   66.0   75.0   26.0    NaN   \n",
       "2011-06-01    242.0   42.0   38.0   64.0   56.0   80.0   23.0    NaN    NaN   \n",
       "2011-07-01    187.0   34.0   39.0   42.0   51.0   21.0    NaN    NaN    NaN   \n",
       "2011-08-01    169.0   35.0   42.0   41.0   21.0    NaN    NaN    NaN    NaN   \n",
       "2011-09-01    299.0   70.0   90.0   34.0    NaN    NaN    NaN    NaN    NaN   \n",
       "2011-10-01    357.0   85.0   41.0    NaN    NaN    NaN    NaN    NaN    NaN   \n",
       "2011-11-01    324.0   36.0    NaN    NaN    NaN    NaN    NaN    NaN    NaN   \n",
       "2011-12-01     41.0    NaN    NaN    NaN    NaN    NaN    NaN    NaN    NaN   \n",
       "\n",
       "CohortPeriod     9      10     11     12  \n",
       "CohortMonth                               \n",
       "2010-12-01    349.0  330.0  444.0  234.0  \n",
       "2011-01-01    136.0  152.0   49.0    NaN  \n",
       "2011-02-01    116.0   26.0    NaN    NaN  \n",
       "2011-03-01     39.0    NaN    NaN    NaN  \n",
       "2011-04-01      NaN    NaN    NaN    NaN  \n",
       "2011-05-01      NaN    NaN    NaN    NaN  \n",
       "2011-06-01      NaN    NaN    NaN    NaN  \n",
       "2011-07-01      NaN    NaN    NaN    NaN  \n",
       "2011-08-01      NaN    NaN    NaN    NaN  \n",
       "2011-09-01      NaN    NaN    NaN    NaN  \n",
       "2011-10-01      NaN    NaN    NaN    NaN  \n",
       "2011-11-01      NaN    NaN    NaN    NaN  \n",
       "2011-12-01      NaN    NaN    NaN    NaN  "
      ]
     },
     "execution_count": 56,
     "metadata": {},
     "output_type": "execute_result"
    }
   ],
   "source": [
    "customer_cohort = df_cohort.pivot_table(index='CohortMonth', columns='CohortPeriod', values='CustomerID', aggfunc='nunique')\n",
    "customer_cohort"
   ]
  },
  {
   "cell_type": "code",
   "execution_count": 57,
   "id": "later-dublin",
   "metadata": {
    "execution": {
     "iopub.execute_input": "2023-04-13T10:03:04.442649Z",
     "iopub.status.busy": "2023-04-13T10:03:04.441800Z",
     "iopub.status.idle": "2023-04-13T10:03:04.484587Z",
     "shell.execute_reply": "2023-04-13T10:03:04.483776Z",
     "shell.execute_reply.started": "2023-04-13T09:49:00.113690Z"
    },
    "papermill": {
     "duration": 0.156745,
     "end_time": "2023-04-13T10:03:04.484756",
     "exception": false,
     "start_time": "2023-04-13T10:03:04.328011",
     "status": "completed"
    },
    "tags": []
   },
   "outputs": [
    {
     "data": {
      "text/html": [
       "<div>\n",
       "<style scoped>\n",
       "    .dataframe tbody tr th:only-of-type {\n",
       "        vertical-align: middle;\n",
       "    }\n",
       "\n",
       "    .dataframe tbody tr th {\n",
       "        vertical-align: top;\n",
       "    }\n",
       "\n",
       "    .dataframe thead th {\n",
       "        text-align: right;\n",
       "    }\n",
       "</style>\n",
       "<table border=\"1\" class=\"dataframe\">\n",
       "  <thead>\n",
       "    <tr style=\"text-align: right;\">\n",
       "      <th>CohortPeriod</th>\n",
       "      <th>0</th>\n",
       "      <th>1</th>\n",
       "      <th>2</th>\n",
       "      <th>3</th>\n",
       "      <th>4</th>\n",
       "      <th>5</th>\n",
       "      <th>6</th>\n",
       "      <th>7</th>\n",
       "      <th>8</th>\n",
       "      <th>9</th>\n",
       "      <th>10</th>\n",
       "      <th>11</th>\n",
       "      <th>12</th>\n",
       "    </tr>\n",
       "  </thead>\n",
       "  <tbody>\n",
       "    <tr>\n",
       "      <th>2010-12-01</th>\n",
       "      <td>100.0</td>\n",
       "      <td>36.5</td>\n",
       "      <td>32.4</td>\n",
       "      <td>38.3</td>\n",
       "      <td>36.3</td>\n",
       "      <td>39.8</td>\n",
       "      <td>36.2</td>\n",
       "      <td>34.8</td>\n",
       "      <td>35.3</td>\n",
       "      <td>39.5</td>\n",
       "      <td>37.3</td>\n",
       "      <td>50.2</td>\n",
       "      <td>26.5</td>\n",
       "    </tr>\n",
       "    <tr>\n",
       "      <th>2011-01-01</th>\n",
       "      <td>100.0</td>\n",
       "      <td>21.9</td>\n",
       "      <td>26.7</td>\n",
       "      <td>23.1</td>\n",
       "      <td>31.8</td>\n",
       "      <td>28.9</td>\n",
       "      <td>24.8</td>\n",
       "      <td>24.1</td>\n",
       "      <td>29.9</td>\n",
       "      <td>32.8</td>\n",
       "      <td>36.6</td>\n",
       "      <td>11.8</td>\n",
       "      <td>NaN</td>\n",
       "    </tr>\n",
       "    <tr>\n",
       "      <th>2011-02-01</th>\n",
       "      <td>100.0</td>\n",
       "      <td>18.7</td>\n",
       "      <td>18.7</td>\n",
       "      <td>28.7</td>\n",
       "      <td>27.1</td>\n",
       "      <td>24.7</td>\n",
       "      <td>25.5</td>\n",
       "      <td>27.4</td>\n",
       "      <td>24.7</td>\n",
       "      <td>30.5</td>\n",
       "      <td>6.8</td>\n",
       "      <td>NaN</td>\n",
       "      <td>NaN</td>\n",
       "    </tr>\n",
       "    <tr>\n",
       "      <th>2011-03-01</th>\n",
       "      <td>100.0</td>\n",
       "      <td>14.8</td>\n",
       "      <td>25.2</td>\n",
       "      <td>19.9</td>\n",
       "      <td>22.3</td>\n",
       "      <td>16.8</td>\n",
       "      <td>26.8</td>\n",
       "      <td>23.0</td>\n",
       "      <td>27.9</td>\n",
       "      <td>8.6</td>\n",
       "      <td>NaN</td>\n",
       "      <td>NaN</td>\n",
       "      <td>NaN</td>\n",
       "    </tr>\n",
       "    <tr>\n",
       "      <th>2011-04-01</th>\n",
       "      <td>100.0</td>\n",
       "      <td>21.0</td>\n",
       "      <td>20.3</td>\n",
       "      <td>21.0</td>\n",
       "      <td>19.7</td>\n",
       "      <td>22.7</td>\n",
       "      <td>21.7</td>\n",
       "      <td>26.0</td>\n",
       "      <td>7.3</td>\n",
       "      <td>NaN</td>\n",
       "      <td>NaN</td>\n",
       "      <td>NaN</td>\n",
       "      <td>NaN</td>\n",
       "    </tr>\n",
       "    <tr>\n",
       "      <th>2011-05-01</th>\n",
       "      <td>100.0</td>\n",
       "      <td>19.0</td>\n",
       "      <td>17.3</td>\n",
       "      <td>17.3</td>\n",
       "      <td>20.8</td>\n",
       "      <td>23.2</td>\n",
       "      <td>26.4</td>\n",
       "      <td>9.2</td>\n",
       "      <td>NaN</td>\n",
       "      <td>NaN</td>\n",
       "      <td>NaN</td>\n",
       "      <td>NaN</td>\n",
       "      <td>NaN</td>\n",
       "    </tr>\n",
       "    <tr>\n",
       "      <th>2011-06-01</th>\n",
       "      <td>100.0</td>\n",
       "      <td>17.4</td>\n",
       "      <td>15.7</td>\n",
       "      <td>26.4</td>\n",
       "      <td>23.1</td>\n",
       "      <td>33.1</td>\n",
       "      <td>9.5</td>\n",
       "      <td>NaN</td>\n",
       "      <td>NaN</td>\n",
       "      <td>NaN</td>\n",
       "      <td>NaN</td>\n",
       "      <td>NaN</td>\n",
       "      <td>NaN</td>\n",
       "    </tr>\n",
       "    <tr>\n",
       "      <th>2011-07-01</th>\n",
       "      <td>100.0</td>\n",
       "      <td>18.2</td>\n",
       "      <td>20.9</td>\n",
       "      <td>22.5</td>\n",
       "      <td>27.3</td>\n",
       "      <td>11.2</td>\n",
       "      <td>NaN</td>\n",
       "      <td>NaN</td>\n",
       "      <td>NaN</td>\n",
       "      <td>NaN</td>\n",
       "      <td>NaN</td>\n",
       "      <td>NaN</td>\n",
       "      <td>NaN</td>\n",
       "    </tr>\n",
       "    <tr>\n",
       "      <th>2011-08-01</th>\n",
       "      <td>100.0</td>\n",
       "      <td>20.7</td>\n",
       "      <td>24.9</td>\n",
       "      <td>24.3</td>\n",
       "      <td>12.4</td>\n",
       "      <td>NaN</td>\n",
       "      <td>NaN</td>\n",
       "      <td>NaN</td>\n",
       "      <td>NaN</td>\n",
       "      <td>NaN</td>\n",
       "      <td>NaN</td>\n",
       "      <td>NaN</td>\n",
       "      <td>NaN</td>\n",
       "    </tr>\n",
       "    <tr>\n",
       "      <th>2011-09-01</th>\n",
       "      <td>100.0</td>\n",
       "      <td>23.4</td>\n",
       "      <td>30.1</td>\n",
       "      <td>11.4</td>\n",
       "      <td>NaN</td>\n",
       "      <td>NaN</td>\n",
       "      <td>NaN</td>\n",
       "      <td>NaN</td>\n",
       "      <td>NaN</td>\n",
       "      <td>NaN</td>\n",
       "      <td>NaN</td>\n",
       "      <td>NaN</td>\n",
       "      <td>NaN</td>\n",
       "    </tr>\n",
       "    <tr>\n",
       "      <th>2011-10-01</th>\n",
       "      <td>100.0</td>\n",
       "      <td>23.8</td>\n",
       "      <td>11.5</td>\n",
       "      <td>NaN</td>\n",
       "      <td>NaN</td>\n",
       "      <td>NaN</td>\n",
       "      <td>NaN</td>\n",
       "      <td>NaN</td>\n",
       "      <td>NaN</td>\n",
       "      <td>NaN</td>\n",
       "      <td>NaN</td>\n",
       "      <td>NaN</td>\n",
       "      <td>NaN</td>\n",
       "    </tr>\n",
       "    <tr>\n",
       "      <th>2011-11-01</th>\n",
       "      <td>100.0</td>\n",
       "      <td>11.1</td>\n",
       "      <td>NaN</td>\n",
       "      <td>NaN</td>\n",
       "      <td>NaN</td>\n",
       "      <td>NaN</td>\n",
       "      <td>NaN</td>\n",
       "      <td>NaN</td>\n",
       "      <td>NaN</td>\n",
       "      <td>NaN</td>\n",
       "      <td>NaN</td>\n",
       "      <td>NaN</td>\n",
       "      <td>NaN</td>\n",
       "    </tr>\n",
       "    <tr>\n",
       "      <th>2011-12-01</th>\n",
       "      <td>100.0</td>\n",
       "      <td>NaN</td>\n",
       "      <td>NaN</td>\n",
       "      <td>NaN</td>\n",
       "      <td>NaN</td>\n",
       "      <td>NaN</td>\n",
       "      <td>NaN</td>\n",
       "      <td>NaN</td>\n",
       "      <td>NaN</td>\n",
       "      <td>NaN</td>\n",
       "      <td>NaN</td>\n",
       "      <td>NaN</td>\n",
       "      <td>NaN</td>\n",
       "    </tr>\n",
       "  </tbody>\n",
       "</table>\n",
       "</div>"
      ],
      "text/plain": [
       "CohortPeriod     0     1     2     3     4     5     6     7     8     9   \\\n",
       "2010-12-01    100.0  36.5  32.4  38.3  36.3  39.8  36.2  34.8  35.3  39.5   \n",
       "2011-01-01    100.0  21.9  26.7  23.1  31.8  28.9  24.8  24.1  29.9  32.8   \n",
       "2011-02-01    100.0  18.7  18.7  28.7  27.1  24.7  25.5  27.4  24.7  30.5   \n",
       "2011-03-01    100.0  14.8  25.2  19.9  22.3  16.8  26.8  23.0  27.9   8.6   \n",
       "2011-04-01    100.0  21.0  20.3  21.0  19.7  22.7  21.7  26.0   7.3   NaN   \n",
       "2011-05-01    100.0  19.0  17.3  17.3  20.8  23.2  26.4   9.2   NaN   NaN   \n",
       "2011-06-01    100.0  17.4  15.7  26.4  23.1  33.1   9.5   NaN   NaN   NaN   \n",
       "2011-07-01    100.0  18.2  20.9  22.5  27.3  11.2   NaN   NaN   NaN   NaN   \n",
       "2011-08-01    100.0  20.7  24.9  24.3  12.4   NaN   NaN   NaN   NaN   NaN   \n",
       "2011-09-01    100.0  23.4  30.1  11.4   NaN   NaN   NaN   NaN   NaN   NaN   \n",
       "2011-10-01    100.0  23.8  11.5   NaN   NaN   NaN   NaN   NaN   NaN   NaN   \n",
       "2011-11-01    100.0  11.1   NaN   NaN   NaN   NaN   NaN   NaN   NaN   NaN   \n",
       "2011-12-01    100.0   NaN   NaN   NaN   NaN   NaN   NaN   NaN   NaN   NaN   \n",
       "\n",
       "CohortPeriod    10    11    12  \n",
       "2010-12-01    37.3  50.2  26.5  \n",
       "2011-01-01    36.6  11.8   NaN  \n",
       "2011-02-01     6.8   NaN   NaN  \n",
       "2011-03-01     NaN   NaN   NaN  \n",
       "2011-04-01     NaN   NaN   NaN  \n",
       "2011-05-01     NaN   NaN   NaN  \n",
       "2011-06-01     NaN   NaN   NaN  \n",
       "2011-07-01     NaN   NaN   NaN  \n",
       "2011-08-01     NaN   NaN   NaN  \n",
       "2011-09-01     NaN   NaN   NaN  \n",
       "2011-10-01     NaN   NaN   NaN  \n",
       "2011-11-01     NaN   NaN   NaN  \n",
       "2011-12-01     NaN   NaN   NaN  "
      ]
     },
     "execution_count": 57,
     "metadata": {},
     "output_type": "execute_result"
    }
   ],
   "source": [
    "# Retention table\n",
    "\n",
    "cohort_size = customer_cohort.iloc[:,0]\n",
    "retention = customer_cohort.divide(cohort_size,axis=0) #axis=0 to ensure the divide along the row axis\n",
    "retention.index = pd.to_datetime(retention.index).date\n",
    "retention.round(3) * 100 #to show the number as percentage"
   ]
  },
  {
   "cell_type": "code",
   "execution_count": 58,
   "id": "western-blowing",
   "metadata": {
    "execution": {
     "iopub.execute_input": "2023-04-13T10:03:04.796721Z",
     "iopub.status.busy": "2023-04-13T10:03:04.735740Z",
     "iopub.status.idle": "2023-04-13T10:03:05.710771Z",
     "shell.execute_reply": "2023-04-13T10:03:05.709958Z",
     "shell.execute_reply.started": "2023-04-13T09:49:00.154800Z"
    },
    "papermill": {
     "duration": 1.102986,
     "end_time": "2023-04-13T10:03:05.710946",
     "exception": false,
     "start_time": "2023-04-13T10:03:04.607960",
     "status": "completed"
    },
    "tags": []
   },
   "outputs": [
    {
     "data": {
      "image/png": "[encoded data removed]",
      "text/plain": [
       "<Figure size 1080x576 with 2 Axes>"
      ]
     },
     "metadata": {},
     "output_type": "display_data"
    }
   ],
   "source": [
    "#Build the heatmap or pictorial representation of above table\n",
    "\n",
    "plt.figure(figsize=(15, 8))\n",
    "plt.title('Retention Rates(in %) over one year period', size=15)\n",
    "sns.heatmap(data=retention, annot = True, fmt = '.0%', cmap=\"summer_r\")\n",
    "plt.show()"
   ]
  },
  {
   "cell_type": "code",
   "execution_count": 59,
   "id": "appropriate-uzbekistan",
   "metadata": {
    "execution": {
     "iopub.execute_input": "2023-04-13T10:03:05.977798Z",
     "iopub.status.busy": "2023-04-13T10:03:05.976560Z",
     "iopub.status.idle": "2023-04-13T10:03:06.049499Z",
     "shell.execute_reply": "2023-04-13T10:03:06.050117Z",
     "shell.execute_reply.started": "2023-04-13T09:49:01.000659Z"
    },
    "papermill": {
     "duration": 0.205393,
     "end_time": "2023-04-13T10:03:06.050340",
     "exception": false,
     "start_time": "2023-04-13T10:03:05.844947",
     "status": "completed"
    },
    "tags": []
   },
   "outputs": [
    {
     "data": {
      "text/html": [
       "<div>\n",
       "<style scoped>\n",
       "    .dataframe tbody tr th:only-of-type {\n",
       "        vertical-align: middle;\n",
       "    }\n",
       "\n",
       "    .dataframe tbody tr th {\n",
       "        vertical-align: top;\n",
       "    }\n",
       "\n",
       "    .dataframe thead th {\n",
       "        text-align: right;\n",
       "    }\n",
       "</style>\n",
       "<table border=\"1\" class=\"dataframe\">\n",
       "  <thead>\n",
       "    <tr style=\"text-align: right;\">\n",
       "      <th>CohortPeriod</th>\n",
       "      <th>0</th>\n",
       "      <th>1</th>\n",
       "      <th>2</th>\n",
       "      <th>3</th>\n",
       "      <th>4</th>\n",
       "      <th>5</th>\n",
       "      <th>6</th>\n",
       "      <th>7</th>\n",
       "      <th>8</th>\n",
       "      <th>9</th>\n",
       "      <th>10</th>\n",
       "      <th>11</th>\n",
       "      <th>12</th>\n",
       "    </tr>\n",
       "    <tr>\n",
       "      <th>CohortMonth</th>\n",
       "      <th></th>\n",
       "      <th></th>\n",
       "      <th></th>\n",
       "      <th></th>\n",
       "      <th></th>\n",
       "      <th></th>\n",
       "      <th></th>\n",
       "      <th></th>\n",
       "      <th></th>\n",
       "      <th></th>\n",
       "      <th></th>\n",
       "      <th></th>\n",
       "      <th></th>\n",
       "    </tr>\n",
       "  </thead>\n",
       "  <tbody>\n",
       "    <tr>\n",
       "      <th>2010-12-01</th>\n",
       "      <td>22.23</td>\n",
       "      <td>27.28</td>\n",
       "      <td>26.87</td>\n",
       "      <td>26.90</td>\n",
       "      <td>21.16</td>\n",
       "      <td>28.14</td>\n",
       "      <td>28.29</td>\n",
       "      <td>27.40</td>\n",
       "      <td>28.99</td>\n",
       "      <td>33.44</td>\n",
       "      <td>33.73</td>\n",
       "      <td>23.56</td>\n",
       "      <td>25.8</td>\n",
       "    </tr>\n",
       "    <tr>\n",
       "      <th>2011-01-01</th>\n",
       "      <td>19.79</td>\n",
       "      <td>24.47</td>\n",
       "      <td>20.98</td>\n",
       "      <td>28.66</td>\n",
       "      <td>22.40</td>\n",
       "      <td>26.29</td>\n",
       "      <td>25.25</td>\n",
       "      <td>25.39</td>\n",
       "      <td>19.09</td>\n",
       "      <td>21.14</td>\n",
       "      <td>19.73</td>\n",
       "      <td>19.78</td>\n",
       "      <td>NaN</td>\n",
       "    </tr>\n",
       "    <tr>\n",
       "      <th>2011-02-01</th>\n",
       "      <td>18.00</td>\n",
       "      <td>20.30</td>\n",
       "      <td>20.49</td>\n",
       "      <td>19.49</td>\n",
       "      <td>17.69</td>\n",
       "      <td>16.97</td>\n",
       "      <td>22.33</td>\n",
       "      <td>22.61</td>\n",
       "      <td>18.80</td>\n",
       "      <td>22.19</td>\n",
       "      <td>23.50</td>\n",
       "      <td>NaN</td>\n",
       "      <td>NaN</td>\n",
       "    </tr>\n",
       "    <tr>\n",
       "      <th>2011-03-01</th>\n",
       "      <td>17.55</td>\n",
       "      <td>20.35</td>\n",
       "      <td>22.58</td>\n",
       "      <td>18.03</td>\n",
       "      <td>20.96</td>\n",
       "      <td>19.00</td>\n",
       "      <td>22.04</td>\n",
       "      <td>19.68</td>\n",
       "      <td>16.80</td>\n",
       "      <td>13.19</td>\n",
       "      <td>NaN</td>\n",
       "      <td>NaN</td>\n",
       "      <td>NaN</td>\n",
       "    </tr>\n",
       "    <tr>\n",
       "      <th>2011-04-01</th>\n",
       "      <td>16.89</td>\n",
       "      <td>20.85</td>\n",
       "      <td>19.50</td>\n",
       "      <td>18.74</td>\n",
       "      <td>19.55</td>\n",
       "      <td>15.00</td>\n",
       "      <td>15.25</td>\n",
       "      <td>15.97</td>\n",
       "      <td>12.34</td>\n",
       "      <td>NaN</td>\n",
       "      <td>NaN</td>\n",
       "      <td>NaN</td>\n",
       "      <td>NaN</td>\n",
       "    </tr>\n",
       "    <tr>\n",
       "      <th>2011-05-01</th>\n",
       "      <td>19.90</td>\n",
       "      <td>17.36</td>\n",
       "      <td>22.29</td>\n",
       "      <td>20.91</td>\n",
       "      <td>18.61</td>\n",
       "      <td>14.11</td>\n",
       "      <td>17.02</td>\n",
       "      <td>14.06</td>\n",
       "      <td>NaN</td>\n",
       "      <td>NaN</td>\n",
       "      <td>NaN</td>\n",
       "      <td>NaN</td>\n",
       "      <td>NaN</td>\n",
       "    </tr>\n",
       "    <tr>\n",
       "      <th>2011-06-01</th>\n",
       "      <td>24.00</td>\n",
       "      <td>16.31</td>\n",
       "      <td>19.95</td>\n",
       "      <td>20.46</td>\n",
       "      <td>15.35</td>\n",
       "      <td>16.32</td>\n",
       "      <td>13.22</td>\n",
       "      <td>NaN</td>\n",
       "      <td>NaN</td>\n",
       "      <td>NaN</td>\n",
       "      <td>NaN</td>\n",
       "      <td>NaN</td>\n",
       "      <td>NaN</td>\n",
       "    </tr>\n",
       "    <tr>\n",
       "      <th>2011-07-01</th>\n",
       "      <td>14.88</td>\n",
       "      <td>23.53</td>\n",
       "      <td>11.80</td>\n",
       "      <td>13.03</td>\n",
       "      <td>10.90</td>\n",
       "      <td>11.71</td>\n",
       "      <td>NaN</td>\n",
       "      <td>NaN</td>\n",
       "      <td>NaN</td>\n",
       "      <td>NaN</td>\n",
       "      <td>NaN</td>\n",
       "      <td>NaN</td>\n",
       "      <td>NaN</td>\n",
       "    </tr>\n",
       "    <tr>\n",
       "      <th>2011-08-01</th>\n",
       "      <td>16.52</td>\n",
       "      <td>13.16</td>\n",
       "      <td>12.53</td>\n",
       "      <td>15.89</td>\n",
       "      <td>17.00</td>\n",
       "      <td>NaN</td>\n",
       "      <td>NaN</td>\n",
       "      <td>NaN</td>\n",
       "      <td>NaN</td>\n",
       "      <td>NaN</td>\n",
       "      <td>NaN</td>\n",
       "      <td>NaN</td>\n",
       "      <td>NaN</td>\n",
       "    </tr>\n",
       "    <tr>\n",
       "      <th>2011-09-01</th>\n",
       "      <td>18.58</td>\n",
       "      <td>12.03</td>\n",
       "      <td>14.15</td>\n",
       "      <td>14.27</td>\n",
       "      <td>NaN</td>\n",
       "      <td>NaN</td>\n",
       "      <td>NaN</td>\n",
       "      <td>NaN</td>\n",
       "      <td>NaN</td>\n",
       "      <td>NaN</td>\n",
       "      <td>NaN</td>\n",
       "      <td>NaN</td>\n",
       "      <td>NaN</td>\n",
       "    </tr>\n",
       "    <tr>\n",
       "      <th>2011-10-01</th>\n",
       "      <td>14.28</td>\n",
       "      <td>11.35</td>\n",
       "      <td>14.46</td>\n",
       "      <td>NaN</td>\n",
       "      <td>NaN</td>\n",
       "      <td>NaN</td>\n",
       "      <td>NaN</td>\n",
       "      <td>NaN</td>\n",
       "      <td>NaN</td>\n",
       "      <td>NaN</td>\n",
       "      <td>NaN</td>\n",
       "      <td>NaN</td>\n",
       "      <td>NaN</td>\n",
       "    </tr>\n",
       "    <tr>\n",
       "      <th>2011-11-01</th>\n",
       "      <td>12.49</td>\n",
       "      <td>13.85</td>\n",
       "      <td>NaN</td>\n",
       "      <td>NaN</td>\n",
       "      <td>NaN</td>\n",
       "      <td>NaN</td>\n",
       "      <td>NaN</td>\n",
       "      <td>NaN</td>\n",
       "      <td>NaN</td>\n",
       "      <td>NaN</td>\n",
       "      <td>NaN</td>\n",
       "      <td>NaN</td>\n",
       "      <td>NaN</td>\n",
       "    </tr>\n",
       "    <tr>\n",
       "      <th>2011-12-01</th>\n",
       "      <td>28.10</td>\n",
       "      <td>NaN</td>\n",
       "      <td>NaN</td>\n",
       "      <td>NaN</td>\n",
       "      <td>NaN</td>\n",
       "      <td>NaN</td>\n",
       "      <td>NaN</td>\n",
       "      <td>NaN</td>\n",
       "      <td>NaN</td>\n",
       "      <td>NaN</td>\n",
       "      <td>NaN</td>\n",
       "      <td>NaN</td>\n",
       "      <td>NaN</td>\n",
       "    </tr>\n",
       "  </tbody>\n",
       "</table>\n",
       "</div>"
      ],
      "text/plain": [
       "CohortPeriod     0      1      2      3      4      5      6      7      8   \\\n",
       "CohortMonth                                                                   \n",
       "2010-12-01    22.23  27.28  26.87  26.90  21.16  28.14  28.29  27.40  28.99   \n",
       "2011-01-01    19.79  24.47  20.98  28.66  22.40  26.29  25.25  25.39  19.09   \n",
       "2011-02-01    18.00  20.30  20.49  19.49  17.69  16.97  22.33  22.61  18.80   \n",
       "2011-03-01    17.55  20.35  22.58  18.03  20.96  19.00  22.04  19.68  16.80   \n",
       "2011-04-01    16.89  20.85  19.50  18.74  19.55  15.00  15.25  15.97  12.34   \n",
       "2011-05-01    19.90  17.36  22.29  20.91  18.61  14.11  17.02  14.06    NaN   \n",
       "2011-06-01    24.00  16.31  19.95  20.46  15.35  16.32  13.22    NaN    NaN   \n",
       "2011-07-01    14.88  23.53  11.80  13.03  10.90  11.71    NaN    NaN    NaN   \n",
       "2011-08-01    16.52  13.16  12.53  15.89  17.00    NaN    NaN    NaN    NaN   \n",
       "2011-09-01    18.58  12.03  14.15  14.27    NaN    NaN    NaN    NaN    NaN   \n",
       "2011-10-01    14.28  11.35  14.46    NaN    NaN    NaN    NaN    NaN    NaN   \n",
       "2011-11-01    12.49  13.85    NaN    NaN    NaN    NaN    NaN    NaN    NaN   \n",
       "2011-12-01    28.10    NaN    NaN    NaN    NaN    NaN    NaN    NaN    NaN   \n",
       "\n",
       "CohortPeriod     9      10     11    12  \n",
       "CohortMonth                              \n",
       "2010-12-01    33.44  33.73  23.56  25.8  \n",
       "2011-01-01    21.14  19.73  19.78   NaN  \n",
       "2011-02-01    22.19  23.50    NaN   NaN  \n",
       "2011-03-01    13.19    NaN    NaN   NaN  \n",
       "2011-04-01      NaN    NaN    NaN   NaN  \n",
       "2011-05-01      NaN    NaN    NaN   NaN  \n",
       "2011-06-01      NaN    NaN    NaN   NaN  \n",
       "2011-07-01      NaN    NaN    NaN   NaN  \n",
       "2011-08-01      NaN    NaN    NaN   NaN  \n",
       "2011-09-01      NaN    NaN    NaN   NaN  \n",
       "2011-10-01      NaN    NaN    NaN   NaN  \n",
       "2011-11-01      NaN    NaN    NaN   NaN  \n",
       "2011-12-01      NaN    NaN    NaN   NaN  "
      ]
     },
     "execution_count": 59,
     "metadata": {},
     "output_type": "execute_result"
    }
   ],
   "source": [
    "amount_cohort = df_cohort.pivot_table(index='CohortMonth', columns='CohortPeriod', values='Amount', aggfunc='mean').round(2)\n",
    "amount_cohort"
   ]
  },
  {
   "cell_type": "code",
   "execution_count": 60,
   "id": "confirmed-childhood",
   "metadata": {
    "execution": {
     "iopub.execute_input": "2023-04-13T10:03:06.355551Z",
     "iopub.status.busy": "2023-04-13T10:03:06.339682Z",
     "iopub.status.idle": "2023-04-13T10:03:07.186643Z",
     "shell.execute_reply": "2023-04-13T10:03:07.185997Z",
     "shell.execute_reply.started": "2023-04-13T09:49:01.073322Z"
    },
    "papermill": {
     "duration": 1.01068,
     "end_time": "2023-04-13T10:03:07.186826",
     "exception": false,
     "start_time": "2023-04-13T10:03:06.176146",
     "status": "completed"
    },
    "tags": []
   },
   "outputs": [
    {
     "data": {
      "image/png": "[encoded data removed]",
      "text/plain": [
       "<Figure size 1080x576 with 2 Axes>"
      ]
     },
     "metadata": {},
     "output_type": "display_data"
    }
   ],
   "source": [
    "#Build the heatmap or pictorial representation of above table\n",
    "\n",
    "amount_cohort.index = pd.to_datetime(amount_cohort.index).date\n",
    "plt.figure(figsize=(15, 8))\n",
    "plt.title('Average Spending Over Time', size=15)\n",
    "sns.heatmap(data = amount_cohort, annot = True, cmap=\"summer_r\")\n",
    "plt.show()"
   ]
  },
  {
   "cell_type": "code",
   "execution_count": 61,
   "id": "amateur-console",
   "metadata": {
    "execution": {
     "iopub.execute_input": "2023-04-13T10:03:07.442566Z",
     "iopub.status.busy": "2023-04-13T10:03:07.441400Z",
     "iopub.status.idle": "2023-04-13T10:03:07.550895Z",
     "shell.execute_reply": "2023-04-13T10:03:07.550169Z",
     "shell.execute_reply.started": "2023-04-13T09:49:01.855732Z"
    },
    "papermill": {
     "duration": 0.23087,
     "end_time": "2023-04-13T10:03:07.551102",
     "exception": false,
     "start_time": "2023-04-13T10:03:07.320232",
     "status": "completed"
    },
    "tags": []
   },
   "outputs": [
    {
     "data": {
      "text/html": [
       "<div>\n",
       "<style scoped>\n",
       "    .dataframe tbody tr th:only-of-type {\n",
       "        vertical-align: middle;\n",
       "    }\n",
       "\n",
       "    .dataframe tbody tr th {\n",
       "        vertical-align: top;\n",
       "    }\n",
       "\n",
       "    .dataframe thead th {\n",
       "        text-align: right;\n",
       "    }\n",
       "</style>\n",
       "<table border=\"1\" class=\"dataframe\">\n",
       "  <thead>\n",
       "    <tr style=\"text-align: right;\">\n",
       "      <th></th>\n",
       "      <th>InvoiceNo</th>\n",
       "      <th>StockCode</th>\n",
       "      <th>Description</th>\n",
       "      <th>Quantity</th>\n",
       "      <th>InvoiceDate</th>\n",
       "      <th>UnitPrice</th>\n",
       "      <th>CustomerID</th>\n",
       "      <th>Country</th>\n",
       "      <th>Amount</th>\n",
       "    </tr>\n",
       "  </thead>\n",
       "  <tbody>\n",
       "    <tr>\n",
       "      <th>0</th>\n",
       "      <td>536365</td>\n",
       "      <td>85123A</td>\n",
       "      <td>WHITE HANGING HEART T-LIGHT HOLDER</td>\n",
       "      <td>6</td>\n",
       "      <td>2010-12-01 08:26:00</td>\n",
       "      <td>2.55</td>\n",
       "      <td>17850.0</td>\n",
       "      <td>United Kingdom</td>\n",
       "      <td>15.30</td>\n",
       "    </tr>\n",
       "    <tr>\n",
       "      <th>1</th>\n",
       "      <td>536365</td>\n",
       "      <td>71053</td>\n",
       "      <td>WHITE METAL LANTERN</td>\n",
       "      <td>6</td>\n",
       "      <td>2010-12-01 08:26:00</td>\n",
       "      <td>3.39</td>\n",
       "      <td>17850.0</td>\n",
       "      <td>United Kingdom</td>\n",
       "      <td>20.34</td>\n",
       "    </tr>\n",
       "    <tr>\n",
       "      <th>2</th>\n",
       "      <td>536365</td>\n",
       "      <td>84406B</td>\n",
       "      <td>CREAM CUPID HEARTS COAT HANGER</td>\n",
       "      <td>8</td>\n",
       "      <td>2010-12-01 08:26:00</td>\n",
       "      <td>2.75</td>\n",
       "      <td>17850.0</td>\n",
       "      <td>United Kingdom</td>\n",
       "      <td>22.00</td>\n",
       "    </tr>\n",
       "    <tr>\n",
       "      <th>3</th>\n",
       "      <td>536365</td>\n",
       "      <td>84029G</td>\n",
       "      <td>KNITTED UNION FLAG HOT WATER BOTTLE</td>\n",
       "      <td>6</td>\n",
       "      <td>2010-12-01 08:26:00</td>\n",
       "      <td>3.39</td>\n",
       "      <td>17850.0</td>\n",
       "      <td>United Kingdom</td>\n",
       "      <td>20.34</td>\n",
       "    </tr>\n",
       "    <tr>\n",
       "      <th>4</th>\n",
       "      <td>536365</td>\n",
       "      <td>84029E</td>\n",
       "      <td>RED WOOLLY HOTTIE WHITE HEART.</td>\n",
       "      <td>6</td>\n",
       "      <td>2010-12-01 08:26:00</td>\n",
       "      <td>3.39</td>\n",
       "      <td>17850.0</td>\n",
       "      <td>United Kingdom</td>\n",
       "      <td>20.34</td>\n",
       "    </tr>\n",
       "  </tbody>\n",
       "</table>\n",
       "</div>"
      ],
      "text/plain": [
       "  InvoiceNo StockCode                          Description  Quantity  \\\n",
       "0    536365    85123A   WHITE HANGING HEART T-LIGHT HOLDER         6   \n",
       "1    536365     71053                  WHITE METAL LANTERN         6   \n",
       "2    536365    84406B       CREAM CUPID HEARTS COAT HANGER         8   \n",
       "3    536365    84029G  KNITTED UNION FLAG HOT WATER BOTTLE         6   \n",
       "4    536365    84029E       RED WOOLLY HOTTIE WHITE HEART.         6   \n",
       "\n",
       "          InvoiceDate  UnitPrice  CustomerID         Country  Amount  \n",
       "0 2010-12-01 08:26:00       2.55     17850.0  United Kingdom   15.30  \n",
       "1 2010-12-01 08:26:00       3.39     17850.0  United Kingdom   20.34  \n",
       "2 2010-12-01 08:26:00       2.75     17850.0  United Kingdom   22.00  \n",
       "3 2010-12-01 08:26:00       3.39     17850.0  United Kingdom   20.34  \n",
       "4 2010-12-01 08:26:00       3.39     17850.0  United Kingdom   20.34  "
      ]
     },
     "execution_count": 61,
     "metadata": {},
     "output_type": "execute_result"
    }
   ],
   "source": [
    "# copying the data in other df\n",
    "df_rfm = df.copy()\n",
    "# keeping only desired columns\n",
    "df_rfm = df_rfm.iloc[:,:9]\n",
    "df_rfm.head()"
   ]
  },
  {
   "cell_type": "code",
   "execution_count": 62,
   "id": "ancient-charity",
   "metadata": {
    "execution": {
     "iopub.execute_input": "2023-04-13T10:03:07.806405Z",
     "iopub.status.busy": "2023-04-13T10:03:07.805357Z",
     "iopub.status.idle": "2023-04-13T10:03:07.866973Z",
     "shell.execute_reply": "2023-04-13T10:03:07.866368Z",
     "shell.execute_reply.started": "2023-04-13T09:49:01.944709Z"
    },
    "papermill": {
     "duration": 0.189615,
     "end_time": "2023-04-13T10:03:07.867221",
     "exception": false,
     "start_time": "2023-04-13T10:03:07.677606",
     "status": "completed"
    },
    "tags": []
   },
   "outputs": [
    {
     "data": {
      "text/html": [
       "<div>\n",
       "<style scoped>\n",
       "    .dataframe tbody tr th:only-of-type {\n",
       "        vertical-align: middle;\n",
       "    }\n",
       "\n",
       "    .dataframe tbody tr th {\n",
       "        vertical-align: top;\n",
       "    }\n",
       "\n",
       "    .dataframe thead th {\n",
       "        text-align: right;\n",
       "    }\n",
       "</style>\n",
       "<table border=\"1\" class=\"dataframe\">\n",
       "  <thead>\n",
       "    <tr style=\"text-align: right;\">\n",
       "      <th></th>\n",
       "      <th>CustomerID</th>\n",
       "      <th>recency</th>\n",
       "    </tr>\n",
       "  </thead>\n",
       "  <tbody>\n",
       "    <tr>\n",
       "      <th>0</th>\n",
       "      <td>12347.0</td>\n",
       "      <td>3</td>\n",
       "    </tr>\n",
       "    <tr>\n",
       "      <th>1</th>\n",
       "      <td>12348.0</td>\n",
       "      <td>76</td>\n",
       "    </tr>\n",
       "    <tr>\n",
       "      <th>2</th>\n",
       "      <td>12349.0</td>\n",
       "      <td>19</td>\n",
       "    </tr>\n",
       "    <tr>\n",
       "      <th>3</th>\n",
       "      <td>12350.0</td>\n",
       "      <td>311</td>\n",
       "    </tr>\n",
       "    <tr>\n",
       "      <th>4</th>\n",
       "      <td>12352.0</td>\n",
       "      <td>37</td>\n",
       "    </tr>\n",
       "  </tbody>\n",
       "</table>\n",
       "</div>"
      ],
      "text/plain": [
       "   CustomerID  recency\n",
       "0     12347.0        3\n",
       "1     12348.0       76\n",
       "2     12349.0       19\n",
       "3     12350.0      311\n",
       "4     12352.0       37"
      ]
     },
     "execution_count": 62,
     "metadata": {},
     "output_type": "execute_result"
    }
   ],
   "source": [
    "# extracting the RECENCY\n",
    "\n",
    "recency = pd.DataFrame(df_rfm.groupby('CustomerID')['InvoiceDate'].max().reset_index())\n",
    "recency['InvoiceDate'] = pd.to_datetime(recency['InvoiceDate']).dt.date\n",
    "recency['MaxDate'] = recency['InvoiceDate'].max()\n",
    "recency['recency'] = (recency['MaxDate'] - recency['InvoiceDate']).dt.days + 1\n",
    "recency = recency[['CustomerID','recency']]\n",
    "recency.head()"
   ]
  },
  {
   "cell_type": "code",
   "execution_count": 63,
   "id": "given-monitor",
   "metadata": {
    "execution": {
     "iopub.execute_input": "2023-04-13T10:03:08.121122Z",
     "iopub.status.busy": "2023-04-13T10:03:08.119910Z",
     "iopub.status.idle": "2023-04-13T10:03:08.192819Z",
     "shell.execute_reply": "2023-04-13T10:03:08.193316Z",
     "shell.execute_reply.started": "2023-04-13T09:49:01.997180Z"
    },
    "papermill": {
     "duration": 0.199159,
     "end_time": "2023-04-13T10:03:08.193523",
     "exception": false,
     "start_time": "2023-04-13T10:03:07.994364",
     "status": "completed"
    },
    "tags": []
   },
   "outputs": [
    {
     "data": {
      "text/html": [
       "<div>\n",
       "<style scoped>\n",
       "    .dataframe tbody tr th:only-of-type {\n",
       "        vertical-align: middle;\n",
       "    }\n",
       "\n",
       "    .dataframe tbody tr th {\n",
       "        vertical-align: top;\n",
       "    }\n",
       "\n",
       "    .dataframe thead th {\n",
       "        text-align: right;\n",
       "    }\n",
       "</style>\n",
       "<table border=\"1\" class=\"dataframe\">\n",
       "  <thead>\n",
       "    <tr style=\"text-align: right;\">\n",
       "      <th></th>\n",
       "      <th>fCustomerID</th>\n",
       "      <th>frequency</th>\n",
       "    </tr>\n",
       "  </thead>\n",
       "  <tbody>\n",
       "    <tr>\n",
       "      <th>0</th>\n",
       "      <td>12347.0</td>\n",
       "      <td>7</td>\n",
       "    </tr>\n",
       "    <tr>\n",
       "      <th>1</th>\n",
       "      <td>12348.0</td>\n",
       "      <td>4</td>\n",
       "    </tr>\n",
       "    <tr>\n",
       "      <th>2</th>\n",
       "      <td>12349.0</td>\n",
       "      <td>1</td>\n",
       "    </tr>\n",
       "    <tr>\n",
       "      <th>3</th>\n",
       "      <td>12350.0</td>\n",
       "      <td>1</td>\n",
       "    </tr>\n",
       "    <tr>\n",
       "      <th>4</th>\n",
       "      <td>12352.0</td>\n",
       "      <td>7</td>\n",
       "    </tr>\n",
       "  </tbody>\n",
       "</table>\n",
       "</div>"
      ],
      "text/plain": [
       "   fCustomerID  frequency\n",
       "0      12347.0          7\n",
       "1      12348.0          4\n",
       "2      12349.0          1\n",
       "3      12350.0          1\n",
       "4      12352.0          7"
      ]
     },
     "execution_count": 63,
     "metadata": {},
     "output_type": "execute_result"
    }
   ],
   "source": [
    "# extracting the FREQUENCY\n",
    "\n",
    "frequency = pd.DataFrame(df_rfm.groupby('CustomerID')['InvoiceNo'].nunique().reset_index())\n",
    "frequency.columns = ['fCustomerID','frequency']\n",
    "frequency.head()"
   ]
  },
  {
   "cell_type": "code",
   "execution_count": 64,
   "id": "piano-helena",
   "metadata": {
    "execution": {
     "iopub.execute_input": "2023-04-13T10:03:08.441126Z",
     "iopub.status.busy": "2023-04-13T10:03:08.439958Z",
     "iopub.status.idle": "2023-04-13T10:03:08.467322Z",
     "shell.execute_reply": "2023-04-13T10:03:08.467799Z",
     "shell.execute_reply.started": "2023-04-13T09:49:02.068309Z"
    },
    "papermill": {
     "duration": 0.148816,
     "end_time": "2023-04-13T10:03:08.468002",
     "exception": false,
     "start_time": "2023-04-13T10:03:08.319186",
     "status": "completed"
    },
    "tags": []
   },
   "outputs": [
    {
     "data": {
      "text/html": [
       "<div>\n",
       "<style scoped>\n",
       "    .dataframe tbody tr th:only-of-type {\n",
       "        vertical-align: middle;\n",
       "    }\n",
       "\n",
       "    .dataframe tbody tr th {\n",
       "        vertical-align: top;\n",
       "    }\n",
       "\n",
       "    .dataframe thead th {\n",
       "        text-align: right;\n",
       "    }\n",
       "</style>\n",
       "<table border=\"1\" class=\"dataframe\">\n",
       "  <thead>\n",
       "    <tr style=\"text-align: right;\">\n",
       "      <th></th>\n",
       "      <th>mCustomerID</th>\n",
       "      <th>monetary</th>\n",
       "    </tr>\n",
       "  </thead>\n",
       "  <tbody>\n",
       "    <tr>\n",
       "      <th>0</th>\n",
       "      <td>12347.0</td>\n",
       "      <td>4310.00</td>\n",
       "    </tr>\n",
       "    <tr>\n",
       "      <th>1</th>\n",
       "      <td>12348.0</td>\n",
       "      <td>1797.24</td>\n",
       "    </tr>\n",
       "    <tr>\n",
       "      <th>2</th>\n",
       "      <td>12349.0</td>\n",
       "      <td>1757.55</td>\n",
       "    </tr>\n",
       "    <tr>\n",
       "      <th>3</th>\n",
       "      <td>12350.0</td>\n",
       "      <td>334.40</td>\n",
       "    </tr>\n",
       "    <tr>\n",
       "      <th>4</th>\n",
       "      <td>12352.0</td>\n",
       "      <td>1665.74</td>\n",
       "    </tr>\n",
       "  </tbody>\n",
       "</table>\n",
       "</div>"
      ],
      "text/plain": [
       "   mCustomerID  monetary\n",
       "0      12347.0   4310.00\n",
       "1      12348.0   1797.24\n",
       "2      12349.0   1757.55\n",
       "3      12350.0    334.40\n",
       "4      12352.0   1665.74"
      ]
     },
     "execution_count": 64,
     "metadata": {},
     "output_type": "execute_result"
    }
   ],
   "source": [
    "# extracting the MONETARY\n",
    "\n",
    "monetary = pd.DataFrame(df_rfm.groupby('CustomerID')['Amount'].sum().reset_index())\n",
    "monetary.columns = ['mCustomerID','monetary']\n",
    "monetary.head()"
   ]
  },
  {
   "cell_type": "code",
   "execution_count": 65,
   "id": "valued-housing",
   "metadata": {
    "execution": {
     "iopub.execute_input": "2023-04-13T10:03:08.716387Z",
     "iopub.status.busy": "2023-04-13T10:03:08.715324Z",
     "iopub.status.idle": "2023-04-13T10:03:08.732866Z",
     "shell.execute_reply": "2023-04-13T10:03:08.733390Z",
     "shell.execute_reply.started": "2023-04-13T09:49:02.099016Z"
    },
    "papermill": {
     "duration": 0.145453,
     "end_time": "2023-04-13T10:03:08.733607",
     "exception": false,
     "start_time": "2023-04-13T10:03:08.588154",
     "status": "completed"
    },
    "tags": []
   },
   "outputs": [
    {
     "data": {
      "text/html": [
       "<div>\n",
       "<style scoped>\n",
       "    .dataframe tbody tr th:only-of-type {\n",
       "        vertical-align: middle;\n",
       "    }\n",
       "\n",
       "    .dataframe tbody tr th {\n",
       "        vertical-align: top;\n",
       "    }\n",
       "\n",
       "    .dataframe thead th {\n",
       "        text-align: right;\n",
       "    }\n",
       "</style>\n",
       "<table border=\"1\" class=\"dataframe\">\n",
       "  <thead>\n",
       "    <tr style=\"text-align: right;\">\n",
       "      <th></th>\n",
       "      <th>CustomerID</th>\n",
       "      <th>recency</th>\n",
       "      <th>frequency</th>\n",
       "      <th>monetary</th>\n",
       "    </tr>\n",
       "  </thead>\n",
       "  <tbody>\n",
       "    <tr>\n",
       "      <th>0</th>\n",
       "      <td>12347.0</td>\n",
       "      <td>3</td>\n",
       "      <td>7</td>\n",
       "      <td>4310.00</td>\n",
       "    </tr>\n",
       "    <tr>\n",
       "      <th>1</th>\n",
       "      <td>12348.0</td>\n",
       "      <td>76</td>\n",
       "      <td>4</td>\n",
       "      <td>1797.24</td>\n",
       "    </tr>\n",
       "    <tr>\n",
       "      <th>2</th>\n",
       "      <td>12349.0</td>\n",
       "      <td>19</td>\n",
       "      <td>1</td>\n",
       "      <td>1757.55</td>\n",
       "    </tr>\n",
       "    <tr>\n",
       "      <th>3</th>\n",
       "      <td>12350.0</td>\n",
       "      <td>311</td>\n",
       "      <td>1</td>\n",
       "      <td>334.40</td>\n",
       "    </tr>\n",
       "    <tr>\n",
       "      <th>4</th>\n",
       "      <td>12352.0</td>\n",
       "      <td>37</td>\n",
       "      <td>7</td>\n",
       "      <td>1665.74</td>\n",
       "    </tr>\n",
       "    <tr>\n",
       "      <th>5</th>\n",
       "      <td>12353.0</td>\n",
       "      <td>205</td>\n",
       "      <td>1</td>\n",
       "      <td>89.00</td>\n",
       "    </tr>\n",
       "    <tr>\n",
       "      <th>6</th>\n",
       "      <td>12354.0</td>\n",
       "      <td>233</td>\n",
       "      <td>1</td>\n",
       "      <td>1079.40</td>\n",
       "    </tr>\n",
       "    <tr>\n",
       "      <th>7</th>\n",
       "      <td>12355.0</td>\n",
       "      <td>215</td>\n",
       "      <td>1</td>\n",
       "      <td>459.40</td>\n",
       "    </tr>\n",
       "    <tr>\n",
       "      <th>8</th>\n",
       "      <td>12356.0</td>\n",
       "      <td>23</td>\n",
       "      <td>3</td>\n",
       "      <td>2811.43</td>\n",
       "    </tr>\n",
       "    <tr>\n",
       "      <th>9</th>\n",
       "      <td>12357.0</td>\n",
       "      <td>34</td>\n",
       "      <td>1</td>\n",
       "      <td>6207.67</td>\n",
       "    </tr>\n",
       "  </tbody>\n",
       "</table>\n",
       "</div>"
      ],
      "text/plain": [
       "   CustomerID  recency  frequency  monetary\n",
       "0     12347.0        3          7   4310.00\n",
       "1     12348.0       76          4   1797.24\n",
       "2     12349.0       19          1   1757.55\n",
       "3     12350.0      311          1    334.40\n",
       "4     12352.0       37          7   1665.74\n",
       "5     12353.0      205          1     89.00\n",
       "6     12354.0      233          1   1079.40\n",
       "7     12355.0      215          1    459.40\n",
       "8     12356.0       23          3   2811.43\n",
       "9     12357.0       34          1   6207.67"
      ]
     },
     "execution_count": 65,
     "metadata": {},
     "output_type": "execute_result"
    }
   ],
   "source": [
    "# combining the three into one table\n",
    "\n",
    "rfm = pd.concat([recency,frequency,monetary], axis=1)\n",
    "rfm.drop(['fCustomerID','mCustomerID'], axis=1, inplace=True)\n",
    "rfm.head(10)"
   ]
  },
  {
   "cell_type": "code",
   "execution_count": 66,
   "id": "wireless-married",
   "metadata": {
    "execution": {
     "iopub.execute_input": "2023-04-13T10:03:08.991633Z",
     "iopub.status.busy": "2023-04-13T10:03:08.990426Z",
     "iopub.status.idle": "2023-04-13T10:03:31.674221Z",
     "shell.execute_reply": "2023-04-13T10:03:31.672924Z",
     "shell.execute_reply.started": "2023-04-13T09:49:02.119083Z"
    },
    "papermill": {
     "duration": 22.811919,
     "end_time": "2023-04-13T10:03:31.674541",
     "exception": false,
     "start_time": "2023-04-13T10:03:08.862622",
     "status": "completed"
    },
    "tags": []
   },
   "outputs": [
    {
     "data": {
      "text/html": [
       "<div>\n",
       "<style scoped>\n",
       "    .dataframe tbody tr th:only-of-type {\n",
       "        vertical-align: middle;\n",
       "    }\n",
       "\n",
       "    .dataframe tbody tr th {\n",
       "        vertical-align: top;\n",
       "    }\n",
       "\n",
       "    .dataframe thead th {\n",
       "        text-align: right;\n",
       "    }\n",
       "</style>\n",
       "<table border=\"1\" class=\"dataframe\">\n",
       "  <thead>\n",
       "    <tr style=\"text-align: right;\">\n",
       "      <th></th>\n",
       "      <th>sCustomerID</th>\n",
       "      <th>sov</th>\n",
       "    </tr>\n",
       "  </thead>\n",
       "  <tbody>\n",
       "    <tr>\n",
       "      <th>0</th>\n",
       "      <td>12347.0</td>\n",
       "      <td>60.0</td>\n",
       "    </tr>\n",
       "    <tr>\n",
       "      <th>1</th>\n",
       "      <td>12348.0</td>\n",
       "      <td>94.0</td>\n",
       "    </tr>\n",
       "    <tr>\n",
       "      <th>2</th>\n",
       "      <td>12349.0</td>\n",
       "      <td>0.0</td>\n",
       "    </tr>\n",
       "    <tr>\n",
       "      <th>3</th>\n",
       "      <td>12350.0</td>\n",
       "      <td>0.0</td>\n",
       "    </tr>\n",
       "    <tr>\n",
       "      <th>4</th>\n",
       "      <td>12352.0</td>\n",
       "      <td>43.0</td>\n",
       "    </tr>\n",
       "  </tbody>\n",
       "</table>\n",
       "</div>"
      ],
      "text/plain": [
       "   sCustomerID   sov\n",
       "0      12347.0  60.0\n",
       "1      12348.0  94.0\n",
       "2      12349.0   0.0\n",
       "3      12350.0   0.0\n",
       "4      12352.0  43.0"
      ]
     },
     "execution_count": 66,
     "metadata": {},
     "output_type": "execute_result"
    }
   ],
   "source": [
    "# extracting SPEED OF VISIT\n",
    "\n",
    "customer_list = list(df_rfm.CustomerID.unique())\n",
    "c = []\n",
    "v = []\n",
    "for ids in customer_list:\n",
    "    sov = df_rfm[df_rfm['CustomerID']==ids].groupby('InvoiceDate')['InvoiceNo'].count().reset_index()\n",
    "    if sov.shape[0]>3:\n",
    "        sov['InvoiceDate1'] = sov['InvoiceDate'].shift(1)\n",
    "        sov['Difference'] = (sov['InvoiceDate']-sov['InvoiceDate1']).dt.days\n",
    "        mean_days = round(sov.Difference.mean(),0)\n",
    "        c.append(ids)\n",
    "        v.append(mean_days)\n",
    "    else:\n",
    "        c.append(ids)\n",
    "        v.append(0)\n",
    "speed_of_visit = pd.DataFrame()\n",
    "speed_of_visit['sCustomerID'] = c\n",
    "speed_of_visit['sov'] = v\n",
    "speed_of_visit = speed_of_visit.sort_values('sCustomerID').reset_index(drop=True)\n",
    "speed_of_visit.head()"
   ]
  },
  {
   "cell_type": "code",
   "execution_count": 67,
   "id": "enhanced-vault",
   "metadata": {
    "execution": {
     "iopub.execute_input": "2023-04-13T10:03:31.938538Z",
     "iopub.status.busy": "2023-04-13T10:03:31.937772Z",
     "iopub.status.idle": "2023-04-13T10:03:31.941780Z",
     "shell.execute_reply": "2023-04-13T10:03:31.941079Z",
     "shell.execute_reply.started": "2023-04-13T09:49:21.085978Z"
    },
    "papermill": {
     "duration": 0.143688,
     "end_time": "2023-04-13T10:03:31.941942",
     "exception": false,
     "start_time": "2023-04-13T10:03:31.798254",
     "status": "completed"
    },
    "tags": []
   },
   "outputs": [
    {
     "name": "stdout",
     "output_type": "stream",
     "text": [
      "<class 'pandas.core.frame.DataFrame'>\n",
      "RangeIndex: 4334 entries, 0 to 4333\n",
      "Data columns (total 4 columns):\n",
      " #   Column      Non-Null Count  Dtype  \n",
      "---  ------      --------------  -----  \n",
      " 0   CustomerID  4334 non-null   float64\n",
      " 1   recency     4334 non-null   int64  \n",
      " 2   frequency   4334 non-null   int64  \n",
      " 3   monetary    4334 non-null   float64\n",
      "dtypes: float64(2), int64(2)\n",
      "memory usage: 135.6 KB\n"
     ]
    }
   ],
   "source": [
    "# checking the overall highlights. The number of distinct customers are 4334\n",
    "rfm.info()"
   ]
  },
  {
   "cell_type": "code",
   "execution_count": 68,
   "id": "grave-jerusalem",
   "metadata": {
    "execution": {
     "iopub.execute_input": "2023-04-13T10:03:32.208209Z",
     "iopub.status.busy": "2023-04-13T10:03:32.206849Z",
     "iopub.status.idle": "2023-04-13T10:03:32.234968Z",
     "shell.execute_reply": "2023-04-13T10:03:32.233660Z",
     "shell.execute_reply.started": "2023-04-13T09:49:21.108756Z"
    },
    "papermill": {
     "duration": 0.163783,
     "end_time": "2023-04-13T10:03:32.235232",
     "exception": false,
     "start_time": "2023-04-13T10:03:32.071449",
     "status": "completed"
    },
    "tags": []
   },
   "outputs": [
    {
     "data": {
      "text/html": [
       "<div>\n",
       "<style scoped>\n",
       "    .dataframe tbody tr th:only-of-type {\n",
       "        vertical-align: middle;\n",
       "    }\n",
       "\n",
       "    .dataframe tbody tr th {\n",
       "        vertical-align: top;\n",
       "    }\n",
       "\n",
       "    .dataframe thead th {\n",
       "        text-align: right;\n",
       "    }\n",
       "</style>\n",
       "<table border=\"1\" class=\"dataframe\">\n",
       "  <thead>\n",
       "    <tr style=\"text-align: right;\">\n",
       "      <th></th>\n",
       "      <th>CustomerID</th>\n",
       "      <th>recency</th>\n",
       "      <th>frequency</th>\n",
       "      <th>monetary</th>\n",
       "    </tr>\n",
       "  </thead>\n",
       "  <tbody>\n",
       "    <tr>\n",
       "      <th>count</th>\n",
       "      <td>4334.000000</td>\n",
       "      <td>4334.000000</td>\n",
       "      <td>4334.000000</td>\n",
       "      <td>4334.000000</td>\n",
       "    </tr>\n",
       "    <tr>\n",
       "      <th>mean</th>\n",
       "      <td>15299.461698</td>\n",
       "      <td>93.171897</td>\n",
       "      <td>4.258191</td>\n",
       "      <td>1981.251445</td>\n",
       "    </tr>\n",
       "    <tr>\n",
       "      <th>std</th>\n",
       "      <td>1721.689380</td>\n",
       "      <td>100.122257</td>\n",
       "      <td>7.658263</td>\n",
       "      <td>8527.197292</td>\n",
       "    </tr>\n",
       "    <tr>\n",
       "      <th>min</th>\n",
       "      <td>12347.000000</td>\n",
       "      <td>1.000000</td>\n",
       "      <td>1.000000</td>\n",
       "      <td>0.000000</td>\n",
       "    </tr>\n",
       "    <tr>\n",
       "      <th>25%</th>\n",
       "      <td>13812.250000</td>\n",
       "      <td>18.000000</td>\n",
       "      <td>1.000000</td>\n",
       "      <td>305.867500</td>\n",
       "    </tr>\n",
       "    <tr>\n",
       "      <th>50%</th>\n",
       "      <td>15297.500000</td>\n",
       "      <td>51.000000</td>\n",
       "      <td>2.000000</td>\n",
       "      <td>666.875000</td>\n",
       "    </tr>\n",
       "    <tr>\n",
       "      <th>75%</th>\n",
       "      <td>16778.750000</td>\n",
       "      <td>143.000000</td>\n",
       "      <td>5.000000</td>\n",
       "      <td>1649.155000</td>\n",
       "    </tr>\n",
       "    <tr>\n",
       "      <th>90%</th>\n",
       "      <td>17685.700000</td>\n",
       "      <td>264.000000</td>\n",
       "      <td>9.000000</td>\n",
       "      <td>3613.486000</td>\n",
       "    </tr>\n",
       "    <tr>\n",
       "      <th>95%</th>\n",
       "      <td>17984.350000</td>\n",
       "      <td>312.000000</td>\n",
       "      <td>13.000000</td>\n",
       "      <td>5728.081000</td>\n",
       "    </tr>\n",
       "    <tr>\n",
       "      <th>99%</th>\n",
       "      <td>18225.670000</td>\n",
       "      <td>369.000000</td>\n",
       "      <td>30.000000</td>\n",
       "      <td>18315.474900</td>\n",
       "    </tr>\n",
       "    <tr>\n",
       "      <th>max</th>\n",
       "      <td>18287.000000</td>\n",
       "      <td>374.000000</td>\n",
       "      <td>206.000000</td>\n",
       "      <td>280206.020000</td>\n",
       "    </tr>\n",
       "  </tbody>\n",
       "</table>\n",
       "</div>"
      ],
      "text/plain": [
       "         CustomerID      recency    frequency       monetary\n",
       "count   4334.000000  4334.000000  4334.000000    4334.000000\n",
       "mean   15299.461698    93.171897     4.258191    1981.251445\n",
       "std     1721.689380   100.122257     7.658263    8527.197292\n",
       "min    12347.000000     1.000000     1.000000       0.000000\n",
       "25%    13812.250000    18.000000     1.000000     305.867500\n",
       "50%    15297.500000    51.000000     2.000000     666.875000\n",
       "75%    16778.750000   143.000000     5.000000    1649.155000\n",
       "90%    17685.700000   264.000000     9.000000    3613.486000\n",
       "95%    17984.350000   312.000000    13.000000    5728.081000\n",
       "99%    18225.670000   369.000000    30.000000   18315.474900\n",
       "max    18287.000000   374.000000   206.000000  280206.020000"
      ]
     },
     "execution_count": 68,
     "metadata": {},
     "output_type": "execute_result"
    }
   ],
   "source": [
    "# checking the summary\n",
    "rfm.describe(percentiles=[0.25,0.5,0.75,0.9,0.95,0.99])"
   ]
  },
  {
   "cell_type": "code",
   "execution_count": 69,
   "id": "usual-walker",
   "metadata": {
    "execution": {
     "iopub.execute_input": "2023-04-13T10:03:32.490392Z",
     "iopub.status.busy": "2023-04-13T10:03:32.489336Z",
     "iopub.status.idle": "2023-04-13T10:03:32.507191Z",
     "shell.execute_reply": "2023-04-13T10:03:32.506302Z",
     "shell.execute_reply.started": "2023-04-13T09:49:21.141077Z"
    },
    "papermill": {
     "duration": 0.150725,
     "end_time": "2023-04-13T10:03:32.507381",
     "exception": false,
     "start_time": "2023-04-13T10:03:32.356656",
     "status": "completed"
    },
    "tags": []
   },
   "outputs": [],
   "source": [
    "# assigning the numbers to RFM values. The better the RFM value higher the number\n",
    "# note that this process is reverse for R score as lower the value the better it is\n",
    "\n",
    "rfm['recency_score'] = pd.cut(rfm['recency'], bins=[0,18,51,143,264,375], labels=[5,4,3,2,1])\n",
    "rfm['recency_score'] = rfm['recency_score'].astype('int')\n",
    "rfm['frequency_score'] = pd.cut(rfm['frequency'], bins=[0,1,2,5,9,210], labels=[1,2,3,4,5])\n",
    "rfm['frequency_score'] = rfm['frequency_score'].astype('int')\n",
    "rfm['monetary_score'] = pd.cut(rfm['monetary'], bins=[-1,306,667,1650,3614,290000], labels=[1,2,3,4,5])\n",
    "rfm['monetary_score'] = rfm['monetary_score'].astype('int')"
   ]
  },
  {
   "cell_type": "code",
   "execution_count": 70,
   "id": "canadian-mason",
   "metadata": {
    "execution": {
     "iopub.execute_input": "2023-04-13T10:03:32.767489Z",
     "iopub.status.busy": "2023-04-13T10:03:32.761723Z",
     "iopub.status.idle": "2023-04-13T10:03:32.773084Z",
     "shell.execute_reply": "2023-04-13T10:03:32.774089Z",
     "shell.execute_reply.started": "2023-04-13T09:49:21.161250Z"
    },
    "papermill": {
     "duration": 0.148608,
     "end_time": "2023-04-13T10:03:32.774411",
     "exception": false,
     "start_time": "2023-04-13T10:03:32.625803",
     "status": "completed"
    },
    "tags": []
   },
   "outputs": [
    {
     "name": "stdout",
     "output_type": "stream",
     "text": [
      "<class 'pandas.core.frame.DataFrame'>\n",
      "RangeIndex: 4334 entries, 0 to 4333\n",
      "Data columns (total 7 columns):\n",
      " #   Column           Non-Null Count  Dtype  \n",
      "---  ------           --------------  -----  \n",
      " 0   CustomerID       4334 non-null   float64\n",
      " 1   recency          4334 non-null   int64  \n",
      " 2   frequency        4334 non-null   int64  \n",
      " 3   monetary         4334 non-null   float64\n",
      " 4   recency_score    4334 non-null   int64  \n",
      " 5   frequency_score  4334 non-null   int64  \n",
      " 6   monetary_score   4334 non-null   int64  \n",
      "dtypes: float64(2), int64(5)\n",
      "memory usage: 237.1 KB\n"
     ]
    }
   ],
   "source": [
    "rfm.info()"
   ]
  },
  {
   "cell_type": "code",
   "execution_count": 71,
   "id": "genuine-dairy",
   "metadata": {
    "execution": {
     "iopub.execute_input": "2023-04-13T10:03:33.036282Z",
     "iopub.status.busy": "2023-04-13T10:03:33.035360Z",
     "iopub.status.idle": "2023-04-13T10:03:33.140828Z",
     "shell.execute_reply": "2023-04-13T10:03:33.140182Z",
     "shell.execute_reply.started": "2023-04-13T09:49:21.180274Z"
    },
    "papermill": {
     "duration": 0.233038,
     "end_time": "2023-04-13T10:03:33.140996",
     "exception": false,
     "start_time": "2023-04-13T10:03:32.907958",
     "status": "completed"
    },
    "tags": []
   },
   "outputs": [
    {
     "data": {
      "text/html": [
       "<div>\n",
       "<style scoped>\n",
       "    .dataframe tbody tr th:only-of-type {\n",
       "        vertical-align: middle;\n",
       "    }\n",
       "\n",
       "    .dataframe tbody tr th {\n",
       "        vertical-align: top;\n",
       "    }\n",
       "\n",
       "    .dataframe thead th {\n",
       "        text-align: right;\n",
       "    }\n",
       "</style>\n",
       "<table border=\"1\" class=\"dataframe\">\n",
       "  <thead>\n",
       "    <tr style=\"text-align: right;\">\n",
       "      <th></th>\n",
       "      <th>CustomerID</th>\n",
       "      <th>recency</th>\n",
       "      <th>frequency</th>\n",
       "      <th>monetary</th>\n",
       "      <th>recency_score</th>\n",
       "      <th>frequency_score</th>\n",
       "      <th>monetary_score</th>\n",
       "      <th>score</th>\n",
       "    </tr>\n",
       "  </thead>\n",
       "  <tbody>\n",
       "    <tr>\n",
       "      <th>0</th>\n",
       "      <td>12347.0</td>\n",
       "      <td>3</td>\n",
       "      <td>7</td>\n",
       "      <td>4310.00</td>\n",
       "      <td>5</td>\n",
       "      <td>4</td>\n",
       "      <td>5</td>\n",
       "      <td>14.0</td>\n",
       "    </tr>\n",
       "    <tr>\n",
       "      <th>1</th>\n",
       "      <td>12348.0</td>\n",
       "      <td>76</td>\n",
       "      <td>4</td>\n",
       "      <td>1797.24</td>\n",
       "      <td>3</td>\n",
       "      <td>3</td>\n",
       "      <td>4</td>\n",
       "      <td>10.0</td>\n",
       "    </tr>\n",
       "    <tr>\n",
       "      <th>2</th>\n",
       "      <td>12349.0</td>\n",
       "      <td>19</td>\n",
       "      <td>1</td>\n",
       "      <td>1757.55</td>\n",
       "      <td>4</td>\n",
       "      <td>1</td>\n",
       "      <td>4</td>\n",
       "      <td>9.0</td>\n",
       "    </tr>\n",
       "    <tr>\n",
       "      <th>3</th>\n",
       "      <td>12350.0</td>\n",
       "      <td>311</td>\n",
       "      <td>1</td>\n",
       "      <td>334.40</td>\n",
       "      <td>1</td>\n",
       "      <td>1</td>\n",
       "      <td>2</td>\n",
       "      <td>4.0</td>\n",
       "    </tr>\n",
       "    <tr>\n",
       "      <th>4</th>\n",
       "      <td>12352.0</td>\n",
       "      <td>37</td>\n",
       "      <td>7</td>\n",
       "      <td>1665.74</td>\n",
       "      <td>4</td>\n",
       "      <td>4</td>\n",
       "      <td>4</td>\n",
       "      <td>12.0</td>\n",
       "    </tr>\n",
       "  </tbody>\n",
       "</table>\n",
       "</div>"
      ],
      "text/plain": [
       "   CustomerID  recency  frequency  monetary  recency_score  frequency_score  \\\n",
       "0     12347.0        3          7   4310.00              5                4   \n",
       "1     12348.0       76          4   1797.24              3                3   \n",
       "2     12349.0       19          1   1757.55              4                1   \n",
       "3     12350.0      311          1    334.40              1                1   \n",
       "4     12352.0       37          7   1665.74              4                4   \n",
       "\n",
       "   monetary_score  score  \n",
       "0               5   14.0  \n",
       "1               4   10.0  \n",
       "2               4    9.0  \n",
       "3               2    4.0  \n",
       "4               4   12.0  "
      ]
     },
     "execution_count": 71,
     "metadata": {},
     "output_type": "execute_result"
    }
   ],
   "source": [
    "# summing the R,F,M score to make a one single column that has value range from 3-15\n",
    "\n",
    "def score_rfm(x) : return (x['recency_score']) + (x['frequency_score']) + (x['monetary_score'])\n",
    "rfm['score'] = rfm.apply(score_rfm,axis=1 )\n",
    "rfm.head()"
   ]
  },
  {
   "cell_type": "code",
   "execution_count": 72,
   "id": "former-banks",
   "metadata": {
    "execution": {
     "iopub.execute_input": "2023-04-13T10:03:33.402386Z",
     "iopub.status.busy": "2023-04-13T10:03:33.401169Z",
     "iopub.status.idle": "2023-04-13T10:03:33.413455Z",
     "shell.execute_reply": "2023-04-13T10:03:33.412420Z",
     "shell.execute_reply.started": "2023-04-13T09:49:21.286137Z"
    },
    "papermill": {
     "duration": 0.143746,
     "end_time": "2023-04-13T10:03:33.413641",
     "exception": false,
     "start_time": "2023-04-13T10:03:33.269895",
     "status": "completed"
    },
    "tags": []
   },
   "outputs": [
    {
     "data": {
      "text/plain": [
       "count    4334.000000\n",
       "mean        8.413013\n",
       "std         3.309021\n",
       "min         3.000000\n",
       "25%         6.000000\n",
       "50%         8.000000\n",
       "75%        11.000000\n",
       "90%        13.000000\n",
       "95%        15.000000\n",
       "99%        15.000000\n",
       "max        15.000000\n",
       "Name: score, dtype: float64"
      ]
     },
     "execution_count": 72,
     "metadata": {},
     "output_type": "execute_result"
    }
   ],
   "source": [
    "rfm.score.describe(percentiles=[0.25,0.5,0.75,0.9,0.95,0.99])"
   ]
  },
  {
   "cell_type": "code",
   "execution_count": 73,
   "id": "authorized-milton",
   "metadata": {
    "execution": {
     "iopub.execute_input": "2023-04-13T10:03:33.665617Z",
     "iopub.status.busy": "2023-04-13T10:03:33.664660Z",
     "iopub.status.idle": "2023-04-13T10:03:33.687618Z",
     "shell.execute_reply": "2023-04-13T10:03:33.686766Z",
     "shell.execute_reply.started": "2023-04-13T09:49:21.299441Z"
    },
    "papermill": {
     "duration": 0.149425,
     "end_time": "2023-04-13T10:03:33.687797",
     "exception": false,
     "start_time": "2023-04-13T10:03:33.538372",
     "status": "completed"
    },
    "tags": []
   },
   "outputs": [
    {
     "data": {
      "text/html": [
       "<div>\n",
       "<style scoped>\n",
       "    .dataframe tbody tr th:only-of-type {\n",
       "        vertical-align: middle;\n",
       "    }\n",
       "\n",
       "    .dataframe tbody tr th {\n",
       "        vertical-align: top;\n",
       "    }\n",
       "\n",
       "    .dataframe thead th {\n",
       "        text-align: right;\n",
       "    }\n",
       "</style>\n",
       "<table border=\"1\" class=\"dataframe\">\n",
       "  <thead>\n",
       "    <tr style=\"text-align: right;\">\n",
       "      <th></th>\n",
       "      <th>CustomerID</th>\n",
       "      <th>recency</th>\n",
       "      <th>frequency</th>\n",
       "      <th>monetary</th>\n",
       "      <th>recency_score</th>\n",
       "      <th>frequency_score</th>\n",
       "      <th>monetary_score</th>\n",
       "      <th>score</th>\n",
       "      <th>customer_type</th>\n",
       "    </tr>\n",
       "  </thead>\n",
       "  <tbody>\n",
       "    <tr>\n",
       "      <th>0</th>\n",
       "      <td>12347.0</td>\n",
       "      <td>3</td>\n",
       "      <td>7</td>\n",
       "      <td>4310.00</td>\n",
       "      <td>5</td>\n",
       "      <td>4</td>\n",
       "      <td>5</td>\n",
       "      <td>14.0</td>\n",
       "      <td>Platinum</td>\n",
       "    </tr>\n",
       "    <tr>\n",
       "      <th>1</th>\n",
       "      <td>12348.0</td>\n",
       "      <td>76</td>\n",
       "      <td>4</td>\n",
       "      <td>1797.24</td>\n",
       "      <td>3</td>\n",
       "      <td>3</td>\n",
       "      <td>4</td>\n",
       "      <td>10.0</td>\n",
       "      <td>Silver</td>\n",
       "    </tr>\n",
       "    <tr>\n",
       "      <th>2</th>\n",
       "      <td>12349.0</td>\n",
       "      <td>19</td>\n",
       "      <td>1</td>\n",
       "      <td>1757.55</td>\n",
       "      <td>4</td>\n",
       "      <td>1</td>\n",
       "      <td>4</td>\n",
       "      <td>9.0</td>\n",
       "      <td>Silver</td>\n",
       "    </tr>\n",
       "    <tr>\n",
       "      <th>3</th>\n",
       "      <td>12350.0</td>\n",
       "      <td>311</td>\n",
       "      <td>1</td>\n",
       "      <td>334.40</td>\n",
       "      <td>1</td>\n",
       "      <td>1</td>\n",
       "      <td>2</td>\n",
       "      <td>4.0</td>\n",
       "      <td>Bad</td>\n",
       "    </tr>\n",
       "    <tr>\n",
       "      <th>4</th>\n",
       "      <td>12352.0</td>\n",
       "      <td>37</td>\n",
       "      <td>7</td>\n",
       "      <td>1665.74</td>\n",
       "      <td>4</td>\n",
       "      <td>4</td>\n",
       "      <td>4</td>\n",
       "      <td>12.0</td>\n",
       "      <td>Gold</td>\n",
       "    </tr>\n",
       "  </tbody>\n",
       "</table>\n",
       "</div>"
      ],
      "text/plain": [
       "   CustomerID  recency  frequency  monetary  recency_score  frequency_score  \\\n",
       "0     12347.0        3          7   4310.00              5                4   \n",
       "1     12348.0       76          4   1797.24              3                3   \n",
       "2     12349.0       19          1   1757.55              4                1   \n",
       "3     12350.0      311          1    334.40              1                1   \n",
       "4     12352.0       37          7   1665.74              4                4   \n",
       "\n",
       "   monetary_score  score customer_type  \n",
       "0               5   14.0      Platinum  \n",
       "1               4   10.0        Silver  \n",
       "2               4    9.0        Silver  \n",
       "3               2    4.0           Bad  \n",
       "4               4   12.0          Gold  "
      ]
     },
     "execution_count": 73,
     "metadata": {},
     "output_type": "execute_result"
    }
   ],
   "source": [
    "# assigning the customers into one of the category Bad, Bronze, Silver, Gold and Platinum based upon the score they get\n",
    "# we make cuts using percentiles. It can be done in many other ways\n",
    "\n",
    "rfm['customer_type'] = pd.cut(rfm['score'], bins=[0,6,8,11,13,16], labels=['Bad','Bronze','Silver','Gold','Platinum'])\n",
    "rfm.head()"
   ]
  },
  {
   "cell_type": "code",
   "execution_count": 74,
   "id": "gentle-graham",
   "metadata": {
    "execution": {
     "iopub.execute_input": "2023-04-13T10:03:33.950010Z",
     "iopub.status.busy": "2023-04-13T10:03:33.949234Z",
     "iopub.status.idle": "2023-04-13T10:03:33.956330Z",
     "shell.execute_reply": "2023-04-13T10:03:33.955548Z",
     "shell.execute_reply.started": "2023-04-13T09:49:21.321805Z"
    },
    "papermill": {
     "duration": 0.140971,
     "end_time": "2023-04-13T10:03:33.956500",
     "exception": false,
     "start_time": "2023-04-13T10:03:33.815529",
     "status": "completed"
    },
    "tags": []
   },
   "outputs": [
    {
     "data": {
      "text/plain": [
       "Bad         33.0\n",
       "Silver      28.0\n",
       "Bronze      20.0\n",
       "Gold        10.0\n",
       "Platinum     9.0\n",
       "Name: customer_type, dtype: float64"
      ]
     },
     "execution_count": 74,
     "metadata": {},
     "output_type": "execute_result"
    }
   ],
   "source": [
    "round(rfm.customer_type.value_counts(normalize=True)*100,0)"
   ]
  },
  {
   "cell_type": "code",
   "execution_count": 75,
   "id": "dietary-coast",
   "metadata": {
    "execution": {
     "iopub.execute_input": "2023-04-13T10:03:34.218743Z",
     "iopub.status.busy": "2023-04-13T10:03:34.217154Z",
     "iopub.status.idle": "2023-04-13T10:03:34.240472Z",
     "shell.execute_reply": "2023-04-13T10:03:34.239685Z",
     "shell.execute_reply.started": "2023-04-13T09:49:21.336214Z"
    },
    "papermill": {
     "duration": 0.15846,
     "end_time": "2023-04-13T10:03:34.240664",
     "exception": false,
     "start_time": "2023-04-13T10:03:34.082204",
     "status": "completed"
    },
    "tags": []
   },
   "outputs": [
    {
     "data": {
      "text/html": [
       "<div>\n",
       "<style scoped>\n",
       "    .dataframe tbody tr th:only-of-type {\n",
       "        vertical-align: middle;\n",
       "    }\n",
       "\n",
       "    .dataframe tbody tr th {\n",
       "        vertical-align: top;\n",
       "    }\n",
       "\n",
       "    .dataframe thead th {\n",
       "        text-align: right;\n",
       "    }\n",
       "</style>\n",
       "<table border=\"1\" class=\"dataframe\">\n",
       "  <thead>\n",
       "    <tr style=\"text-align: right;\">\n",
       "      <th></th>\n",
       "      <th>recency</th>\n",
       "      <th>frequency</th>\n",
       "      <th>monetary</th>\n",
       "    </tr>\n",
       "    <tr>\n",
       "      <th>customer_type</th>\n",
       "      <th></th>\n",
       "      <th></th>\n",
       "      <th></th>\n",
       "    </tr>\n",
       "  </thead>\n",
       "  <tbody>\n",
       "    <tr>\n",
       "      <th>Bad</th>\n",
       "      <td>188.0</td>\n",
       "      <td>1.0</td>\n",
       "      <td>297.0</td>\n",
       "    </tr>\n",
       "    <tr>\n",
       "      <th>Bronze</th>\n",
       "      <td>78.0</td>\n",
       "      <td>2.0</td>\n",
       "      <td>621.0</td>\n",
       "    </tr>\n",
       "    <tr>\n",
       "      <th>Silver</th>\n",
       "      <td>44.0</td>\n",
       "      <td>4.0</td>\n",
       "      <td>1416.0</td>\n",
       "    </tr>\n",
       "    <tr>\n",
       "      <th>Gold</th>\n",
       "      <td>20.0</td>\n",
       "      <td>7.0</td>\n",
       "      <td>2863.0</td>\n",
       "    </tr>\n",
       "    <tr>\n",
       "      <th>Platinum</th>\n",
       "      <td>10.0</td>\n",
       "      <td>19.0</td>\n",
       "      <td>12111.0</td>\n",
       "    </tr>\n",
       "  </tbody>\n",
       "</table>\n",
       "</div>"
      ],
      "text/plain": [
       "               recency  frequency  monetary\n",
       "customer_type                              \n",
       "Bad              188.0        1.0     297.0\n",
       "Bronze            78.0        2.0     621.0\n",
       "Silver            44.0        4.0    1416.0\n",
       "Gold              20.0        7.0    2863.0\n",
       "Platinum          10.0       19.0   12111.0"
      ]
     },
     "execution_count": 75,
     "metadata": {},
     "output_type": "execute_result"
    }
   ],
   "source": [
    "# looking the RFM value for each of the category\n",
    "rfm.groupby('customer_type')['recency','frequency','monetary'].mean().round(0)"
   ]
  },
  {
   "cell_type": "code",
   "execution_count": 76,
   "id": "suited-argentina",
   "metadata": {
    "execution": {
     "iopub.execute_input": "2023-04-13T10:03:34.587044Z",
     "iopub.status.busy": "2023-04-13T10:03:34.572318Z",
     "iopub.status.idle": "2023-04-13T10:03:35.027771Z",
     "shell.execute_reply": "2023-04-13T10:03:35.026939Z",
     "shell.execute_reply.started": "2023-04-13T09:49:21.360143Z"
    },
    "papermill": {
     "duration": 0.663619,
     "end_time": "2023-04-13T10:03:35.027934",
     "exception": false,
     "start_time": "2023-04-13T10:03:34.364315",
     "status": "completed"
    },
    "tags": []
   },
   "outputs": [
    {
     "data": {
      "image/png": "[encoded data removed]",
      "text/plain": [
       "<Figure size 1080x288 with 3 Axes>"
      ]
     },
     "metadata": {},
     "output_type": "display_data"
    }
   ],
   "source": [
    "column = ['recency','frequency','monetary']\n",
    "plt.figure(figsize=(15,4))\n",
    "for i,j in enumerate(column):\n",
    "    plt.subplot(1,3,i+1)\n",
    "    rfm.groupby('customer_type')[j].mean().round(0).plot(kind='bar', color='pink')\n",
    "    plt.title('What is the {} of each customer type'.format(j), size=13)\n",
    "    plt.xlabel('')\n",
    "    plt.xticks(rotation=45)\n",
    "\n",
    "plt.show()"
   ]
  },
  {
   "cell_type": "markdown",
   "id": "photographic-caribbean",
   "metadata": {
    "papermill": {
     "duration": 0.131131,
     "end_time": "2023-04-13T10:03:35.282855",
     "exception": false,
     "start_time": "2023-04-13T10:03:35.151724",
     "status": "completed"
    },
    "tags": []
   },
   "source": [
    "---\n",
    "## III. k-Means Clustering"
   ]
  },
  {
   "cell_type": "code",
   "execution_count": 77,
   "id": "prostate-arrival",
   "metadata": {
    "execution": {
     "iopub.execute_input": "2023-04-13T10:03:35.549855Z",
     "iopub.status.busy": "2023-04-13T10:03:35.548494Z",
     "iopub.status.idle": "2023-04-13T10:03:35.565214Z",
     "shell.execute_reply": "2023-04-13T10:03:35.565731Z",
     "shell.execute_reply.started": "2023-04-13T09:49:21.834894Z"
    },
    "papermill": {
     "duration": 0.153568,
     "end_time": "2023-04-13T10:03:35.565959",
     "exception": false,
     "start_time": "2023-04-13T10:03:35.412391",
     "status": "completed"
    },
    "tags": []
   },
   "outputs": [
    {
     "data": {
      "text/html": [
       "<div>\n",
       "<style scoped>\n",
       "    .dataframe tbody tr th:only-of-type {\n",
       "        vertical-align: middle;\n",
       "    }\n",
       "\n",
       "    .dataframe tbody tr th {\n",
       "        vertical-align: top;\n",
       "    }\n",
       "\n",
       "    .dataframe thead th {\n",
       "        text-align: right;\n",
       "    }\n",
       "</style>\n",
       "<table border=\"1\" class=\"dataframe\">\n",
       "  <thead>\n",
       "    <tr style=\"text-align: right;\">\n",
       "      <th></th>\n",
       "      <th>CustomerID</th>\n",
       "      <th>recency</th>\n",
       "      <th>frequency</th>\n",
       "      <th>monetary</th>\n",
       "    </tr>\n",
       "  </thead>\n",
       "  <tbody>\n",
       "    <tr>\n",
       "      <th>0</th>\n",
       "      <td>12347.0</td>\n",
       "      <td>3</td>\n",
       "      <td>7</td>\n",
       "      <td>4310.00</td>\n",
       "    </tr>\n",
       "    <tr>\n",
       "      <th>1</th>\n",
       "      <td>12348.0</td>\n",
       "      <td>76</td>\n",
       "      <td>4</td>\n",
       "      <td>1797.24</td>\n",
       "    </tr>\n",
       "    <tr>\n",
       "      <th>2</th>\n",
       "      <td>12349.0</td>\n",
       "      <td>19</td>\n",
       "      <td>1</td>\n",
       "      <td>1757.55</td>\n",
       "    </tr>\n",
       "    <tr>\n",
       "      <th>3</th>\n",
       "      <td>12350.0</td>\n",
       "      <td>311</td>\n",
       "      <td>1</td>\n",
       "      <td>334.40</td>\n",
       "    </tr>\n",
       "    <tr>\n",
       "      <th>4</th>\n",
       "      <td>12352.0</td>\n",
       "      <td>37</td>\n",
       "      <td>7</td>\n",
       "      <td>1665.74</td>\n",
       "    </tr>\n",
       "  </tbody>\n",
       "</table>\n",
       "</div>"
      ],
      "text/plain": [
       "   CustomerID  recency  frequency  monetary\n",
       "0     12347.0        3          7   4310.00\n",
       "1     12348.0       76          4   1797.24\n",
       "2     12349.0       19          1   1757.55\n",
       "3     12350.0      311          1    334.40\n",
       "4     12352.0       37          7   1665.74"
      ]
     },
     "execution_count": 77,
     "metadata": {},
     "output_type": "execute_result"
    }
   ],
   "source": [
    "# copying the data into new variable\n",
    "df_kmeans = rfm.copy()\n",
    "# taking only relevant columns\n",
    "df_kmeans = df_kmeans.iloc[:,:4]\n",
    "df_kmeans.head()"
   ]
  },
  {
   "cell_type": "code",
   "execution_count": 78,
   "id": "automotive-wesley",
   "metadata": {
    "execution": {
     "iopub.execute_input": "2023-04-13T10:03:35.874527Z",
     "iopub.status.busy": "2023-04-13T10:03:35.867553Z",
     "iopub.status.idle": "2023-04-13T10:03:36.446214Z",
     "shell.execute_reply": "2023-04-13T10:03:36.445539Z",
     "shell.execute_reply.started": "2023-04-13T09:49:21.851897Z"
    },
    "papermill": {
     "duration": 0.746867,
     "end_time": "2023-04-13T10:03:36.446428",
     "exception": false,
     "start_time": "2023-04-13T10:03:35.699561",
     "status": "completed"
    },
    "tags": []
   },
   "outputs": [
    {
     "data": {
      "image/png": "[encoded data removed]",
      "text/plain": [
       "<Figure size 1080x360 with 3 Axes>"
      ]
     },
     "metadata": {},
     "output_type": "display_data"
    }
   ],
   "source": [
    "plt.figure(figsize=(15,5))\n",
    "plt.subplot(1,3,1)\n",
    "plt.scatter(df_kmeans.recency, df_kmeans.frequency, color='grey', alpha=0.3)\n",
    "plt.title('Recency vs Frequency', size=15)\n",
    "plt.subplot(1,3,2)\n",
    "plt.scatter(df_kmeans.monetary, df_kmeans.frequency, color='grey', alpha=0.3)\n",
    "plt.title('Monetary vs Frequency', size=15)\n",
    "plt.subplot(1,3,3)\n",
    "plt.scatter(df_kmeans.recency, df_kmeans.monetary, color='grey', alpha=0.3)\n",
    "plt.title('Recency vs Monetary', size=15)\n",
    "plt.show()"
   ]
  },
  {
   "cell_type": "code",
   "execution_count": 79,
   "id": "nuclear-princess",
   "metadata": {
    "execution": {
     "iopub.execute_input": "2023-04-13T10:03:36.739932Z",
     "iopub.status.busy": "2023-04-13T10:03:36.738827Z",
     "iopub.status.idle": "2023-04-13T10:03:37.193669Z",
     "shell.execute_reply": "2023-04-13T10:03:37.194197Z",
     "shell.execute_reply.started": "2023-04-13T09:49:22.385034Z"
    },
    "papermill": {
     "duration": 0.58556,
     "end_time": "2023-04-13T10:03:37.194406",
     "exception": false,
     "start_time": "2023-04-13T10:03:36.608846",
     "status": "completed"
    },
    "tags": []
   },
   "outputs": [
    {
     "data": {
      "image/png": "[encoded data removed]",
      "text/plain": [
       "<Figure size 1080x360 with 3 Axes>"
      ]
     },
     "metadata": {},
     "output_type": "display_data"
    }
   ],
   "source": [
    "# checking the distribution of the variables\n",
    "\n",
    "column = ['recency','frequency','monetary']\n",
    "plt.figure(figsize=(15,5))\n",
    "for i,j in enumerate(column):\n",
    "    plt.subplot(1,3,i+1)\n",
    "    sns.boxplot(df_kmeans[j], color='skyblue')\n",
    "    plt.xlabel('')\n",
    "    plt.title('{}'.format(j.upper()), size=13)\n",
    "plt.show()"
   ]
  },
  {
   "cell_type": "code",
   "execution_count": 80,
   "id": "loaded-timber",
   "metadata": {
    "execution": {
     "iopub.execute_input": "2023-04-13T10:03:37.469099Z",
     "iopub.status.busy": "2023-04-13T10:03:37.467485Z",
     "iopub.status.idle": "2023-04-13T10:03:37.493432Z",
     "shell.execute_reply": "2023-04-13T10:03:37.493988Z",
     "shell.execute_reply.started": "2023-04-13T09:49:22.792797Z"
    },
    "papermill": {
     "duration": 0.170143,
     "end_time": "2023-04-13T10:03:37.494246",
     "exception": false,
     "start_time": "2023-04-13T10:03:37.324103",
     "status": "completed"
    },
    "tags": []
   },
   "outputs": [],
   "source": [
    "# Removing outliers for Monetary\n",
    "Q1 = df_kmeans.monetary.quantile(0.05)\n",
    "Q3 = df_kmeans.monetary.quantile(0.95)\n",
    "IQR = Q3 - Q1\n",
    "df_kmeans = df_kmeans[(df_kmeans.monetary >= Q1 - 1.5*IQR) & (df_kmeans.monetary <= Q3 + 1.5*IQR)]\n",
    "\n",
    "# Removing outliers for Recency\n",
    "Q1 = df_kmeans.recency.quantile(0.05)\n",
    "Q3 = df_kmeans.recency.quantile(0.95)\n",
    "IQR = Q3 - Q1\n",
    "df_kmeans = df_kmeans[(df_kmeans.recency >= Q1 - 1.5*IQR) & (df_kmeans.recency <= Q3 + 1.5*IQR)]\n",
    "\n",
    "# Removing outliers for Frequency\n",
    "Q1 = df_kmeans.frequency.quantile(0.05)\n",
    "Q3 = df_kmeans.frequency.quantile(0.95)\n",
    "IQR = Q3 - Q1\n",
    "df_kmeans = df_kmeans[(df_kmeans.frequency >= Q1 - 1.5*IQR) & (df_kmeans.frequency <= Q3 + 1.5*IQR)]"
   ]
  },
  {
   "cell_type": "code",
   "execution_count": 81,
   "id": "equipped-muscle",
   "metadata": {
    "execution": {
     "iopub.execute_input": "2023-04-13T10:03:37.758235Z",
     "iopub.status.busy": "2023-04-13T10:03:37.756864Z",
     "iopub.status.idle": "2023-04-13T10:03:37.774244Z",
     "shell.execute_reply": "2023-04-13T10:03:37.773468Z",
     "shell.execute_reply.started": "2023-04-13T09:49:22.815045Z"
    },
    "papermill": {
     "duration": 0.15317,
     "end_time": "2023-04-13T10:03:37.774417",
     "exception": false,
     "start_time": "2023-04-13T10:03:37.621247",
     "status": "completed"
    },
    "tags": []
   },
   "outputs": [
    {
     "name": "stdout",
     "output_type": "stream",
     "text": [
      "<class 'pandas.core.frame.DataFrame'>\n",
      "RangeIndex: 4259 entries, 0 to 4258\n",
      "Data columns (total 4 columns):\n",
      " #   Column      Non-Null Count  Dtype  \n",
      "---  ------      --------------  -----  \n",
      " 0   CustomerID  4259 non-null   float64\n",
      " 1   recency     4259 non-null   int64  \n",
      " 2   frequency   4259 non-null   int64  \n",
      " 3   monetary    4259 non-null   float64\n",
      "dtypes: float64(2), int64(2)\n",
      "memory usage: 133.2 KB\n"
     ]
    }
   ],
   "source": [
    "# resetting the index\n",
    "df_kmeans = df_kmeans.reset_index(drop=True)\n",
    "df_kmeans.info()"
   ]
  },
  {
   "cell_type": "code",
   "execution_count": 82,
   "id": "conservative-activity",
   "metadata": {
    "execution": {
     "iopub.execute_input": "2023-04-13T10:03:38.032528Z",
     "iopub.status.busy": "2023-04-13T10:03:38.031776Z",
     "iopub.status.idle": "2023-04-13T10:03:38.047488Z",
     "shell.execute_reply": "2023-04-13T10:03:38.046310Z",
     "shell.execute_reply.started": "2023-04-13T09:49:22.830902Z"
    },
    "papermill": {
     "duration": 0.147285,
     "end_time": "2023-04-13T10:03:38.047699",
     "exception": false,
     "start_time": "2023-04-13T10:03:37.900414",
     "status": "completed"
    },
    "tags": []
   },
   "outputs": [
    {
     "data": {
      "text/html": [
       "<div>\n",
       "<style scoped>\n",
       "    .dataframe tbody tr th:only-of-type {\n",
       "        vertical-align: middle;\n",
       "    }\n",
       "\n",
       "    .dataframe tbody tr th {\n",
       "        vertical-align: top;\n",
       "    }\n",
       "\n",
       "    .dataframe thead th {\n",
       "        text-align: right;\n",
       "    }\n",
       "</style>\n",
       "<table border=\"1\" class=\"dataframe\">\n",
       "  <thead>\n",
       "    <tr style=\"text-align: right;\">\n",
       "      <th></th>\n",
       "      <th>CustomerID</th>\n",
       "      <th>recency</th>\n",
       "      <th>frequency</th>\n",
       "      <th>monetary</th>\n",
       "    </tr>\n",
       "  </thead>\n",
       "  <tbody>\n",
       "    <tr>\n",
       "      <th>3477</th>\n",
       "      <td>17181.0</td>\n",
       "      <td>58</td>\n",
       "      <td>2</td>\n",
       "      <td>239.92</td>\n",
       "    </tr>\n",
       "    <tr>\n",
       "      <th>1217</th>\n",
       "      <td>14034.0</td>\n",
       "      <td>23</td>\n",
       "      <td>3</td>\n",
       "      <td>648.89</td>\n",
       "    </tr>\n",
       "    <tr>\n",
       "      <th>3529</th>\n",
       "      <td>17254.0</td>\n",
       "      <td>5</td>\n",
       "      <td>2</td>\n",
       "      <td>271.19</td>\n",
       "    </tr>\n",
       "    <tr>\n",
       "      <th>3857</th>\n",
       "      <td>17716.0</td>\n",
       "      <td>23</td>\n",
       "      <td>11</td>\n",
       "      <td>5655.99</td>\n",
       "    </tr>\n",
       "    <tr>\n",
       "      <th>1788</th>\n",
       "      <td>14837.0</td>\n",
       "      <td>90</td>\n",
       "      <td>4</td>\n",
       "      <td>1649.50</td>\n",
       "    </tr>\n",
       "  </tbody>\n",
       "</table>\n",
       "</div>"
      ],
      "text/plain": [
       "      CustomerID  recency  frequency  monetary\n",
       "3477     17181.0       58          2    239.92\n",
       "1217     14034.0       23          3    648.89\n",
       "3529     17254.0        5          2    271.19\n",
       "3857     17716.0       23         11   5655.99\n",
       "1788     14837.0       90          4   1649.50"
      ]
     },
     "execution_count": 82,
     "metadata": {},
     "output_type": "execute_result"
    }
   ],
   "source": [
    "# looking at random 5 rows\n",
    "df_kmeans.sample(5)"
   ]
  },
  {
   "cell_type": "code",
   "execution_count": 83,
   "id": "hungarian-throw",
   "metadata": {
    "execution": {
     "iopub.execute_input": "2023-04-13T10:03:38.317452Z",
     "iopub.status.busy": "2023-04-13T10:03:38.316585Z",
     "iopub.status.idle": "2023-04-13T10:03:38.332337Z",
     "shell.execute_reply": "2023-04-13T10:03:38.332900Z",
     "shell.execute_reply.started": "2023-04-13T09:49:22.852756Z"
    },
    "papermill": {
     "duration": 0.158829,
     "end_time": "2023-04-13T10:03:38.333135",
     "exception": false,
     "start_time": "2023-04-13T10:03:38.174306",
     "status": "completed"
    },
    "tags": []
   },
   "outputs": [
    {
     "data": {
      "text/html": [
       "<div>\n",
       "<style scoped>\n",
       "    .dataframe tbody tr th:only-of-type {\n",
       "        vertical-align: middle;\n",
       "    }\n",
       "\n",
       "    .dataframe tbody tr th {\n",
       "        vertical-align: top;\n",
       "    }\n",
       "\n",
       "    .dataframe thead th {\n",
       "        text-align: right;\n",
       "    }\n",
       "</style>\n",
       "<table border=\"1\" class=\"dataframe\">\n",
       "  <thead>\n",
       "    <tr style=\"text-align: right;\">\n",
       "      <th></th>\n",
       "      <th>recency</th>\n",
       "      <th>frequency</th>\n",
       "      <th>monetary</th>\n",
       "    </tr>\n",
       "  </thead>\n",
       "  <tbody>\n",
       "    <tr>\n",
       "      <th>0</th>\n",
       "      <td>-0.912760</td>\n",
       "      <td>0.877595</td>\n",
       "      <td>1.680623</td>\n",
       "    </tr>\n",
       "    <tr>\n",
       "      <th>1</th>\n",
       "      <td>-0.184490</td>\n",
       "      <td>0.098534</td>\n",
       "      <td>0.272852</td>\n",
       "    </tr>\n",
       "    <tr>\n",
       "      <th>2</th>\n",
       "      <td>-0.753139</td>\n",
       "      <td>-0.680528</td>\n",
       "      <td>0.250616</td>\n",
       "    </tr>\n",
       "    <tr>\n",
       "      <th>3</th>\n",
       "      <td>2.159940</td>\n",
       "      <td>-0.680528</td>\n",
       "      <td>-0.546702</td>\n",
       "    </tr>\n",
       "    <tr>\n",
       "      <th>4</th>\n",
       "      <td>-0.573566</td>\n",
       "      <td>0.877595</td>\n",
       "      <td>0.199179</td>\n",
       "    </tr>\n",
       "  </tbody>\n",
       "</table>\n",
       "</div>"
      ],
      "text/plain": [
       "    recency  frequency  monetary\n",
       "0 -0.912760   0.877595  1.680623\n",
       "1 -0.184490   0.098534  0.272852\n",
       "2 -0.753139  -0.680528  0.250616\n",
       "3  2.159940  -0.680528 -0.546702\n",
       "4 -0.573566   0.877595  0.199179"
      ]
     },
     "execution_count": 83,
     "metadata": {},
     "output_type": "execute_result"
    }
   ],
   "source": [
    "# removing customer id as it will not used in making cluster\n",
    "df_kmeans = df_kmeans.iloc[:,1:]\n",
    "\n",
    "# scaling the variables and store it in different df\n",
    "standard_scaler = StandardScaler()\n",
    "df_kmeans_norm = standard_scaler.fit_transform(df_kmeans)\n",
    "\n",
    "# converting it into dataframe\n",
    "df_kmeans_norm = pd.DataFrame(df_kmeans_norm)\n",
    "df_kmeans_norm.columns = ['recency','frequency','monetary']\n",
    "df_kmeans_norm.head()"
   ]
  },
  {
   "cell_type": "code",
   "execution_count": 84,
   "id": "covered-fault",
   "metadata": {
    "execution": {
     "iopub.execute_input": "2023-04-13T10:03:38.596323Z",
     "iopub.status.busy": "2023-04-13T10:03:38.595562Z",
     "iopub.status.idle": "2023-04-13T10:03:40.029890Z",
     "shell.execute_reply": "2023-04-13T10:03:40.031004Z",
     "shell.execute_reply.started": "2023-04-13T09:49:22.875482Z"
    },
    "papermill": {
     "duration": 1.571808,
     "end_time": "2023-04-13T10:03:40.031309",
     "exception": false,
     "start_time": "2023-04-13T10:03:38.459501",
     "status": "completed"
    },
    "tags": []
   },
   "outputs": [
    {
     "data": {
      "text/plain": [
       "KMeans(n_clusters=5)"
      ]
     },
     "execution_count": 84,
     "metadata": {},
     "output_type": "execute_result"
    }
   ],
   "source": [
    "# Kmeans with K=5\n",
    "\n",
    "model_clus5 = KMeans(n_clusters = 5)\n",
    "model_clus5.fit(df_kmeans_norm)"
   ]
  },
  {
   "cell_type": "code",
   "execution_count": 85,
   "id": "hairy-producer",
   "metadata": {
    "execution": {
     "iopub.execute_input": "2023-04-13T10:03:40.302596Z",
     "iopub.status.busy": "2023-04-13T10:03:40.301308Z",
     "iopub.status.idle": "2023-04-13T10:03:40.307504Z",
     "shell.execute_reply": "2023-04-13T10:03:40.306811Z",
     "shell.execute_reply.started": "2023-04-13T09:49:24.266427Z"
    },
    "papermill": {
     "duration": 0.142918,
     "end_time": "2023-04-13T10:03:40.307680",
     "exception": false,
     "start_time": "2023-04-13T10:03:40.164762",
     "status": "completed"
    },
    "tags": []
   },
   "outputs": [
    {
     "data": {
      "text/plain": [
       "array([3, 0, 1, ..., 1, 3, 0], dtype=int32)"
      ]
     },
     "execution_count": 85,
     "metadata": {},
     "output_type": "execute_result"
    }
   ],
   "source": [
    "# checking the labels\n",
    "model_clus5.labels_"
   ]
  },
  {
   "cell_type": "code",
   "execution_count": 86,
   "id": "explicit-feedback",
   "metadata": {
    "execution": {
     "iopub.execute_input": "2023-04-13T10:03:40.579921Z",
     "iopub.status.busy": "2023-04-13T10:03:40.578760Z",
     "iopub.status.idle": "2023-04-13T10:03:40.585636Z",
     "shell.execute_reply": "2023-04-13T10:03:40.586208Z",
     "shell.execute_reply.started": "2023-04-13T09:49:24.274563Z"
    },
    "papermill": {
     "duration": 0.151863,
     "end_time": "2023-04-13T10:03:40.586410",
     "exception": false,
     "start_time": "2023-04-13T10:03:40.434547",
     "status": "completed"
    },
    "tags": []
   },
   "outputs": [
    {
     "data": {
      "text/html": [
       "<div>\n",
       "<style scoped>\n",
       "    .dataframe tbody tr th:only-of-type {\n",
       "        vertical-align: middle;\n",
       "    }\n",
       "\n",
       "    .dataframe tbody tr th {\n",
       "        vertical-align: top;\n",
       "    }\n",
       "\n",
       "    .dataframe thead th {\n",
       "        text-align: right;\n",
       "    }\n",
       "</style>\n",
       "<table border=\"1\" class=\"dataframe\">\n",
       "  <thead>\n",
       "    <tr style=\"text-align: right;\">\n",
       "      <th></th>\n",
       "      <th>recency</th>\n",
       "      <th>frequency</th>\n",
       "      <th>monetary</th>\n",
       "      <th>clusters</th>\n",
       "    </tr>\n",
       "  </thead>\n",
       "  <tbody>\n",
       "    <tr>\n",
       "      <th>0</th>\n",
       "      <td>3</td>\n",
       "      <td>7</td>\n",
       "      <td>4310.00</td>\n",
       "      <td>3</td>\n",
       "    </tr>\n",
       "    <tr>\n",
       "      <th>1</th>\n",
       "      <td>76</td>\n",
       "      <td>4</td>\n",
       "      <td>1797.24</td>\n",
       "      <td>0</td>\n",
       "    </tr>\n",
       "    <tr>\n",
       "      <th>2</th>\n",
       "      <td>19</td>\n",
       "      <td>1</td>\n",
       "      <td>1757.55</td>\n",
       "      <td>1</td>\n",
       "    </tr>\n",
       "    <tr>\n",
       "      <th>3</th>\n",
       "      <td>311</td>\n",
       "      <td>1</td>\n",
       "      <td>334.40</td>\n",
       "      <td>2</td>\n",
       "    </tr>\n",
       "    <tr>\n",
       "      <th>4</th>\n",
       "      <td>37</td>\n",
       "      <td>7</td>\n",
       "      <td>1665.74</td>\n",
       "      <td>0</td>\n",
       "    </tr>\n",
       "  </tbody>\n",
       "</table>\n",
       "</div>"
      ],
      "text/plain": [
       "   recency  frequency  monetary  clusters\n",
       "0        3          7   4310.00         3\n",
       "1       76          4   1797.24         0\n",
       "2       19          1   1757.55         1\n",
       "3      311          1    334.40         2\n",
       "4       37          7   1665.74         0"
      ]
     },
     "execution_count": 86,
     "metadata": {},
     "output_type": "execute_result"
    }
   ],
   "source": [
    "df_kmeans['clusters'] = model_clus5.labels_\n",
    "df_kmeans.head()"
   ]
  },
  {
   "cell_type": "code",
   "execution_count": 87,
   "id": "temporal-swedish",
   "metadata": {
    "execution": {
     "iopub.execute_input": "2023-04-13T10:03:40.861042Z",
     "iopub.status.busy": "2023-04-13T10:03:40.860237Z",
     "iopub.status.idle": "2023-04-13T10:03:40.877966Z",
     "shell.execute_reply": "2023-04-13T10:03:40.877242Z",
     "shell.execute_reply.started": "2023-04-13T09:49:24.292880Z"
    },
    "papermill": {
     "duration": 0.153545,
     "end_time": "2023-04-13T10:03:40.878165",
     "exception": false,
     "start_time": "2023-04-13T10:03:40.724620",
     "status": "completed"
    },
    "tags": []
   },
   "outputs": [
    {
     "data": {
      "text/html": [
       "<div>\n",
       "<style scoped>\n",
       "    .dataframe tbody tr th:only-of-type {\n",
       "        vertical-align: middle;\n",
       "    }\n",
       "\n",
       "    .dataframe tbody tr th {\n",
       "        vertical-align: top;\n",
       "    }\n",
       "\n",
       "    .dataframe thead th {\n",
       "        text-align: right;\n",
       "    }\n",
       "</style>\n",
       "<table border=\"1\" class=\"dataframe\">\n",
       "  <thead>\n",
       "    <tr style=\"text-align: right;\">\n",
       "      <th></th>\n",
       "      <th>recency</th>\n",
       "      <th>frequency</th>\n",
       "      <th>monetary</th>\n",
       "    </tr>\n",
       "    <tr>\n",
       "      <th>clusters</th>\n",
       "      <th></th>\n",
       "      <th></th>\n",
       "      <th></th>\n",
       "    </tr>\n",
       "  </thead>\n",
       "  <tbody>\n",
       "    <tr>\n",
       "      <th>0</th>\n",
       "      <td>34.0</td>\n",
       "      <td>6.0</td>\n",
       "      <td>2014.0</td>\n",
       "    </tr>\n",
       "    <tr>\n",
       "      <th>1</th>\n",
       "      <td>55.0</td>\n",
       "      <td>2.0</td>\n",
       "      <td>574.0</td>\n",
       "    </tr>\n",
       "    <tr>\n",
       "      <th>2</th>\n",
       "      <td>254.0</td>\n",
       "      <td>1.0</td>\n",
       "      <td>434.0</td>\n",
       "    </tr>\n",
       "    <tr>\n",
       "      <th>3</th>\n",
       "      <td>24.0</td>\n",
       "      <td>11.0</td>\n",
       "      <td>4297.0</td>\n",
       "    </tr>\n",
       "    <tr>\n",
       "      <th>4</th>\n",
       "      <td>14.0</td>\n",
       "      <td>18.0</td>\n",
       "      <td>8775.0</td>\n",
       "    </tr>\n",
       "  </tbody>\n",
       "</table>\n",
       "</div>"
      ],
      "text/plain": [
       "          recency  frequency  monetary\n",
       "clusters                              \n",
       "0            34.0        6.0    2014.0\n",
       "1            55.0        2.0     574.0\n",
       "2           254.0        1.0     434.0\n",
       "3            24.0       11.0    4297.0\n",
       "4            14.0       18.0    8775.0"
      ]
     },
     "execution_count": 87,
     "metadata": {},
     "output_type": "execute_result"
    }
   ],
   "source": [
    "df_kmeans.groupby('clusters').mean().round(0)"
   ]
  },
  {
   "cell_type": "code",
   "execution_count": 88,
   "id": "unable-crawford",
   "metadata": {
    "execution": {
     "iopub.execute_input": "2023-04-13T10:03:41.157431Z",
     "iopub.status.busy": "2023-04-13T10:03:41.154969Z",
     "iopub.status.idle": "2023-04-13T10:04:05.146422Z",
     "shell.execute_reply": "2023-04-13T10:04:05.145167Z",
     "shell.execute_reply.started": "2023-04-13T09:49:24.319545Z"
    },
    "papermill": {
     "duration": 24.137531,
     "end_time": "2023-04-13T10:04:05.146721",
     "exception": false,
     "start_time": "2023-04-13T10:03:41.009190",
     "status": "completed"
    },
    "tags": []
   },
   "outputs": [
    {
     "data": {
      "image/png": "[encoded data removed]",
      "text/plain": [
       "<Figure size 720x360 with 1 Axes>"
      ]
     },
     "metadata": {},
     "output_type": "display_data"
    }
   ],
   "source": [
    "# Elbow-curve/SSD\n",
    "\n",
    "ssd = []\n",
    "for num_clusters in list(range(1,11)):\n",
    "    model_clus = KMeans(n_clusters = num_clusters, max_iter=50)\n",
    "    model_clus.fit(df_kmeans_norm)\n",
    "    ssd.append(model_clus.inertia_)\n",
    "    \n",
    "# plot the SSDs for each n_clusters\n",
    "plt.figure(figsize=(10,5))\n",
    "plt.plot(np.arange(1,11,1), ssd)\n",
    "plt.xlabel('Number of cluster', size=12)\n",
    "plt.ylabel('Sum of Square Distance(SSD)', size=12)\n",
    "plt.title('Elbow Curve for deciding K', size=15)\n",
    "plt.show()"
   ]
  },
  {
   "cell_type": "code",
   "execution_count": 89,
   "id": "labeled-theory",
   "metadata": {
    "execution": {
     "iopub.execute_input": "2023-04-13T10:04:05.434653Z",
     "iopub.status.busy": "2023-04-13T10:04:05.433761Z",
     "iopub.status.idle": "2023-04-13T10:04:28.764197Z",
     "shell.execute_reply": "2023-04-13T10:04:28.763350Z",
     "shell.execute_reply.started": "2023-04-13T09:49:45.518600Z"
    },
    "papermill": {
     "duration": 23.478186,
     "end_time": "2023-04-13T10:04:28.764393",
     "exception": false,
     "start_time": "2023-04-13T10:04:05.286207",
     "status": "completed"
    },
    "tags": []
   },
   "outputs": [
    {
     "name": "stdout",
     "output_type": "stream",
     "text": [
      "For n_clusters=2, the silhouette score is 0.5460929706945657\n",
      "For n_clusters=3, the silhouette score is 0.5105004334604668\n",
      "For n_clusters=4, the silhouette score is 0.4865715970728021\n",
      "For n_clusters=5, the silhouette score is 0.4417636857102814\n",
      "For n_clusters=6, the silhouette score is 0.4169656865593138\n",
      "For n_clusters=7, the silhouette score is 0.41751507836186597\n",
      "For n_clusters=8, the silhouette score is 0.38667007992559166\n",
      "For n_clusters=9, the silhouette score is 0.3860703912523664\n",
      "For n_clusters=10, the silhouette score is 0.35202093637861775\n"
     ]
    }
   ],
   "source": [
    "# Silhouette analysis\n",
    "\n",
    "for num_clusters in list(range(2,11)):\n",
    "    # intialise kmeans\n",
    "    model_clus = KMeans(n_clusters = num_clusters, max_iter=50)\n",
    "    model_clus.fit(df_kmeans_norm)\n",
    "    \n",
    "    cluster_labels = model_clus.labels_\n",
    "    \n",
    "    # silhouette score\n",
    "    silhouette_avg = silhouette_score(df_kmeans_norm, cluster_labels)\n",
    "    print(\"For n_clusters={0}, the silhouette score is {1}\".format(num_clusters, silhouette_avg))"
   ]
  },
  {
   "cell_type": "code",
   "execution_count": 90,
   "id": "loose-trustee",
   "metadata": {
    "execution": {
     "iopub.execute_input": "2023-04-13T10:04:29.060958Z",
     "iopub.status.busy": "2023-04-13T10:04:29.059175Z",
     "iopub.status.idle": "2023-04-13T10:04:30.341488Z",
     "shell.execute_reply": "2023-04-13T10:04:30.342850Z",
     "shell.execute_reply.started": "2023-04-13T09:50:11.459336Z"
    },
    "papermill": {
     "duration": 1.438818,
     "end_time": "2023-04-13T10:04:30.343288",
     "exception": false,
     "start_time": "2023-04-13T10:04:28.904470",
     "status": "completed"
    },
    "tags": []
   },
   "outputs": [
    {
     "data": {
      "text/plain": [
       "KMeans(n_clusters=3)"
      ]
     },
     "execution_count": 90,
     "metadata": {},
     "output_type": "execute_result"
    }
   ],
   "source": [
    "# Kmeans with K=3\n",
    "model_clus3 = KMeans(n_clusters = 3)\n",
    "model_clus3.fit(df_kmeans_norm)"
   ]
  },
  {
   "cell_type": "code",
   "execution_count": 91,
   "id": "original-studio",
   "metadata": {
    "execution": {
     "iopub.execute_input": "2023-04-13T10:04:30.648330Z",
     "iopub.status.busy": "2023-04-13T10:04:30.647332Z",
     "iopub.status.idle": "2023-04-13T10:04:30.653172Z",
     "shell.execute_reply": "2023-04-13T10:04:30.652525Z",
     "shell.execute_reply.started": "2023-04-13T09:50:12.485391Z"
    },
    "papermill": {
     "duration": 0.163955,
     "end_time": "2023-04-13T10:04:30.653369",
     "exception": false,
     "start_time": "2023-04-13T10:04:30.489414",
     "status": "completed"
    },
    "tags": []
   },
   "outputs": [
    {
     "data": {
      "text/html": [
       "<div>\n",
       "<style scoped>\n",
       "    .dataframe tbody tr th:only-of-type {\n",
       "        vertical-align: middle;\n",
       "    }\n",
       "\n",
       "    .dataframe tbody tr th {\n",
       "        vertical-align: top;\n",
       "    }\n",
       "\n",
       "    .dataframe thead th {\n",
       "        text-align: right;\n",
       "    }\n",
       "</style>\n",
       "<table border=\"1\" class=\"dataframe\">\n",
       "  <thead>\n",
       "    <tr style=\"text-align: right;\">\n",
       "      <th></th>\n",
       "      <th>recency</th>\n",
       "      <th>frequency</th>\n",
       "      <th>monetary</th>\n",
       "      <th>clusters</th>\n",
       "    </tr>\n",
       "  </thead>\n",
       "  <tbody>\n",
       "    <tr>\n",
       "      <th>0</th>\n",
       "      <td>3</td>\n",
       "      <td>7</td>\n",
       "      <td>4310.00</td>\n",
       "      <td>2</td>\n",
       "    </tr>\n",
       "    <tr>\n",
       "      <th>1</th>\n",
       "      <td>76</td>\n",
       "      <td>4</td>\n",
       "      <td>1797.24</td>\n",
       "      <td>0</td>\n",
       "    </tr>\n",
       "    <tr>\n",
       "      <th>2</th>\n",
       "      <td>19</td>\n",
       "      <td>1</td>\n",
       "      <td>1757.55</td>\n",
       "      <td>0</td>\n",
       "    </tr>\n",
       "    <tr>\n",
       "      <th>3</th>\n",
       "      <td>311</td>\n",
       "      <td>1</td>\n",
       "      <td>334.40</td>\n",
       "      <td>1</td>\n",
       "    </tr>\n",
       "    <tr>\n",
       "      <th>4</th>\n",
       "      <td>37</td>\n",
       "      <td>7</td>\n",
       "      <td>1665.74</td>\n",
       "      <td>0</td>\n",
       "    </tr>\n",
       "  </tbody>\n",
       "</table>\n",
       "</div>"
      ],
      "text/plain": [
       "   recency  frequency  monetary  clusters\n",
       "0        3          7   4310.00         2\n",
       "1       76          4   1797.24         0\n",
       "2       19          1   1757.55         0\n",
       "3      311          1    334.40         1\n",
       "4       37          7   1665.74         0"
      ]
     },
     "execution_count": 91,
     "metadata": {},
     "output_type": "execute_result"
    }
   ],
   "source": [
    "df_kmeans['clusters'] = model_clus3.labels_\n",
    "df_kmeans.head()"
   ]
  },
  {
   "cell_type": "code",
   "execution_count": 92,
   "id": "elder-angel",
   "metadata": {
    "execution": {
     "iopub.execute_input": "2023-04-13T10:04:30.952429Z",
     "iopub.status.busy": "2023-04-13T10:04:30.951620Z",
     "iopub.status.idle": "2023-04-13T10:04:30.968369Z",
     "shell.execute_reply": "2023-04-13T10:04:30.967750Z",
     "shell.execute_reply.started": "2023-04-13T09:50:12.502811Z"
    },
    "papermill": {
     "duration": 0.171445,
     "end_time": "2023-04-13T10:04:30.968555",
     "exception": false,
     "start_time": "2023-04-13T10:04:30.797110",
     "status": "completed"
    },
    "tags": []
   },
   "outputs": [
    {
     "data": {
      "text/html": [
       "<div>\n",
       "<style scoped>\n",
       "    .dataframe tbody tr th:only-of-type {\n",
       "        vertical-align: middle;\n",
       "    }\n",
       "\n",
       "    .dataframe tbody tr th {\n",
       "        vertical-align: top;\n",
       "    }\n",
       "\n",
       "    .dataframe thead th {\n",
       "        text-align: right;\n",
       "    }\n",
       "</style>\n",
       "<table border=\"1\" class=\"dataframe\">\n",
       "  <thead>\n",
       "    <tr style=\"text-align: right;\">\n",
       "      <th></th>\n",
       "      <th>recency</th>\n",
       "      <th>frequency</th>\n",
       "      <th>monetary</th>\n",
       "    </tr>\n",
       "    <tr>\n",
       "      <th>clusters</th>\n",
       "      <th></th>\n",
       "      <th></th>\n",
       "      <th></th>\n",
       "    </tr>\n",
       "  </thead>\n",
       "  <tbody>\n",
       "    <tr>\n",
       "      <th>0</th>\n",
       "      <td>47.0</td>\n",
       "      <td>3.0</td>\n",
       "      <td>1011.0</td>\n",
       "    </tr>\n",
       "    <tr>\n",
       "      <th>1</th>\n",
       "      <td>249.0</td>\n",
       "      <td>1.0</td>\n",
       "      <td>431.0</td>\n",
       "    </tr>\n",
       "    <tr>\n",
       "      <th>2</th>\n",
       "      <td>22.0</td>\n",
       "      <td>12.0</td>\n",
       "      <td>5384.0</td>\n",
       "    </tr>\n",
       "  </tbody>\n",
       "</table>\n",
       "</div>"
      ],
      "text/plain": [
       "          recency  frequency  monetary\n",
       "clusters                              \n",
       "0            47.0        3.0    1011.0\n",
       "1           249.0        1.0     431.0\n",
       "2            22.0       12.0    5384.0"
      ]
     },
     "execution_count": 92,
     "metadata": {},
     "output_type": "execute_result"
    }
   ],
   "source": [
    "df_kmeans.groupby('clusters').mean().round(0)"
   ]
  },
  {
   "cell_type": "code",
   "execution_count": 93,
   "id": "intended-timing",
   "metadata": {
    "execution": {
     "iopub.execute_input": "2023-04-13T10:04:31.290428Z",
     "iopub.status.busy": "2023-04-13T10:04:31.273928Z",
     "iopub.status.idle": "2023-04-13T10:04:31.888581Z",
     "shell.execute_reply": "2023-04-13T10:04:31.889184Z",
     "shell.execute_reply.started": "2023-04-13T09:50:12.525785Z"
    },
    "papermill": {
     "duration": 0.777253,
     "end_time": "2023-04-13T10:04:31.889393",
     "exception": false,
     "start_time": "2023-04-13T10:04:31.112140",
     "status": "completed"
    },
    "tags": []
   },
   "outputs": [
    {
     "data": {
      "image/png": "[encoded data removed]",
      "text/plain": [
       "<Figure size 1080x288 with 3 Axes>"
      ]
     },
     "metadata": {},
     "output_type": "display_data"
    }
   ],
   "source": [
    "column = ['recency','frequency','monetary']\n",
    "plt.figure(figsize=(15,4))\n",
    "for i,j in enumerate(column):\n",
    "    plt.subplot(1,3,i+1)\n",
    "    sns.boxplot(y=df_kmeans[j], x=df_kmeans['clusters'], palette='spring')\n",
    "    plt.title('{} wrt clusters'.format(j.upper()), size=13)\n",
    "    plt.ylabel('')\n",
    "    plt.xlabel('')\n",
    "\n",
    "plt.show()"
   ]
  },
  {
   "cell_type": "code",
   "execution_count": 94,
   "id": "divine-coast",
   "metadata": {
    "execution": {
     "iopub.execute_input": "2023-04-13T10:04:32.178329Z",
     "iopub.status.busy": "2023-04-13T10:04:32.177570Z",
     "iopub.status.idle": "2023-04-13T10:04:32.621657Z",
     "shell.execute_reply": "2023-04-13T10:04:32.622327Z",
     "shell.execute_reply.started": "2023-04-13T09:50:13.021728Z"
    },
    "papermill": {
     "duration": 0.592613,
     "end_time": "2023-04-13T10:04:32.622521",
     "exception": false,
     "start_time": "2023-04-13T10:04:32.029908",
     "status": "completed"
    },
    "tags": []
   },
   "outputs": [
    {
     "data": {
      "image/png": "[encoded data removed]",
      "text/plain": [
       "<Figure size 576x360 with 1 Axes>"
      ]
     },
     "metadata": {},
     "output_type": "display_data"
    }
   ],
   "source": [
    "# Creating figure\n",
    "fig = plt.figure(figsize = (8, 5))\n",
    "ax = plt.axes(projection =\"3d\")\n",
    "\n",
    "# Creating plot\n",
    "ax.scatter3D(df_kmeans.recency, df_kmeans.frequency, df_kmeans.monetary, c=df_kmeans.clusters, cmap='Accent')\n",
    "ax.set_xlabel('Recency')\n",
    "ax.set_ylabel('Frequency')\n",
    "ax.set_zlabel('Monetary')\n",
    "plt.title('RFM in 3D with Clusters', size=15)\n",
    "ax.set(facecolor='white')\n",
    "plt.show()"
   ]
  }
 ],
 "metadata": {
  "kernelspec": {
   "display_name": "Python 3",
   "language": "python",
   "name": "python3"
  },
  "language_info": {
   "codemirror_mode": {
    "name": "ipython",
    "version": 3
   },
   "file_extension": ".py",
   "mimetype": "text/x-python",
   "name": "python",
   "nbconvert_exporter": "python",
   "pygments_lexer": "ipython3",
   "version": "3.7.10"
  },
  "papermill": {
   "default_parameters": {},
   "duration": 254.245046,
   "end_time": "2023-04-13T10:04:35.283759",
   "environment_variables": {},
   "exception": null,
   "input_path": "__notebook__.ipynb",
   "output_path": "__notebook__.ipynb",
   "parameters": {},
   "start_time": "2023-04-13T10:00:21.038713",
   "version": "2.3.3"
  }
 },
 "nbformat": 4,
 "nbformat_minor": 5
}
